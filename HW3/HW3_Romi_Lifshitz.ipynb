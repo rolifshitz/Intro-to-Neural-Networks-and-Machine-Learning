{
 "cells": [
  {
   "cell_type": "markdown",
   "metadata": {},
   "source": [
    "# Homework 3: Two-Class and Multi-Class Classification"
   ]
  },
  {
   "cell_type": "code",
   "execution_count": 24,
   "metadata": {},
   "outputs": [],
   "source": [
    "# Author Name: Romi Lifshitz\n",
    "\n",
    "# With guidance from course textbook: Machine Learning Refined\n",
    "# Instructions can be found in the HW3_Instructions.pdf file on git\n",
    "\n",
    "import autograd.numpy as np\n",
    "from autograd import grad\n",
    "from autograd import value_and_grad\n",
    "import matplotlib.pyplot as pyplot "
   ]
  },
  {
   "cell_type": "markdown",
   "metadata": {},
   "source": [
    "# Exercise 1: Classifying Breast Cancer"
   ]
  },
  {
   "cell_type": "code",
   "execution_count": 85,
   "metadata": {},
   "outputs": [],
   "source": [
    "# data input\n",
    "csvname = 'breast_cancer_data.csv'\n",
    "data1 = np.loadtxt(csvname,delimiter = ',')\n",
    "\n",
    "# get input and output of dataset\n",
    "x = data1[:-1,:]\n",
    "y = data1[-1:,:]"
   ]
  },
  {
   "cell_type": "markdown",
   "metadata": {},
   "source": [
    "### 1.1 - Implementig softmax() and perceptron()"
   ]
  },
  {
   "cell_type": "code",
   "execution_count": 131,
   "metadata": {},
   "outputs": [],
   "source": [
    "# compute linear combination of input points\n",
    "def model(x,w):\n",
    "    a = w[0] + np.dot(x.T,w[1:])\n",
    "    return a.T\n",
    "\n",
    "# an implementation of the softmax cost\n",
    "def softmax(w):    \n",
    "    # compute the least squares cost\n",
    "    cost = np.sum(np.log(1 + np.exp(-y*model(x,w))))\n",
    "    return cost/float(np.size(y))\n",
    "\n",
    "# an implementation of the perceptron cost\n",
    "def perceptron(w):\n",
    "    mod = -y*model(x,w)\n",
    "    cost = np.sum(np.maximum(0,mod))\n",
    "    return cost/float(np.size(y))"
   ]
  },
  {
   "cell_type": "markdown",
   "metadata": {},
   "source": [
    "### 1.2 - Using gradient descent with softmax and perceptron to determine cost and weight history"
   ]
  },
  {
   "cell_type": "code",
   "execution_count": 87,
   "metadata": {},
   "outputs": [],
   "source": [
    "# gradient descent function - inputs: g (input function), \n",
    "# alpha (steplength parameter), \n",
    "# max_its (maximum number of iterations), w (initialization)\n",
    "def gradient_descent(g,alpha,max_its,w):\n",
    "    # compute gradient module using autograd\n",
    "    gradient = grad(g)\n",
    "\n",
    "    # run the gradient descent loop\n",
    "    weight_history = [w]     # container for weight history\n",
    "    cost_history = [g(w)]    # container for corresponding cost function history\n",
    "    for k in range(max_its):\n",
    "        # evaluate the gradient, store current weights and cost function value\n",
    "        grad_eval = gradient(w)\n",
    "\n",
    "        # take gradient descent step\n",
    "        w = w - alpha*grad_eval\n",
    "\n",
    "        # record weight and cost\n",
    "        weight_history.append(w)\n",
    "        cost_history.append(g(w))\n",
    "    return weight_history,cost_history"
   ]
  },
  {
   "cell_type": "code",
   "execution_count": 88,
   "metadata": {},
   "outputs": [],
   "source": [
    "w = 0.1*np.random.randn(9,1)\n",
    "# The cost and weight history corresponding to optimization \n",
    "# with each cost function are stored in the variables below:\n",
    "w_history_soft, c_history_soft = gradient_descent(softmax,1.0,1000,w)\n",
    "w_history_percep, c_history_percep = gradient_descent(perceptron,0.1,1000,w)"
   ]
  },
  {
   "cell_type": "markdown",
   "metadata": {},
   "source": [
    "### 1.3 - Creating miscount() and finding miscount history"
   ]
  },
  {
   "cell_type": "code",
   "execution_count": 89,
   "metadata": {},
   "outputs": [],
   "source": [
    "def miscount(w,x,y): # w is one set of weights from the weight history\n",
    "    I = 0\n",
    "    for i in range(0,x.shape[1]):\n",
    "        y_pred = model(x[:,i],w)\n",
    "        y_actual = y[0][i]\n",
    "        if np.sign(y_pred) != y_actual:\n",
    "            I += 1\n",
    "    return I\n",
    "\n",
    "miscount_history_soft = [miscount(v,x,y) for v in w_history_soft]\n",
    "miscount_history_percep = [miscount(v,x,y) for v in w_history_percep]"
   ]
  },
  {
   "cell_type": "markdown",
   "metadata": {},
   "source": [
    "### 1.4 - Comparing Performance of Cost Functions"
   ]
  },
  {
   "cell_type": "markdown",
   "metadata": {},
   "source": [
    "#### Plotting cost function history and misclassification history versus number of iterations"
   ]
  },
  {
   "cell_type": "code",
   "execution_count": 90,
   "metadata": {},
   "outputs": [
    {
     "data": {
      "text/plain": [
       "<matplotlib.legend.Legend at 0x11578ffd0>"
      ]
     },
     "execution_count": 90,
     "metadata": {},
     "output_type": "execute_result"
    },
    {
     "data": {
      "image/png": "[encoded data removed]",
      "text/plain": [
       "<Figure size 432x288 with 1 Axes>"
      ]
     },
     "metadata": {
      "needs_background": "light"
     },
     "output_type": "display_data"
    }
   ],
   "source": [
    "pyplot.plot(np.linspace(0,len(c_history_soft),len(c_history_soft)), c_history_soft, color='g', label='Softmax Cost Function')\n",
    "pyplot.plot(np.linspace(0,len(miscount_history_soft),len(miscount_history_soft)), miscount_history_soft, color='b', label='Softmax All Miscounts')\n",
    "\n",
    "pyplot.plot(np.linspace(0,len(c_history_percep),len(c_history_percep)), c_history_percep, color='tab:orange', label='Perceptron Cost Function')\n",
    "pyplot.plot(np.linspace(0,len(miscount_history_percep),len(miscount_history_percep)), miscount_history_percep, color='r', label='Perceptron All Miscounts')\n",
    "\n",
    "pyplot.xlabel('Iteration (k)')\n",
    "pyplot.ylabel('History')\n",
    "pyplot.title('Training History')\n",
    "pyplot.legend(loc = \"upper right\")"
   ]
  },
  {
   "cell_type": "markdown",
   "metadata": {},
   "source": [
    "#### Determining the minimum number of misclassifications for the 2 cost functions along with the misclassified malignant cases"
   ]
  },
  {
   "cell_type": "code",
   "execution_count": 91,
   "metadata": {},
   "outputs": [
    {
     "name": "stdout",
     "output_type": "stream",
     "text": [
      "The minimum number of misclassiciations for optimization using softmax is:  21\n",
      "The minimum number of misclassiciations for optimization using the perceptron is:  20\n"
     ]
    }
   ],
   "source": [
    "print(\"The minimum number of misclassiciations for optimization using softmax is: \", min(miscount_history_soft))\n",
    "print(\"The minimum number of misclassiciations for optimization using the perceptron is: \", min(miscount_history_percep))"
   ]
  },
  {
   "cell_type": "code",
   "execution_count": 92,
   "metadata": {},
   "outputs": [
    {
     "name": "stdout",
     "output_type": "stream",
     "text": [
      "The MINIMUM number of malignant misclassiciations for optimization using softmax is:  0\n",
      "The TOTAL number of malignant misclassiciations for optimization using softmax is:  20239\n",
      "The MINIMUM number of malignant misclassiciations for optimization using the perceptron is:  0\n",
      "The TOTAL number of malignant misclassiciations for optimization using the perceptron is:  21152\n"
     ]
    },
    {
     "data": {
      "image/png": "[encoded data removed]",
      "text/plain": [
       "<Figure size 432x288 with 1 Axes>"
      ]
     },
     "metadata": {
      "needs_background": "light"
     },
     "output_type": "display_data"
    }
   ],
   "source": [
    "def miscount_malignant(w,x,y):\n",
    "    I = 0\n",
    "    for i in range(0,x.shape[1]):\n",
    "        y_pred = model(x[:,i],w)\n",
    "        y_actual = y[0][i]\n",
    "        if np.sign(y_pred) != y_actual and y_actual == -1:\n",
    "            I += 1\n",
    "    return I\n",
    "\n",
    "miscount_history_soft = [miscount_malignant(v,x,y) \n",
    "                         for v in w_history_soft]\n",
    "miscount_history_percep = [miscount_malignant(v,x,y) \n",
    "                           for v in w_history_percep]\n",
    "\n",
    "pyplot.plot(np.linspace(0,len(c_history_soft),len(c_history_soft)), \n",
    "            c_history_soft, color='g', label='Softmax Cost Function')\n",
    "pyplot.plot(np.linspace(0,len(miscount_history_soft),len(miscount_history_soft)), \n",
    "            miscount_history_soft, color='b', label='Softmax Malignant Miscounts')\n",
    "\n",
    "pyplot.plot(np.linspace(0,len(c_history_percep),len(c_history_percep)), \n",
    "            c_history_percep, color='tab:orange', label='Perceptron Cost Function')\n",
    "pyplot.plot(np.linspace(0,len(miscount_history_percep),len(miscount_history_percep)), \n",
    "            miscount_history_percep, color='r', label='Perceptron Malignant Miscount')\n",
    "\n",
    "pyplot.xlabel('Iteration (k)')\n",
    "pyplot.ylabel('History')\n",
    "pyplot.title('Training History')\n",
    "pyplot.legend(loc = \"upper right\")\n",
    "\n",
    "print(\"The MINIMUM number of malignant misclassiciations for optimization using softmax is: \", min(miscount_history_soft))\n",
    "print(\"The TOTAL number of malignant misclassiciations for optimization using softmax is: \", sum(miscount_history_soft))\n",
    "print(\"The MINIMUM number of malignant misclassiciations for optimization using the perceptron is: \", min(miscount_history_percep))\n",
    "print(\"The TOTAL number of malignant misclassiciations for optimization using the perceptron is: \", sum(miscount_history_percep))"
   ]
  },
  {
   "cell_type": "code",
   "execution_count": 93,
   "metadata": {},
   "outputs": [
    {
     "data": {
      "text/plain": [
       "<matplotlib.legend.Legend at 0x11501ff28>"
      ]
     },
     "execution_count": 93,
     "metadata": {},
     "output_type": "execute_result"
    },
    {
     "data": {
      "image/png": "[encoded data removed]",
      "text/plain": [
       "<Figure size 432x288 with 1 Axes>"
      ]
     },
     "metadata": {
      "needs_background": "light"
     },
     "output_type": "display_data"
    }
   ],
   "source": [
    "# Also, to get a more clear view of the cost histories:\n",
    "pyplot.plot(np.linspace(0,len(c_history_soft),len(c_history_soft)), c_history_soft, color='g', label='Softmax Cost Function')\n",
    "pyplot.plot(np.linspace(0,len(c_history_percep),len(c_history_percep)), c_history_percep, color='tab:orange', label='Perceptron Cost Function')\n",
    "\n",
    "pyplot.xlabel('Iteration (k)')\n",
    "pyplot.ylabel('History')\n",
    "pyplot.title('Training History')\n",
    "pyplot.legend(loc = \"upper right\")"
   ]
  },
  {
   "cell_type": "markdown",
   "metadata": {},
   "source": [
    "### 1.5 - Logistic Regression and Cross Entropy Loss"
   ]
  },
  {
   "cell_type": "code",
   "execution_count": 94,
   "metadata": {},
   "outputs": [],
   "source": [
    "a=np.argwhere(y>0.9)\n",
    "b=np.argwhere(y<-0.9)\n",
    "yc=np.arange(699)\n",
    "yc[a]=1\n",
    "yc[b]=0"
   ]
  },
  {
   "cell_type": "code",
   "execution_count": 95,
   "metadata": {},
   "outputs": [],
   "source": [
    "# define sigmoid function\n",
    "def sigmoid(t):\n",
    "    return 1/(1 + np.exp(-t))\n",
    "\n",
    "# the convex cross-entropy cost function\n",
    "lam = 2*10**(-3)\n",
    "def cross_entropy(w):\n",
    "    # compute sigmoid of model\n",
    "    a = sigmoid(model(x,w))\n",
    "\n",
    "    # compute cost of label 0 points\n",
    "    ind = np.argwhere(yc == 0)\n",
    "    cost = -np.sum(np.log(1 - a[:,ind]))\n",
    "\n",
    "    # add cost on label 1 points\n",
    "    ind = np.argwhere(yc==1)\n",
    "    cost -= np.sum(np.log(a[:,ind]))\n",
    "\n",
    "    # add regularizer\n",
    "    cost += lam*np.sum(w[1:]**2)\n",
    "\n",
    "    # compute cross-entropy\n",
    "    return cost/float(np.size(yc))"
   ]
  },
  {
   "cell_type": "markdown",
   "metadata": {},
   "source": [
    "#### Determining weight and cost history"
   ]
  },
  {
   "cell_type": "code",
   "execution_count": 96,
   "metadata": {},
   "outputs": [
    {
     "data": {
      "text/plain": [
       "<matplotlib.legend.Legend at 0x10c9bf080>"
      ]
     },
     "execution_count": 96,
     "metadata": {},
     "output_type": "execute_result"
    },
    {
     "data": {
      "image/png": "[encoded data removed]",
      "text/plain": [
       "<Figure size 432x288 with 1 Axes>"
      ]
     },
     "metadata": {
      "needs_background": "light"
     },
     "output_type": "display_data"
    }
   ],
   "source": [
    "w = 0.1*np.random.randn(9,1)\n",
    "\n",
    "# The cost and weight history corresponding to optimization \n",
    "# with cross entropy loss are stored in the variables below:\n",
    "w_history_cross, c_history_cross = gradient_descent(cross_entropy,0.6,1000,w)\n",
    "\n",
    "# Here is a graph of the cost history in case you would like to visualize it: \n",
    "pyplot.plot(np.linspace(0,len(c_history_cross),len(c_history_cross)), c_history_cross, color='tab:orange', label='Cross Entropy Cost Function')\n",
    "pyplot.xlabel('Iteration (k)')\n",
    "pyplot.ylabel('History')\n",
    "pyplot.title('Training History')\n",
    "pyplot.legend(loc = \"upper right\")"
   ]
  },
  {
   "cell_type": "markdown",
   "metadata": {},
   "source": [
    "#### Determining number of misclassifications using weight history"
   ]
  },
  {
   "cell_type": "code",
   "execution_count": 97,
   "metadata": {},
   "outputs": [
    {
     "name": "stdout",
     "output_type": "stream",
     "text": [
      "The MINIMUM number of misclassiciations for optimization using logistic regression is:  23\n",
      "The TOTAL number of misclassiciations for optimization using logistic regression is:  42461\n"
     ]
    }
   ],
   "source": [
    "# Redefining misclassification in this case:\n",
    "\n",
    "def miscount_cross(w,x,y): \n",
    "    # where is one set of weights\n",
    "    I = 0\n",
    "    for i in range(0,x.shape[1]):\n",
    "        y_pred = np.round(sigmoid(model(x[:,i],w)))\n",
    "        y_actual = y[i]\n",
    "        if y_pred != y_actual:\n",
    "            I += 1\n",
    "    return I\n",
    "\n",
    "miscount_history_cross = [miscount_cross(v,x,yc) for v in w_history_cross]\n",
    "print(\"The MINIMUM number of misclassiciations for optimization using logistic regression is: \", min(miscount_history_cross))\n",
    "print(\"The TOTAL number of misclassiciations for optimization using logistic regression is: \", sum(miscount_history_cross))"
   ]
  },
  {
   "cell_type": "markdown",
   "metadata": {},
   "source": [
    "# Exercise 2: Classifying Spam Mail"
   ]
  },
  {
   "cell_type": "markdown",
   "metadata": {},
   "source": [
    "### 2.1 - Gradient descent, cost and weight history, miscount history"
   ]
  },
  {
   "cell_type": "code",
   "execution_count": 140,
   "metadata": {},
   "outputs": [],
   "source": [
    "# standard normalization function - with nan checker / filler in-er\n",
    "def standard_normalizer(x):    \n",
    "    # compute the mean and standard deviation of the input\n",
    "    x_means = np.nanmean(x,axis = 1)[:,np.newaxis]\n",
    "    x_stds = np.nanstd(x,axis = 1)[:,np.newaxis]   \n",
    "\n",
    "    # check to make sure that x_stds > small threshold, for those not\n",
    "    # divide by 1 instead of original standard deviation\n",
    "    ind = np.argwhere(x_stds < 10**(-2))\n",
    "    if len(ind) > 0:\n",
    "        ind = [v[0] for v in ind] # Just keep the row index\n",
    "        adjust = np.zeros((x_stds.shape))\n",
    "        adjust[ind] = 1.0\n",
    "        x_stds += adjust\n",
    "\n",
    "    # fill in any nan values with means \n",
    "    ind = np.argwhere(np.isnan(x) == True)\n",
    "    for i in ind:\n",
    "        x[i[0],i[1]] = x_means[i[0]]\n",
    "\n",
    "    # create standard normalizer function\n",
    "    normalizer = lambda data: (data - x_means)/x_stds\n",
    "\n",
    "    # create inverse standard normalizer\n",
    "    inverse_normalizer = lambda data: data*x_stds + x_means\n",
    "\n",
    "    # return normalizer \n",
    "    return normalizer,inverse_normalizer"
   ]
  },
  {
   "cell_type": "code",
   "execution_count": 141,
   "metadata": {},
   "outputs": [],
   "source": [
    "# data input\n",
    "csvname = 'spambase_data.csv'\n",
    "data = np.loadtxt(csvname,delimiter = ',')\n",
    "\n",
    "# get input and output of dataset\n",
    "x = data[:-1,:]\n",
    "y = data[-1:,:] \n",
    "normalizer,inverse_normalizer = standard_normalizer(x)\n",
    "x = normalizer(x)"
   ]
  },
  {
   "cell_type": "code",
   "execution_count": 142,
   "metadata": {},
   "outputs": [],
   "source": [
    "def miscount(w,x,y): # w here is one set of weights\n",
    "    I = 0\n",
    "    for i in range(0,x.shape[1]):\n",
    "        y_pred = model(x[:,i],w)\n",
    "        y_actual = y[0][i]\n",
    "        if np.sign(y_pred) != y_actual:\n",
    "            I += 1\n",
    "    return I"
   ]
  },
  {
   "cell_type": "markdown",
   "metadata": {},
   "source": [
    "### 2.1 - Using gradient descent to classify emails using softmax or perceptron cost, and construct miscount history"
   ]
  },
  {
   "cell_type": "code",
   "execution_count": 149,
   "metadata": {},
   "outputs": [
    {
     "data": {
      "text/plain": [
       "<matplotlib.legend.Legend at 0x117297978>"
      ]
     },
     "execution_count": 149,
     "metadata": {},
     "output_type": "execute_result"
    },
    {
     "data": {
      "image/png": "[encoded data removed]",
      "text/plain": [
       "<Figure size 432x288 with 1 Axes>"
      ]
     },
     "metadata": {
      "needs_background": "light"
     },
     "output_type": "display_data"
    }
   ],
   "source": [
    "w = 0.1*np.random.randn(58,1)\n",
    "\n",
    "# The cost and weight histories corresponding to optimization \n",
    "# with each cost function are stored in the variables below:\n",
    "w_history_soft, c_history_soft = gradient_descent(softmax,1.0,1000,w)\n",
    "w_history_percep, c_history_percep = gradient_descent(perceptron,0.1,1000,w)\n",
    "\n",
    "# The miscount histories corresponding to optimization \n",
    "# with each cost function are stored in the variables below:\n",
    "miscount_history_soft = [miscount(v,x,y) for v in w_history_soft]\n",
    "miscount_history_percep = [miscount(v,x,y) for v in w_history_percep]\n",
    "\n",
    "pyplot.plot(np.linspace(0,len(c_history_soft),len(c_history_soft)), c_history_soft, color='g', label='Softmax Cost Function')\n",
    "pyplot.plot(np.linspace(0,len(miscount_history_soft),len(miscount_history_soft)), miscount_history_soft, color='b', label='Softmax All Miscounts')\n",
    "\n",
    "pyplot.plot(np.linspace(0,len(c_history_percep),len(c_history_percep)), c_history_percep, color='tab:orange', label='Perceptron Cost Function')\n",
    "pyplot.plot(np.linspace(0,len(miscount_history_percep),len(miscount_history_percep)), miscount_history_percep, color='r', label='Perceptron All Miscounts')\n",
    "\n",
    "pyplot.xlabel('Iteration (k)')\n",
    "pyplot.ylabel('History')\n",
    "pyplot.title('Training History')\n",
    "pyplot.legend(loc = \"upper right\")"
   ]
  },
  {
   "cell_type": "code",
   "execution_count": 152,
   "metadata": {},
   "outputs": [
    {
     "data": {
      "text/plain": [
       "<matplotlib.legend.Legend at 0x1152d1da0>"
      ]
     },
     "execution_count": 152,
     "metadata": {},
     "output_type": "execute_result"
    },
    {
     "data": {
      "image/png": "[encoded data removed]",
      "text/plain": [
       "<Figure size 432x288 with 1 Axes>"
      ]
     },
     "metadata": {
      "needs_background": "light"
     },
     "output_type": "display_data"
    }
   ],
   "source": [
    "pyplot.plot(np.linspace(0,len(c_history_soft),len(c_history_soft)), c_history_soft, color='g', label='Softmax Cost Function')\n",
    "pyplot.plot(np.linspace(0,len(c_history_percep),len(c_history_percep)), c_history_percep, color='tab:orange', label='Perceptron Cost Function')\n",
    "\n",
    "pyplot.xlabel('Iteration (k)')\n",
    "pyplot.ylabel('Cost')\n",
    "pyplot.title('Training History')\n",
    "pyplot.legend(loc = \"upper right\")"
   ]
  },
  {
   "cell_type": "code",
   "execution_count": 153,
   "metadata": {},
   "outputs": [
    {
     "data": {
      "text/plain": [
       "<matplotlib.legend.Legend at 0x11535dba8>"
      ]
     },
     "execution_count": 153,
     "metadata": {},
     "output_type": "execute_result"
    },
    {
     "data": {
      "image/png": "[encoded data removed]",
      "text/plain": [
       "<Figure size 432x288 with 1 Axes>"
      ]
     },
     "metadata": {
      "needs_background": "light"
     },
     "output_type": "display_data"
    }
   ],
   "source": [
    "pyplot.plot(np.linspace(0,len(miscount_history_soft),len(miscount_history_soft)), miscount_history_soft, color='b', label='Softmax All Miscounts')\n",
    "pyplot.plot(np.linspace(0,len(miscount_history_percep),len(miscount_history_percep)), miscount_history_percep, color='r', label='Perceptron All Miscounts')\n",
    "\n",
    "pyplot.xlabel('Iteration (k)')\n",
    "pyplot.ylabel('Miscounts')\n",
    "pyplot.title('Training History')\n",
    "pyplot.legend(loc = \"upper right\")"
   ]
  },
  {
   "cell_type": "markdown",
   "metadata": {},
   "source": [
    "**Comment On Your Observations**\n",
    "<br/> As can be seen, the perceptron has many more miscounts overall than the softmax–as expected. However, the cost function of the perceptron achieves a lower minimum than that of softmax. This shows that it is possible for the cost function to be greater while misclassifications is lower."
   ]
  },
  {
   "cell_type": "markdown",
   "metadata": {},
   "source": [
    "### 2.2 - Accuracy and smallest number of misclassifications"
   ]
  },
  {
   "cell_type": "code",
   "execution_count": 154,
   "metadata": {},
   "outputs": [],
   "source": [
    "def accuracy(w_history, miscount_history, x, y):\n",
    "    \"\"\"\n",
    "    This function calculates the accuracy based on the \n",
    "    total number of misclassifications (for both classes combined).\n",
    "    Returns:\n",
    "        acc: the best possible accuracy; meaning, the accuracy \n",
    "            using the weights corresponding to the lowest number of misclassifications)\n",
    "        i: The index of w_history corresponding to the set of weights \n",
    "             that produce the least number of misclassifications\n",
    "    \"\"\"\n",
    "    # Find index i corresponding to the minimum value of miscount_history_percep.\n",
    "    # This is the index of the set of weights that give the least # of misclassif\n",
    "    min_miscounts = min(miscount_history)\n",
    "    for i in range(0, len(miscount_history)):\n",
    "        if miscount_history[i] == min_miscounts:\n",
    "            break\n",
    "    # Count the number of misclassifications for the best set of weights\n",
    "    # (the one with least misclassifications, at index i), and store in misc.\n",
    "    misc = miscount(w_history[i],x,y)\n",
    "    acc = 1 - misc/float(np.size(y))\n",
    "    return acc, i"
   ]
  },
  {
   "cell_type": "markdown",
   "metadata": {},
   "source": [
    "#### Softmax min misclassifications, and corresponding best accuracy and  best weight"
   ]
  },
  {
   "cell_type": "code",
   "execution_count": 155,
   "metadata": {},
   "outputs": [
    {
     "name": "stdout",
     "output_type": "stream",
     "text": [
      "The minimum number of misclassiciations for optimization using softmax cost is:  332\n",
      "The best accuracy achieved using the softmax cost is:  92.7841773527494 %\n",
      "The w corresponding to this best accuracy is: \n",
      " [[-2.28901336e+00]\n",
      " [-9.46348236e-02]\n",
      " [-2.05362750e-01]\n",
      " [ 7.40010751e-02]\n",
      " [ 7.67403766e-01]\n",
      " [ 3.69675243e-01]\n",
      " [ 1.70762189e-01]\n",
      " [ 9.61194567e-01]\n",
      " [ 2.27479058e-01]\n",
      " [ 1.53863829e-01]\n",
      " [ 7.21150364e-02]\n",
      " [-4.13234439e-02]\n",
      " [-1.31655478e-01]\n",
      " [-3.07219791e-02]\n",
      " [ 3.26547232e-02]\n",
      " [ 2.48410738e-01]\n",
      " [ 7.85157925e-01]\n",
      " [ 4.07481052e-01]\n",
      " [ 8.17749800e-02]\n",
      " [ 1.52729879e-01]\n",
      " [ 4.67254643e-01]\n",
      " [ 2.81216662e-01]\n",
      " [ 3.10755407e-01]\n",
      " [ 9.20442413e-01]\n",
      " [ 2.43598645e-01]\n",
      " [-2.45925956e+00]\n",
      " [-1.08188782e+00]\n",
      " [-3.27844160e+00]\n",
      " [ 2.28243096e-01]\n",
      " [-8.90693019e-01]\n",
      " [-1.52585902e-01]\n",
      " [-4.53301894e-01]\n",
      " [-1.72093919e-01]\n",
      " [-5.08514987e-01]\n",
      " [-2.00114960e-01]\n",
      " [-8.80383361e-01]\n",
      " [ 3.51323585e-01]\n",
      " [-7.04368394e-04]\n",
      " [-1.19392110e-01]\n",
      " [-3.13524241e-01]\n",
      " [-1.86360390e-01]\n",
      " [-1.06634625e+00]\n",
      " [-1.37083775e+00]\n",
      " [-2.22213724e-01]\n",
      " [-8.89879076e-01]\n",
      " [-8.02355763e-01]\n",
      " [-1.24536150e+00]\n",
      " [-1.65295098e-01]\n",
      " [-8.78503919e-01]\n",
      " [-3.31419225e-01]\n",
      " [-5.86925684e-02]\n",
      " [-1.41422207e-01]\n",
      " [ 3.57173315e-01]\n",
      " [ 1.35618735e+00]\n",
      " [ 7.65458815e-01]\n",
      " [ 4.18573444e-02]\n",
      " [ 1.16735749e+00]\n",
      " [ 4.19605920e-01]]\n"
     ]
    }
   ],
   "source": [
    "soft_acc = accuracy(w_history_soft, miscount_history_soft, x, y)[0]\n",
    "soft_index = accuracy(w_history_soft, miscount_history_soft, x, y)[1]\n",
    "\n",
    "print(\"The minimum number of misclassiciations for optimization using softmax cost is: \", min(miscount_history_soft))\n",
    "print(\"The best accuracy achieved using the softmax cost is: \", soft_acc*100, \"%\")\n",
    "# checking: miscount_history_soft[soft_index] == min(miscount_history_soft)\n",
    "print(\"The w corresponding to this best accuracy is: \\n\", w_history_soft[soft_index])"
   ]
  },
  {
   "cell_type": "markdown",
   "metadata": {},
   "source": [
    "#### Perceptron min misclassifications, and corresponding best accuracy and best weight"
   ]
  },
  {
   "cell_type": "code",
   "execution_count": 156,
   "metadata": {},
   "outputs": [
    {
     "name": "stdout",
     "output_type": "stream",
     "text": [
      "The minimum number of misclassiciations for optimization using perceptron cost is:  337\n",
      "The best accuracy achieved using perceptron cost is:  92.67550532492936 %\n",
      "The w corresponding to this best accuracy is: \n",
      " [[-2.77038123e-02]\n",
      " [-2.78880008e-03]\n",
      " [-3.93066992e-03]\n",
      " [ 1.04896690e-03]\n",
      " [ 7.16226235e-02]\n",
      " [ 3.73967239e-03]\n",
      " [ 2.31002223e-03]\n",
      " [ 5.82854367e-03]\n",
      " [ 2.11927033e-03]\n",
      " [ 2.35897821e-03]\n",
      " [ 1.24310083e-03]\n",
      " [-1.79224536e-03]\n",
      " [-1.86069557e-03]\n",
      " [-3.64546657e-04]\n",
      " [ 2.89072204e-04]\n",
      " [ 1.97622223e-03]\n",
      " [ 7.08504331e-03]\n",
      " [ 2.55983316e-03]\n",
      " [ 1.71604782e-03]\n",
      " [ 7.59638528e-04]\n",
      " [ 3.15079855e-03]\n",
      " [ 3.00798709e-03]\n",
      " [ 9.22527862e-04]\n",
      " [ 3.93688081e-03]\n",
      " [ 3.82374536e-03]\n",
      " [-1.51286374e-02]\n",
      " [-4.64908300e-03]\n",
      " [-6.01935560e-02]\n",
      " [ 1.79292627e-03]\n",
      " [-6.46907682e-02]\n",
      " [-7.36283803e-04]\n",
      " [-1.15161220e-03]\n",
      " [ 1.78748880e-04]\n",
      " [-1.44056647e-03]\n",
      " [-1.65334180e-03]\n",
      " [-7.61406442e-03]\n",
      " [ 2.66499499e-03]\n",
      " [ 1.45420141e-04]\n",
      " [-6.99683428e-04]\n",
      " [-2.12401166e-03]\n",
      " [-7.04405857e-04]\n",
      " [-3.22453138e-02]\n",
      " [-7.40031939e-03]\n",
      " [-1.58173511e-03]\n",
      " [-5.37266894e-03]\n",
      " [-6.20126701e-03]\n",
      " [-7.81665285e-03]\n",
      " [-1.95261011e-03]\n",
      " [-4.82372642e-03]\n",
      " [-1.46738200e-03]\n",
      " [-6.49108255e-05]\n",
      " [-4.76779803e-04]\n",
      " [ 5.16946189e-03]\n",
      " [ 7.98924606e-03]\n",
      " [ 5.39104563e-03]\n",
      " [ 1.14782401e-02]\n",
      " [ 4.05331078e-03]\n",
      " [ 3.93908020e-03]]\n"
     ]
    }
   ],
   "source": [
    "percep_acc = accuracy(w_history_percep, miscount_history_percep, x, y)[0]\n",
    "percep_index = accuracy(w_history_percep, miscount_history_percep, x, y)[1]\n",
    "print(\"The minimum number of misclassiciations for optimization using perceptron cost is: \", min(miscount_history_percep))\n",
    "# checking: miscount_history_percep[percep_index] == min(miscount_history_percep)\n",
    "print(\"The best accuracy achieved using perceptron cost is: \", percep_acc*100, \"%\")\n",
    "print(\"The w corresponding to this best accuracy is: \\n\", w_history_percep[percep_index])"
   ]
  },
  {
   "cell_type": "markdown",
   "metadata": {},
   "source": [
    "**Comment on your observations**\n",
    "<br/>As can be seen, the accuracy of our model using softmax cost (about 92.78%) during training is higher than the accuracy using perceptron cost (about 92.68%). Correspondingly, the minimum number of misclassifications using softmax is lower than the minimum number of misclassifications using perceptron. (There are less misclassifications with softmax than with perceptron.) This is expected, since softmax is at least twice as differentiable as the perceptron while still closely matching it everywhere. The perceptron has a sharp point at which we cannot take the derivative, making gradient descent difficult and limiting our optimization tools. Softmax allows us to take a derivative at this point while still maintaining very similar values to the perceptron, increasing the number of optimization methods we can use."
   ]
  },
  {
   "cell_type": "markdown",
   "metadata": {},
   "source": [
    "### 2.3 - Best w and confusion matrix"
   ]
  },
  {
   "cell_type": "code",
   "execution_count": 158,
   "metadata": {},
   "outputs": [
    {
     "name": "stdout",
     "output_type": "stream",
     "text": [
      "The best w using softmax is the last one in this case (at w_history_soft \n",
      "index 1000) since it has the lowest number of misclassifications.\n",
      "The corresponding confusion matrix for the best w using softmax is:\n",
      " [[1607  206]\n",
      " [ 126 2662]]\n",
      "This best w is:\n",
      " [[-2.33605272e+00]\n",
      " [-9.43163069e-02]\n",
      " [-2.05960088e-01]\n",
      " [ 7.34914276e-02]\n",
      " [ 7.86423356e-01]\n",
      " [ 3.69175561e-01]\n",
      " [ 1.71621304e-01]\n",
      " [ 9.58627347e-01]\n",
      " [ 2.27036164e-01]\n",
      " [ 1.54143001e-01]\n",
      " [ 7.21518616e-02]\n",
      " [-4.21372440e-02]\n",
      " [-1.31188615e-01]\n",
      " [-3.04476413e-02]\n",
      " [ 3.31266322e-02]\n",
      " [ 2.48202814e-01]\n",
      " [ 7.97763093e-01]\n",
      " [ 4.08076440e-01]\n",
      " [ 8.02066510e-02]\n",
      " [ 1.52017251e-01]\n",
      " [ 4.66676150e-01]\n",
      " [ 2.81230278e-01]\n",
      " [ 3.06443055e-01]\n",
      " [ 9.15222186e-01]\n",
      " [ 2.42431874e-01]\n",
      " [-2.49387337e+00]\n",
      " [-1.08425723e+00]\n",
      " [-3.36602989e+00]\n",
      " [ 2.29571559e-01]\n",
      " [-9.10509966e-01]\n",
      " [-1.51307761e-01]\n",
      " [-4.64660418e-01]\n",
      " [-1.74640122e-01]\n",
      " [-5.07097107e-01]\n",
      " [-1.99942019e-01]\n",
      " [-8.98007492e-01]\n",
      " [ 3.54028289e-01]\n",
      " [ 7.68732797e-05]\n",
      " [-1.21161564e-01]\n",
      " [-3.17257355e-01]\n",
      " [-1.85537831e-01]\n",
      " [-1.10170679e+00]\n",
      " [-1.39356657e+00]\n",
      " [-2.23560951e-01]\n",
      " [-8.97016033e-01]\n",
      " [-8.04256360e-01]\n",
      " [-1.25367455e+00]\n",
      " [-1.65596304e-01]\n",
      " [-8.91037477e-01]\n",
      " [-3.30524835e-01]\n",
      " [-5.84947571e-02]\n",
      " [-1.40483111e-01]\n",
      " [ 3.54433087e-01]\n",
      " [ 1.35547776e+00]\n",
      " [ 7.83325250e-01]\n",
      " [ 1.70019822e-02]\n",
      " [ 1.18363354e+00]\n",
      " [ 4.20437665e-01]]\n"
     ]
    }
   ],
   "source": [
    "# acc = (A+D)/(A+B+C+D)\n",
    "def confusion_matrix(w,x,y): # w here is one set of weights\n",
    "    A = 0\n",
    "    B = 0\n",
    "    C = 0\n",
    "    D = 0\n",
    "    for i in range(0,x.shape[1]):\n",
    "        y_pred = model(x[:,i],w)\n",
    "        y_actual = y[0][i]\n",
    "        if y_actual == 1:\n",
    "            if np.sign(y_pred) == 1:\n",
    "                A += 1\n",
    "            elif np.sign(y_pred) == -1:\n",
    "                B += 1\n",
    "        elif y_actual == -1:\n",
    "            if np.sign(y_pred) == 1:\n",
    "                C += 1\n",
    "            elif np.sign(y_pred) == -1:\n",
    "                D += 1\n",
    "    confusion = np.array([[A, B],\n",
    "                        [C, D]])\n",
    "    return confusion\n",
    "\n",
    "# The best w is the last one since it has the lowerst number of misclassifications.\n",
    "w_star = w_history_soft[-1]\n",
    "print(\"The best w using softmax is the last one in this case (at w_history_soft \\nindex 1000) since it has the lowest number of misclassifications.\")\n",
    "print(\"The corresponding confusion matrix for the best w using softmax is:\\n\", confusion_matrix(w_star,x,y))\n",
    "print(\"This best w is:\\n\", w_star)"
   ]
  },
  {
   "cell_type": "markdown",
   "metadata": {},
   "source": [
    "# Exercise 3: Credit Check"
   ]
  },
  {
   "cell_type": "markdown",
   "metadata": {},
   "source": [
    "### 3.1 - Standard normalize the dataset"
   ]
  },
  {
   "cell_type": "code",
   "execution_count": 159,
   "metadata": {},
   "outputs": [],
   "source": [
    "# load in dataset\n",
    "csvname = 'credit_dataset.csv'\n",
    "data = np.loadtxt(csvname,delimiter = ',')\n",
    "x = data[:-1,:]\n",
    "y = data[-1:,:]\n",
    "normalizer,inverse_normalizer = standard_normalizer(x)\n",
    "x = normalizer(x)"
   ]
  },
  {
   "cell_type": "markdown",
   "metadata": {},
   "source": [
    "### 3.2 - Gradient descent, plotting history, calculating accuracy"
   ]
  },
  {
   "cell_type": "markdown",
   "metadata": {},
   "source": [
    "#### Plotting cost function and misclassification history versus # of iterations"
   ]
  },
  {
   "cell_type": "code",
   "execution_count": 160,
   "metadata": {},
   "outputs": [
    {
     "data": {
      "text/plain": [
       "<matplotlib.legend.Legend at 0x117286048>"
      ]
     },
     "execution_count": 160,
     "metadata": {},
     "output_type": "execute_result"
    },
    {
     "data": {
      "image/png": "[encoded data removed]",
      "text/plain": [
       "<Figure size 432x288 with 1 Axes>"
      ]
     },
     "metadata": {
      "needs_background": "light"
     },
     "output_type": "display_data"
    }
   ],
   "source": [
    "w = 0.1*np.random.randn(21,1)\n",
    "w_history_percep, c_history_percep = gradient_descent(perceptron,0.1,1000,w)\n",
    "miscount_history_percep = [miscount(v,x,y) for v in w_history_percep]\n",
    "pyplot.plot(np.linspace(0,len(c_history_percep),len(c_history_percep)), c_history_percep, color='tab:orange', label='Perceptron Cost Function')\n",
    "pyplot.plot(np.linspace(0,len(miscount_history_percep),len(miscount_history_percep)), miscount_history_percep, color='r', label='Perceptron All Miscounts')\n",
    "\n",
    "pyplot.xlabel('Iteration (k)')\n",
    "pyplot.ylabel('History')\n",
    "pyplot.title('Training History')\n",
    "pyplot.legend(loc = \"upper right\")"
   ]
  },
  {
   "cell_type": "markdown",
   "metadata": {},
   "source": [
    "#### Achieved >= 75% accuracy"
   ]
  },
  {
   "cell_type": "code",
   "execution_count": 161,
   "metadata": {},
   "outputs": [
    {
     "name": "stdout",
     "output_type": "stream",
     "text": [
      "The minimum number of misclassiciations for optimization using \n",
      "perceptron cost is  239 , which is at index  27  of miscount history.\n",
      "The accuracy using the best w of perceptron cost is:  76.1 %\n",
      "The corresponding w for this accuracy (the best w using perceptron cost) is:\n",
      " [[ 0.09110255]\n",
      " [ 0.06698937]\n",
      " [-0.02174158]\n",
      " [ 0.0436298 ]\n",
      " [ 0.00165002]\n",
      " [-0.01634864]\n",
      " [ 0.02612368]\n",
      " [ 0.02085481]\n",
      " [-0.02142735]\n",
      " [-0.00274672]\n",
      " [ 0.01402238]\n",
      " [ 0.00994446]\n",
      " [-0.04374248]\n",
      " [-0.02552982]\n",
      " [ 0.00114413]\n",
      " [ 0.04325051]\n",
      " [-0.029055  ]\n",
      " [ 0.00134462]\n",
      " [-0.00315591]\n",
      " [ 0.03363619]\n",
      " [ 0.01755728]]\n"
     ]
    }
   ],
   "source": [
    "# Calculate highest possible accuracy with this cost function \n",
    "# and index of corresponding best weight.\n",
    "percep_acc = accuracy(w_history_percep, miscount_history_percep, x, y)[0]\n",
    "index = accuracy(w_history_percep, miscount_history_percep, x, y)[1]\n",
    "print(\"The minimum number of misclassiciations for optimization using \\nperceptron cost is \", min(miscount_history_percep), \", which is at index \", index, \" of miscount history.\")\n",
    "print(\"The accuracy using the best w of perceptron cost is: \", percep_acc*100, \"%\")\n",
    "print(\"The corresponding w for this accuracy (the best w using perceptron cost) is:\\n\", w_history_percep[index])"
   ]
  },
  {
   "cell_type": "markdown",
   "metadata": {},
   "source": [
    "### 3.3 - Confusion matrix for the optimal weights determined with perceptron cost"
   ]
  },
  {
   "cell_type": "code",
   "execution_count": 162,
   "metadata": {},
   "outputs": [
    {
     "name": "stdout",
     "output_type": "stream",
     "text": [
      "The best w using perceptron is the last one in this case (at w_history_percep index 27 since it has the lowest number of misclassifications.\n",
      "The corresponding confusion matrix for the best w using softmax is:\n",
      " [[612  88]\n",
      " [151 149]]\n",
      "This best w is:\n",
      " [[ 0.09110255]\n",
      " [ 0.06698937]\n",
      " [-0.02174158]\n",
      " [ 0.0436298 ]\n",
      " [ 0.00165002]\n",
      " [-0.01634864]\n",
      " [ 0.02612368]\n",
      " [ 0.02085481]\n",
      " [-0.02142735]\n",
      " [-0.00274672]\n",
      " [ 0.01402238]\n",
      " [ 0.00994446]\n",
      " [-0.04374248]\n",
      " [-0.02552982]\n",
      " [ 0.00114413]\n",
      " [ 0.04325051]\n",
      " [-0.029055  ]\n",
      " [ 0.00134462]\n",
      " [-0.00315591]\n",
      " [ 0.03363619]\n",
      " [ 0.01755728]]\n"
     ]
    }
   ],
   "source": [
    "# The best w is the last one since it has the lowerst number of misclassifications.\n",
    "w_star = w_history_percep[index]\n",
    "print(\"The best w using perceptron is the last one in this case (at w_history_percep index\", index, \"since it has the lowest number of misclassifications.\")\n",
    "print(\"The corresponding confusion matrix for the best w using softmax is:\\n\", confusion_matrix(w_star,x,y))\n",
    "print(\"This best w is:\\n\", w_star)"
   ]
  },
  {
   "cell_type": "markdown",
   "metadata": {},
   "source": [
    "# Exercise 4: 3-Class Classification"
   ]
  },
  {
   "cell_type": "code",
   "execution_count": 164,
   "metadata": {},
   "outputs": [],
   "source": [
    "# load in dataset\n",
    "data = np.loadtxt('3class_data.csv',delimiter = ',')\n",
    "\n",
    "# get input/output pairs\n",
    "x = data[:-1,:]\n",
    "y = data[-1:,:]\n",
    "\n",
    "def reformat_x(x):\n",
    "    formatted_x = []\n",
    "    for i in range(0, x[0].size):\n",
    "        formatted_x.append(np.array([x[0][i], x[1][i]]))\n",
    "    return np.array(formatted_x)\n",
    "formatted_x = reformat_x(x)"
   ]
  },
  {
   "cell_type": "code",
   "execution_count": 163,
   "metadata": {},
   "outputs": [],
   "source": [
    "# compute C linear combinations of input point, one per classifier\n",
    "def model(x,w):\n",
    "    a = w[0] + np.dot(x.T,w[1:])\n",
    "    return a.T\n",
    "\n",
    "lam = 10**-5  # our regularization paramter \n",
    "def multiclass_perceptron(w):        \n",
    "    # pre-compute predictions on all points\n",
    "    all_evals = model(x,w)\n",
    "    \n",
    "    # compute maximum across data points\n",
    "    a = np.max(all_evals,axis = 0)    \n",
    "\n",
    "    # compute cost in compact form using numpy broadcasting\n",
    "    b = all_evals[y.astype(int).flatten(),np.arange(np.size(y))]\n",
    "    cost = np.sum(a - b)\n",
    "    \n",
    "    # add regularizer\n",
    "    cost = cost + lam*np.linalg.norm(w[1:,:],'fro')**2\n",
    "    \n",
    "    # return average\n",
    "    return cost/float(np.size(y))"
   ]
  },
  {
   "cell_type": "code",
   "execution_count": 165,
   "metadata": {},
   "outputs": [
    {
     "data": {
      "text/plain": [
       "<matplotlib.legend.Legend at 0x115519908>"
      ]
     },
     "execution_count": 165,
     "metadata": {},
     "output_type": "execute_result"
    },
    {
     "data": {
      "image/png": "[encoded data removed]",
      "text/plain": [
       "<Figure size 432x288 with 1 Axes>"
      ]
     },
     "metadata": {
      "needs_background": "light"
     },
     "output_type": "display_data"
    }
   ],
   "source": [
    "w = 0.1*np.random.randn(3,3)\n",
    "w_history_percep, c_history_percep = gradient_descent(multiclass_perceptron,0.1,1000,w)\n",
    "pyplot.plot(np.linspace(0,len(c_history_percep),len(c_history_percep)), c_history_percep, color='tab:orange', label='Perceptron Cost Function')\n",
    "\n",
    "pyplot.xlabel('Iteration (k)')\n",
    "pyplot.ylabel('Cost')\n",
    "pyplot.title('Training History')\n",
    "pyplot.legend(loc = \"upper right\")"
   ]
  },
  {
   "cell_type": "code",
   "execution_count": 166,
   "metadata": {},
   "outputs": [
    {
     "data": {
      "text/plain": [
       "<matplotlib.legend.Legend at 0x116f5ff28>"
      ]
     },
     "execution_count": 166,
     "metadata": {},
     "output_type": "execute_result"
    },
    {
     "data": {
      "image/png": "[encoded data removed]",
      "text/plain": [
       "<Figure size 432x288 with 1 Axes>"
      ]
     },
     "metadata": {
      "needs_background": "light"
     },
     "output_type": "display_data"
    }
   ],
   "source": [
    "w_last = w_history_percep[-1]\n",
    "\n",
    "# compute C linear combinations of input point, one per classifier\n",
    "def model(x, w, c):\n",
    "    a = w[0] + np.dot(x, w[1:])\n",
    "    return a\n",
    "\n",
    "def sort_pred(x, class_pred, c):\n",
    "    \"\"\"\n",
    "    Finds the points of x that are predicted to be of class c, and returns \n",
    "    their coordinates.\n",
    "    \"\"\"\n",
    "    x_c = x[class_pred == c] # Find the points of x corresponding to class c\n",
    "    # Separate those points into their two coordinates\n",
    "    x1 = x_c[:, 0] \n",
    "    x2 = x_c[:, 1]\n",
    "    return x1, x2\n",
    "\n",
    "# Compute predictions\n",
    "pred = model(formatted_x, w_last, 0) # use the optimal weight to generate class predictions\n",
    "class_pred = np.argmax(pred, axis = 1)  # fusion rule: for each prediction, choose the class of the highest prediction\n",
    "\n",
    "# Get x values sorted by predicted class\n",
    "c0_x1, c0_x2 = sort_pred(formatted_x, class_pred, 0)\n",
    "c1_x1, c1_x2 = sort_pred(formatted_x, class_pred, 1)\n",
    "c2_x1, c2_x2 = sort_pred(formatted_x, class_pred, 2)\n",
    "\n",
    "# Plot x values with colour corresponding to predicted class\n",
    "pyplot.scatter(c0_x1, c0_x2, color = 'b', label = 'class 0')\n",
    "pyplot.scatter(c1_x1, c1_x2, color = 'r', label = 'class 1')\n",
    "pyplot.scatter(c2_x1, c2_x2, color = 'g', label = 'class 2')\n",
    "pyplot.xlabel('x1')\n",
    "pyplot.ylabel('x2')\n",
    "pyplot.title('3 Class Dataset')\n",
    "pyplot.legend()"
   ]
  },
  {
   "cell_type": "markdown",
   "metadata": {},
   "source": [
    "As can be seen, using the optimal set of weights predicted by the multiclass perceptron cost function, we were able to correctly predict the class of each point in the dataset in accordance with the predictions of Figure 7.9 from the textbook."
   ]
  }
 ],
 "metadata": {
  "kernelspec": {
   "display_name": "Python 3",
   "language": "python",
   "name": "python3"
  },
  "language_info": {
   "codemirror_mode": {
    "name": "ipython",
    "version": 3
   },
   "file_extension": ".py",
   "mimetype": "text/x-python",
   "name": "python",
   "nbconvert_exporter": "python",
   "pygments_lexer": "ipython3",
   "version": "3.7.3"
  }
 },
 "nbformat": 4,
 "nbformat_minor": 4
}
