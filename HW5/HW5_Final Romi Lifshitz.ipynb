{
 "cells": [
  {
   "cell_type": "markdown",
   "metadata": {},
   "source": [
    "# Homework 5: Convolution Networks, Non-Linear Regression, Model Tuning and Tree Regression"
   ]
  },
  {
   "cell_type": "code",
   "execution_count": null,
   "metadata": {},
   "outputs": [],
   "source": [
    "# Author Name: Romi Lifshitz\n",
    "\n",
    "# With guidance from course textbook: Machine Learning Refined\n",
    "# Instructions can be found in the HW4_Instructions.pdf file on git"
   ]
  },
  {
   "cell_type": "markdown",
   "metadata": {},
   "source": [
    "# Exercise 1 - Convolution Networks: Vertical and Horizontal Art"
   ]
  },
  {
   "cell_type": "markdown",
   "metadata": {},
   "source": [
    "## 1.1, 1.2 - Generating Bars and Stripes Image Datasets"
   ]
  },
  {
   "cell_type": "code",
   "execution_count": 4,
   "metadata": {},
   "outputs": [],
   "source": [
    "import tensorflow as tf\n",
    "import matplotlib.pyplot as plt\n",
    "import numpy as np"
   ]
  },
  {
   "cell_type": "code",
   "execution_count": 16,
   "metadata": {},
   "outputs": [],
   "source": [
    "def generate_stripe_image(size, stripe_nr, vertical = True):\n",
    "    img=np.zeros((size,size,1),dtype=\"uint8\")\n",
    "    for i in range(0,stripe_nr):\n",
    "        x,y = np.random.randint(0,size,2)\n",
    "        l  = np.int(np.random.randint(y,size,1))\n",
    "        if (vertical):\n",
    "            img[y:l,x,0]=255 # make vertical striped images\n",
    "        else:\n",
    "            img[x,y:l,0]=255 # make horizontal striped images\n",
    "    return img  "
   ]
  },
  {
   "cell_type": "code",
   "execution_count": 17,
   "metadata": {},
   "outputs": [],
   "source": [
    "# Generating training and testing images\n",
    "vertical_train = [generate_stripe_image(50,10, vertical=True) for i in range(500)]\n",
    "horizontal_train = [generate_stripe_image(50,10, vertical=False) for i in range(500)]\n",
    "X_train = vertical_train + horizontal_train\n",
    "\n",
    "\n",
    "vertical_val = [generate_stripe_image(50, 10, vertical=True) for i in range(500)]\n",
    "horizontal_val = [generate_stripe_image(50, 10, vertical=False) for i in range(500)]\n",
    "X_val = vertical_val + horizontal_val\n",
    "\n",
    "# Normalizing the two sets\n",
    "X_train = np.array(X_train) / 255.0\n",
    "X_val = np.array(X_val) / 255.0"
   ]
  },
  {
   "cell_type": "code",
   "execution_count": 18,
   "metadata": {},
   "outputs": [],
   "source": [
    "## Double checking training and testing sets generated properly.\n",
    "\n",
    "# plt.imshow(X_train[0][:,:,0],cmap='gray')\n",
    "# plt.imshow(X_train[499][:,:,0],cmap='gray')\n",
    "# plt.imshow(X_train[500][:,:,0],cmap='gray')\n",
    "# plt.imshow(X_train[999][:,:,0],cmap='gray')\n",
    "\n",
    "# plt.imshow(X_val[0][:, :, 0], cmap='gray')\n",
    "# plt.imshow(X_val[499][:, :, 0], cmap='gray')\n",
    "# plt.imshow(X_val[500][:, :, 0], cmap='gray')\n",
    "# plt.imshow(X_val[999][:, :, 0], cmap='gray')"
   ]
  },
  {
   "cell_type": "code",
   "execution_count": 19,
   "metadata": {},
   "outputs": [],
   "source": [
    "# Creating training and testing labels \n",
    "# (vertical: 0, horizontal: 1)\n",
    "\n",
    "Y_train_v = [[0] for i in range(500)]\n",
    "Y_train_h = [[1] for i in range(500)]\n",
    "Y_train = np.array(Y_train_v + Y_train_h)\n",
    "\n",
    "Y_val_v = [[0] for i in range(500)]\n",
    "Y_val_h = [[1] for i in range(500)]\n",
    "Y_val = np.array(Y_val_v + Y_val_h)"
   ]
  },
  {
   "cell_type": "code",
   "execution_count": 20,
   "metadata": {},
   "outputs": [
    {
     "name": "stdout",
     "output_type": "stream",
     "text": [
      "(1000, 50, 50, 1)\n",
      "(1000, 50, 50, 1)\n",
      "(1000, 1)\n",
      "(1000, 1)\n"
     ]
    }
   ],
   "source": [
    "print(X_train.shape)\n",
    "print(X_val.shape)\n",
    "print(Y_train.shape)\n",
    "print(Y_val.shape)"
   ]
  },
  {
   "cell_type": "markdown",
   "metadata": {},
   "source": [
    "## 1.3 - Building a CNN Using One-Hot Encoding"
   ]
  },
  {
   "cell_type": "code",
   "execution_count": 21,
   "metadata": {},
   "outputs": [],
   "source": [
    "# Convert to one hot encoding\n",
    "Y_train = tf.keras.utils.to_categorical(Y_train, 2)\n",
    "Y_val = tf.keras.utils.to_categorical(Y_val, 2)"
   ]
  },
  {
   "cell_type": "code",
   "execution_count": 22,
   "metadata": {},
   "outputs": [],
   "source": [
    "model = tf.keras.models.Sequential([\n",
    "    tf.keras.layers.Conv2D(filters=1, kernel_size=5, activation='linear', padding=\"SAME\", input_shape=[50,50,1]),\n",
    "    tf.keras.layers.MaxPooling2D(pool_size=50),\n",
    "    tf.keras.layers.Flatten(),\n",
    "    tf.keras.layers.Dense(units=2, activation='softmax'),])"
   ]
  },
  {
   "cell_type": "code",
   "execution_count": 23,
   "metadata": {},
   "outputs": [],
   "source": [
    "model.compile(loss='categorical_crossentropy',\n",
    "    optimizer='adam',\n",
    "    metrics=['accuracy'])"
   ]
  },
  {
   "cell_type": "code",
   "execution_count": 24,
   "metadata": {
    "scrolled": true
   },
   "outputs": [
    {
     "name": "stdout",
     "output_type": "stream",
     "text": [
      "Model: \"sequential_1\"\n",
      "_________________________________________________________________\n",
      "Layer (type)                 Output Shape              Param #   \n",
      "=================================================================\n",
      "conv2d_1 (Conv2D)            (None, 50, 50, 1)         26        \n",
      "_________________________________________________________________\n",
      "max_pooling2d_1 (MaxPooling2 (None, 1, 1, 1)           0         \n",
      "_________________________________________________________________\n",
      "flatten_1 (Flatten)          (None, 1)                 0         \n",
      "_________________________________________________________________\n",
      "dense_1 (Dense)              (None, 2)                 4         \n",
      "=================================================================\n",
      "Total params: 30\n",
      "Trainable params: 30\n",
      "Non-trainable params: 0\n",
      "_________________________________________________________________\n"
     ]
    }
   ],
   "source": [
    "model.summary()"
   ]
  },
  {
   "cell_type": "markdown",
   "metadata": {},
   "source": [
    "**Question: How many parameters are in this model?**\n",
    "<br/>**Response:** Overall, there are 30 parameters that are being optimized in the CNN above."
   ]
  },
  {
   "cell_type": "markdown",
   "metadata": {},
   "source": [
    "## 1.4 - Training the Model and Visualizing Performance Metrics"
   ]
  },
  {
   "cell_type": "code",
   "execution_count": 25,
   "metadata": {},
   "outputs": [
    {
     "name": "stdout",
     "output_type": "stream",
     "text": [
      "Train on 1000 samples, validate on 1000 samples\n",
      "Epoch 1/50\n",
      "1000/1000 [==============================] - 1s 1ms/sample - loss: 0.7392 - accuracy: 0.5000 - val_loss: 0.7280 - val_accuracy: 0.5000\n",
      "Epoch 2/50\n",
      "1000/1000 [==============================] - 1s 638us/sample - loss: 0.7167 - accuracy: 0.5000 - val_loss: 0.7071 - val_accuracy: 0.5000\n",
      "Epoch 3/50\n",
      "1000/1000 [==============================] - 1s 591us/sample - loss: 0.6970 - accuracy: 0.5000 - val_loss: 0.6890 - val_accuracy: 0.5000\n",
      "Epoch 4/50\n",
      "1000/1000 [==============================] - 1s 610us/sample - loss: 0.6808 - accuracy: 0.5000 - val_loss: 0.6735 - val_accuracy: 0.5000\n",
      "Epoch 5/50\n",
      "1000/1000 [==============================] - 1s 635us/sample - loss: 0.6669 - accuracy: 0.5000 - val_loss: 0.6598 - val_accuracy: 0.5000\n",
      "Epoch 6/50\n",
      "1000/1000 [==============================] - 1s 623us/sample - loss: 0.6539 - accuracy: 0.5000 - val_loss: 0.6464 - val_accuracy: 0.5000\n",
      "Epoch 7/50\n",
      "1000/1000 [==============================] - 1s 608us/sample - loss: 0.6408 - accuracy: 0.5000 - val_loss: 0.6328 - val_accuracy: 0.5000\n",
      "Epoch 8/50\n",
      "1000/1000 [==============================] - 1s 607us/sample - loss: 0.6271 - accuracy: 0.5000 - val_loss: 0.6182 - val_accuracy: 0.5000\n",
      "Epoch 9/50\n",
      "1000/1000 [==============================] - 1s 599us/sample - loss: 0.6120 - accuracy: 0.5000 - val_loss: 0.6018 - val_accuracy: 0.6790\n",
      "Epoch 10/50\n",
      "1000/1000 [==============================] - 1s 596us/sample - loss: 0.5956 - accuracy: 0.7390 - val_loss: 0.5854 - val_accuracy: 0.7840\n",
      "Epoch 11/50\n",
      "1000/1000 [==============================] - 1s 616us/sample - loss: 0.5793 - accuracy: 0.7890 - val_loss: 0.5687 - val_accuracy: 0.8080\n",
      "Epoch 12/50\n",
      "1000/1000 [==============================] - 1s 612us/sample - loss: 0.5623 - accuracy: 0.8040 - val_loss: 0.5514 - val_accuracy: 0.8260\n",
      "Epoch 13/50\n",
      "1000/1000 [==============================] - 1s 600us/sample - loss: 0.5448 - accuracy: 0.8330 - val_loss: 0.5335 - val_accuracy: 0.8830\n",
      "Epoch 14/50\n",
      "1000/1000 [==============================] - 1s 608us/sample - loss: 0.5267 - accuracy: 0.8800 - val_loss: 0.5152 - val_accuracy: 0.9010\n",
      "Epoch 15/50\n",
      "1000/1000 [==============================] - 1s 588us/sample - loss: 0.5082 - accuracy: 0.8950 - val_loss: 0.4966 - val_accuracy: 0.9210\n",
      "Epoch 16/50\n",
      "1000/1000 [==============================] - 1s 578us/sample - loss: 0.4894 - accuracy: 0.9090 - val_loss: 0.4779 - val_accuracy: 0.9250\n",
      "Epoch 17/50\n",
      "1000/1000 [==============================] - 1s 576us/sample - loss: 0.4707 - accuracy: 0.9110 - val_loss: 0.4590 - val_accuracy: 0.9280\n",
      "Epoch 18/50\n",
      "1000/1000 [==============================] - 1s 577us/sample - loss: 0.4515 - accuracy: 0.9180 - val_loss: 0.4398 - val_accuracy: 0.9540\n",
      "Epoch 19/50\n",
      "1000/1000 [==============================] - 1s 581us/sample - loss: 0.4324 - accuracy: 0.9710 - val_loss: 0.4210 - val_accuracy: 0.9880\n",
      "Epoch 20/50\n",
      "1000/1000 [==============================] - 1s 612us/sample - loss: 0.4136 - accuracy: 0.9800 - val_loss: 0.4024 - val_accuracy: 0.9880\n",
      "Epoch 21/50\n",
      "1000/1000 [==============================] - 1s 677us/sample - loss: 0.3951 - accuracy: 0.9820 - val_loss: 0.3842 - val_accuracy: 0.9890\n",
      "Epoch 22/50\n",
      "1000/1000 [==============================] - 1s 633us/sample - loss: 0.3769 - accuracy: 0.9830 - val_loss: 0.3665 - val_accuracy: 0.9920\n",
      "Epoch 23/50\n",
      "1000/1000 [==============================] - 1s 750us/sample - loss: 0.3593 - accuracy: 0.9860 - val_loss: 0.3493 - val_accuracy: 0.9940\n",
      "Epoch 24/50\n",
      "1000/1000 [==============================] - 1s 627us/sample - loss: 0.3423 - accuracy: 0.9930 - val_loss: 0.3329 - val_accuracy: 1.0000\n",
      "Epoch 25/50\n",
      "1000/1000 [==============================] - 1s 629us/sample - loss: 0.3261 - accuracy: 0.9970 - val_loss: 0.3170 - val_accuracy: 1.0000\n",
      "Epoch 26/50\n",
      "1000/1000 [==============================] - 1s 745us/sample - loss: 0.3104 - accuracy: 0.9970 - val_loss: 0.3019 - val_accuracy: 1.0000\n",
      "Epoch 27/50\n",
      "1000/1000 [==============================] - 1s 622us/sample - loss: 0.2956 - accuracy: 0.9970 - val_loss: 0.2875 - val_accuracy: 1.0000\n",
      "Epoch 28/50\n",
      "1000/1000 [==============================] - 1s 591us/sample - loss: 0.2813 - accuracy: 0.9990 - val_loss: 0.2738 - val_accuracy: 1.0000\n",
      "Epoch 29/50\n",
      "1000/1000 [==============================] - 1s 631us/sample - loss: 0.2678 - accuracy: 0.9990 - val_loss: 0.2607 - val_accuracy: 1.0000\n",
      "Epoch 30/50\n",
      "1000/1000 [==============================] - 1s 617us/sample - loss: 0.2549 - accuracy: 0.9990 - val_loss: 0.2482 - val_accuracy: 1.0000\n",
      "Epoch 31/50\n",
      "1000/1000 [==============================] - 1s 629us/sample - loss: 0.2427 - accuracy: 0.9990 - val_loss: 0.2364 - val_accuracy: 1.0000\n",
      "Epoch 32/50\n",
      "1000/1000 [==============================] - 1s 691us/sample - loss: 0.2311 - accuracy: 0.9990 - val_loss: 0.2251 - val_accuracy: 1.0000\n",
      "Epoch 33/50\n",
      "1000/1000 [==============================] - 1s 637us/sample - loss: 0.2201 - accuracy: 0.9990 - val_loss: 0.2145 - val_accuracy: 1.0000\n",
      "Epoch 34/50\n",
      "1000/1000 [==============================] - 1s 615us/sample - loss: 0.2096 - accuracy: 0.9990 - val_loss: 0.2044 - val_accuracy: 1.0000\n",
      "Epoch 35/50\n",
      "1000/1000 [==============================] - 1s 594us/sample - loss: 0.1997 - accuracy: 0.9990 - val_loss: 0.1948 - val_accuracy: 1.0000\n",
      "Epoch 36/50\n",
      "1000/1000 [==============================] - 1s 600us/sample - loss: 0.1903 - accuracy: 0.9990 - val_loss: 0.1858 - val_accuracy: 1.0000\n",
      "Epoch 37/50\n",
      "1000/1000 [==============================] - 1s 598us/sample - loss: 0.1814 - accuracy: 0.9990 - val_loss: 0.1771 - val_accuracy: 1.0000\n",
      "Epoch 38/50\n",
      "1000/1000 [==============================] - 1s 606us/sample - loss: 0.1730 - accuracy: 0.9990 - val_loss: 0.1689 - val_accuracy: 1.0000\n",
      "Epoch 39/50\n",
      "1000/1000 [==============================] - 1s 668us/sample - loss: 0.1650 - accuracy: 0.9990 - val_loss: 0.1611 - val_accuracy: 1.0000\n",
      "Epoch 40/50\n",
      "1000/1000 [==============================] - 1s 617us/sample - loss: 0.1573 - accuracy: 0.9990 - val_loss: 0.1538 - val_accuracy: 1.0000\n",
      "Epoch 41/50\n",
      "1000/1000 [==============================] - 1s 589us/sample - loss: 0.1502 - accuracy: 1.0000 - val_loss: 0.1469 - val_accuracy: 1.0000\n",
      "Epoch 42/50\n",
      "1000/1000 [==============================] - 1s 588us/sample - loss: 0.1434 - accuracy: 1.0000 - val_loss: 0.1403 - val_accuracy: 1.0000\n",
      "Epoch 43/50\n",
      "1000/1000 [==============================] - 1s 575us/sample - loss: 0.1370 - accuracy: 1.0000 - val_loss: 0.1341 - val_accuracy: 1.0000\n",
      "Epoch 44/50\n",
      "1000/1000 [==============================] - 1s 586us/sample - loss: 0.1309 - accuracy: 1.0000 - val_loss: 0.1282 - val_accuracy: 1.0000\n",
      "Epoch 45/50\n",
      "1000/1000 [==============================] - 1s 578us/sample - loss: 0.1252 - accuracy: 1.0000 - val_loss: 0.1226 - val_accuracy: 1.0000\n",
      "Epoch 46/50\n",
      "1000/1000 [==============================] - 1s 576us/sample - loss: 0.1197 - accuracy: 1.0000 - val_loss: 0.1173 - val_accuracy: 1.0000\n",
      "Epoch 47/50\n",
      "1000/1000 [==============================] - 1s 578us/sample - loss: 0.1146 - accuracy: 1.0000 - val_loss: 0.1123 - val_accuracy: 1.0000\n",
      "Epoch 48/50\n",
      "1000/1000 [==============================] - 1s 590us/sample - loss: 0.1097 - accuracy: 1.0000 - val_loss: 0.1076 - val_accuracy: 1.0000\n",
      "Epoch 49/50\n",
      "1000/1000 [==============================] - 1s 579us/sample - loss: 0.1051 - accuracy: 1.0000 - val_loss: 0.1032 - val_accuracy: 1.0000\n",
      "Epoch 50/50\n",
      "1000/1000 [==============================] - 1s 585us/sample - loss: 0.1008 - accuracy: 1.0000 - val_loss: 0.0989 - val_accuracy: 1.0000\n"
     ]
    }
   ],
   "source": [
    "history=model.fit(X_train, Y_train,\n",
    "                  validation_data=(X_val,Y_val),\n",
    "                  batch_size=64, \n",
    "                  epochs=50,\n",
    "                  verbose=1,\n",
    "                  shuffle=True) "
   ]
  },
  {
   "cell_type": "code",
   "execution_count": 26,
   "metadata": {},
   "outputs": [
    {
     "data": {
      "text/plain": [
       "<matplotlib.legend.Legend at 0x652cace10>"
      ]
     },
     "execution_count": 26,
     "metadata": {},
     "output_type": "execute_result"
    },
    {
     "data": {
      "image/png": "[encoded data removed]",
      "text/plain": [
       "<Figure size 432x288 with 1 Axes>"
      ]
     },
     "metadata": {
      "needs_background": "light"
     },
     "output_type": "display_data"
    }
   ],
   "source": [
    "plt.plot(history.history['accuracy'])\n",
    "plt.plot(history.history['val_accuracy'])\n",
    "plt.title('Model Accuracy \\n(Linear Activation, MaxPooling, Kernel Size = 5)')\n",
    "plt.ylabel('Accuracy')\n",
    "plt.xlabel('Epoch')\n",
    "plt.legend(['Train', 'Test'], loc='upper left')"
   ]
  },
  {
   "cell_type": "code",
   "execution_count": 27,
   "metadata": {},
   "outputs": [
    {
     "data": {
      "text/plain": [
       "<matplotlib.legend.Legend at 0x64a2c2e90>"
      ]
     },
     "execution_count": 27,
     "metadata": {},
     "output_type": "execute_result"
    },
    {
     "data": {
      "image/png": "[encoded data removed]",
      "text/plain": [
       "<Figure size 432x288 with 1 Axes>"
      ]
     },
     "metadata": {
      "needs_background": "light"
     },
     "output_type": "display_data"
    }
   ],
   "source": [
    "plt.plot(history.history['loss'])\n",
    "plt.plot(history.history['val_loss'])\n",
    "plt.title('Model Loss \\n(Linear Activation, MaxPooling, Kernel Size = 5)')\n",
    "plt.ylabel('Loss')\n",
    "plt.xlabel('Epoch')\n",
    "plt.legend(['Train', 'Test'], loc='upper left')"
   ]
  },
  {
   "cell_type": "code",
   "execution_count": 28,
   "metadata": {},
   "outputs": [
    {
     "name": "stdout",
     "output_type": "stream",
     "text": [
      "1000/1 - 0s - loss: 0.0743 - accuracy: 1.0000\n",
      "Train loss: 0.09850253742933274\n",
      "Train accuracy: 1.0\n",
      "\n",
      "1000/1 - 0s - loss: 0.0746 - accuracy: 1.0000\n",
      "Test loss: 0.09894450515508652\n",
      "Test accuracy: 1.0\n"
     ]
    }
   ],
   "source": [
    "train_loss, train_acc = model.evaluate(X_train,  Y_train, verbose=2)\n",
    "print('Train loss:', train_loss)\n",
    "print('Train accuracy:', train_acc)\n",
    "print()\n",
    "test_loss, test_acc = model.evaluate(X_val,  Y_val, verbose=2)\n",
    "print('Test loss:', test_loss)\n",
    "print('Test accuracy:', test_acc)"
   ]
  },
  {
   "cell_type": "markdown",
   "metadata": {},
   "source": [
    "## 1.5 - Getting the Optimized Kernel"
   ]
  },
  {
   "cell_type": "code",
   "execution_count": 29,
   "metadata": {
    "scrolled": true
   },
   "outputs": [
    {
     "data": {
      "text/plain": [
       "<matplotlib.colorbar.Colorbar at 0x64a35c790>"
      ]
     },
     "execution_count": 29,
     "metadata": {},
     "output_type": "execute_result"
    },
    {
     "data": {
      "image/png": "[encoded data removed]",
      "text/plain": [
       "<Figure size 432x288 with 2 Axes>"
      ]
     },
     "metadata": {
      "needs_background": "light"
     },
     "output_type": "display_data"
    }
   ],
   "source": [
    "conv_filter=model.get_weights()[0]\n",
    "plt.imshow(conv_filter[:,:,0],cmap='gray')\n",
    "plt.colorbar()"
   ]
  },
  {
   "cell_type": "markdown",
   "metadata": {},
   "source": [
    "**Question: Comment on the\n",
    "visual appearance of the kernel. Does it seem reasonable that it is capable of distinguishing\n",
    "between horizonal and vertical stripes. Explain.** <br/> **Response:** First, we can see that the kernel contains mostly negative or near-zero values, except for a horizontal line of close-to-1 values in the second row. Given this appearance and our knowledge of the convolution operation, it seems reasonable that the kernel is capable of distinguishing between horizontal and vertical stripes. Specifically, let's say the kernel is applied to a patch of 5x5 pixels that contains a horizontal line only in the second row of the patch (second row pixels equal 255, others equal 0). Then, the output of applying the filter to the image will be a high positive number (the 255 values are multiplied by near-1 values, others are 0). Conversely, when applying the filter to a patch of pixels containing a vertical line, then the output of the convolution operation would yield a small value-likely negative. This is because all of the 255 pixels in column (except one) will be multiplied by near-zero or negative values. Thus, the kernel outputs high values for images with horizontal lines and low values for images with vertical lines.\n",
    "\n",
    "Note that our horizontal line example above delt with patches of pixels whose second row was filled with 255 values, but this  will not always be the case (the third row can be white instead of the second, etc.). However, our explanation generalizes since the kernel 'slides' over the image and will eventually align perfectly with the horizontal white row."
   ]
  },
  {
   "cell_type": "markdown",
   "metadata": {},
   "source": [
    "## 1.6 - Experiment with your Network"
   ]
  },
  {
   "cell_type": "markdown",
   "metadata": {},
   "source": [
    "### Modification 1: ReLU instead of Linear Activation"
   ]
  },
  {
   "cell_type": "code",
   "execution_count": 30,
   "metadata": {},
   "outputs": [],
   "source": [
    "model = tf.keras.models.Sequential([\n",
    "    tf.keras.layers.Conv2D(filters=1, kernel_size=5, activation='relu', padding=\"SAME\", input_shape=[50,50,1]),\n",
    "    tf.keras.layers.MaxPooling2D(pool_size=50),\n",
    "    tf.keras.layers.Flatten(),\n",
    "    tf.keras.layers.Dense(units=2, activation='softmax'),\n",
    "])"
   ]
  },
  {
   "cell_type": "code",
   "execution_count": 31,
   "metadata": {},
   "outputs": [],
   "source": [
    "model.compile(loss='categorical_crossentropy',\n",
    "    optimizer='adam',\n",
    "    metrics=['accuracy'])"
   ]
  },
  {
   "cell_type": "code",
   "execution_count": 32,
   "metadata": {
    "scrolled": true
   },
   "outputs": [
    {
     "name": "stdout",
     "output_type": "stream",
     "text": [
      "Model: \"sequential_2\"\n",
      "_________________________________________________________________\n",
      "Layer (type)                 Output Shape              Param #   \n",
      "=================================================================\n",
      "conv2d_2 (Conv2D)            (None, 50, 50, 1)         26        \n",
      "_________________________________________________________________\n",
      "max_pooling2d_2 (MaxPooling2 (None, 1, 1, 1)           0         \n",
      "_________________________________________________________________\n",
      "flatten_2 (Flatten)          (None, 1)                 0         \n",
      "_________________________________________________________________\n",
      "dense_2 (Dense)              (None, 2)                 4         \n",
      "=================================================================\n",
      "Total params: 30\n",
      "Trainable params: 30\n",
      "Non-trainable params: 0\n",
      "_________________________________________________________________\n"
     ]
    }
   ],
   "source": [
    "model.summary()"
   ]
  },
  {
   "cell_type": "code",
   "execution_count": 33,
   "metadata": {},
   "outputs": [
    {
     "name": "stdout",
     "output_type": "stream",
     "text": [
      "Train on 1000 samples, validate on 1000 samples\n",
      "Epoch 1/50\n",
      "1000/1000 [==============================] - 1s 1ms/sample - loss: 0.6931 - accuracy: 0.5000 - val_loss: 0.6881 - val_accuracy: 0.5000\n",
      "Epoch 2/50\n",
      "1000/1000 [==============================] - 1s 751us/sample - loss: 0.6861 - accuracy: 0.5000 - val_loss: 0.6821 - val_accuracy: 0.5000\n",
      "Epoch 3/50\n",
      "1000/1000 [==============================] - 1s 752us/sample - loss: 0.6799 - accuracy: 0.5000 - val_loss: 0.6756 - val_accuracy: 0.5000\n",
      "Epoch 4/50\n",
      "1000/1000 [==============================] - 1s 737us/sample - loss: 0.6726 - accuracy: 0.5000 - val_loss: 0.6673 - val_accuracy: 0.5000\n",
      "Epoch 5/50\n",
      "1000/1000 [==============================] - 1s 721us/sample - loss: 0.6632 - accuracy: 0.5000 - val_loss: 0.6562 - val_accuracy: 0.5000\n",
      "Epoch 6/50\n",
      "1000/1000 [==============================] - 1s 732us/sample - loss: 0.6509 - accuracy: 0.5000 - val_loss: 0.6426 - val_accuracy: 0.5000\n",
      "Epoch 7/50\n",
      "1000/1000 [==============================] - 1s 712us/sample - loss: 0.6358 - accuracy: 0.5000 - val_loss: 0.6258 - val_accuracy: 0.5000\n",
      "Epoch 8/50\n",
      "1000/1000 [==============================] - 1s 710us/sample - loss: 0.6175 - accuracy: 0.5090 - val_loss: 0.6058 - val_accuracy: 0.7620\n",
      "Epoch 9/50\n",
      "1000/1000 [==============================] - 1s 718us/sample - loss: 0.5962 - accuracy: 0.7720 - val_loss: 0.5843 - val_accuracy: 0.8480\n",
      "Epoch 10/50\n",
      "1000/1000 [==============================] - 1s 726us/sample - loss: 0.5748 - accuracy: 0.8620 - val_loss: 0.5633 - val_accuracy: 0.9240\n",
      "Epoch 11/50\n",
      "1000/1000 [==============================] - 1s 717us/sample - loss: 0.5535 - accuracy: 0.9510 - val_loss: 0.5424 - val_accuracy: 0.9470\n",
      "Epoch 12/50\n",
      "1000/1000 [==============================] - 1s 713us/sample - loss: 0.5323 - accuracy: 0.9570 - val_loss: 0.5214 - val_accuracy: 0.9580\n",
      "Epoch 13/50\n",
      "1000/1000 [==============================] - 1s 724us/sample - loss: 0.5110 - accuracy: 0.9700 - val_loss: 0.5002 - val_accuracy: 0.9780\n",
      "Epoch 14/50\n",
      "1000/1000 [==============================] - 1s 725us/sample - loss: 0.4897 - accuracy: 0.9870 - val_loss: 0.4791 - val_accuracy: 0.9970\n",
      "Epoch 15/50\n",
      "1000/1000 [==============================] - 1s 725us/sample - loss: 0.4685 - accuracy: 0.9940 - val_loss: 0.4581 - val_accuracy: 0.9970\n",
      "Epoch 16/50\n",
      "1000/1000 [==============================] - 1s 741us/sample - loss: 0.4473 - accuracy: 0.9940 - val_loss: 0.4374 - val_accuracy: 0.9970\n",
      "Epoch 17/50\n",
      "1000/1000 [==============================] - 1s 739us/sample - loss: 0.4270 - accuracy: 0.9950 - val_loss: 0.4180 - val_accuracy: 0.9970\n",
      "Epoch 18/50\n",
      "1000/1000 [==============================] - 1s 765us/sample - loss: 0.4082 - accuracy: 0.9960 - val_loss: 0.3996 - val_accuracy: 0.9980\n",
      "Epoch 19/50\n",
      "1000/1000 [==============================] - 1s 727us/sample - loss: 0.3903 - accuracy: 0.9970 - val_loss: 0.3821 - val_accuracy: 1.0000\n",
      "Epoch 20/50\n",
      "1000/1000 [==============================] - 1s 720us/sample - loss: 0.3733 - accuracy: 0.9970 - val_loss: 0.3655 - val_accuracy: 1.0000\n",
      "Epoch 21/50\n",
      "1000/1000 [==============================] - 1s 724us/sample - loss: 0.3572 - accuracy: 0.9980 - val_loss: 0.3497 - val_accuracy: 1.0000\n",
      "Epoch 22/50\n",
      "1000/1000 [==============================] - 1s 765us/sample - loss: 0.3418 - accuracy: 0.9980 - val_loss: 0.3347 - val_accuracy: 1.0000\n",
      "Epoch 23/50\n",
      "1000/1000 [==============================] - 1s 715us/sample - loss: 0.3274 - accuracy: 0.9980 - val_loss: 0.3208 - val_accuracy: 1.0000\n",
      "Epoch 24/50\n",
      "1000/1000 [==============================] - 1s 735us/sample - loss: 0.3141 - accuracy: 0.9980 - val_loss: 0.3080 - val_accuracy: 1.0000\n",
      "Epoch 25/50\n",
      "1000/1000 [==============================] - 1s 717us/sample - loss: 0.3017 - accuracy: 0.9980 - val_loss: 0.2959 - val_accuracy: 1.0000\n",
      "Epoch 26/50\n",
      "1000/1000 [==============================] - 1s 713us/sample - loss: 0.2899 - accuracy: 0.9980 - val_loss: 0.2844 - val_accuracy: 1.0000\n",
      "Epoch 27/50\n",
      "1000/1000 [==============================] - 1s 715us/sample - loss: 0.2787 - accuracy: 0.9980 - val_loss: 0.2735 - val_accuracy: 1.0000\n",
      "Epoch 28/50\n",
      "1000/1000 [==============================] - 1s 718us/sample - loss: 0.2682 - accuracy: 0.9980 - val_loss: 0.2632 - val_accuracy: 1.0000\n",
      "Epoch 29/50\n",
      "1000/1000 [==============================] - 1s 711us/sample - loss: 0.2582 - accuracy: 0.9980 - val_loss: 0.2534 - val_accuracy: 1.0000\n",
      "Epoch 30/50\n",
      "1000/1000 [==============================] - 1s 711us/sample - loss: 0.2487 - accuracy: 0.9980 - val_loss: 0.2441 - val_accuracy: 1.0000\n",
      "Epoch 31/50\n",
      "1000/1000 [==============================] - 1s 712us/sample - loss: 0.2397 - accuracy: 0.9980 - val_loss: 0.2353 - val_accuracy: 1.0000\n",
      "Epoch 32/50\n",
      "1000/1000 [==============================] - 1s 710us/sample - loss: 0.2311 - accuracy: 0.9980 - val_loss: 0.2269 - val_accuracy: 1.0000\n",
      "Epoch 33/50\n",
      "1000/1000 [==============================] - 1s 709us/sample - loss: 0.2230 - accuracy: 0.9980 - val_loss: 0.2190 - val_accuracy: 1.0000\n",
      "Epoch 34/50\n",
      "1000/1000 [==============================] - 1s 712us/sample - loss: 0.2152 - accuracy: 0.9980 - val_loss: 0.2114 - val_accuracy: 1.0000\n",
      "Epoch 35/50\n",
      "1000/1000 [==============================] - 1s 711us/sample - loss: 0.2078 - accuracy: 0.9980 - val_loss: 0.2041 - val_accuracy: 1.0000\n",
      "Epoch 36/50\n",
      "1000/1000 [==============================] - 1s 712us/sample - loss: 0.2008 - accuracy: 0.9980 - val_loss: 0.1971 - val_accuracy: 1.0000\n",
      "Epoch 37/50\n",
      "1000/1000 [==============================] - 1s 712us/sample - loss: 0.1940 - accuracy: 0.9980 - val_loss: 0.1904 - val_accuracy: 1.0000\n",
      "Epoch 38/50\n",
      "1000/1000 [==============================] - 1s 712us/sample - loss: 0.1875 - accuracy: 0.9980 - val_loss: 0.1841 - val_accuracy: 1.0000\n",
      "Epoch 39/50\n",
      "1000/1000 [==============================] - 1s 712us/sample - loss: 0.1814 - accuracy: 1.0000 - val_loss: 0.1780 - val_accuracy: 1.0000\n",
      "Epoch 40/50\n",
      "1000/1000 [==============================] - 1s 738us/sample - loss: 0.1754 - accuracy: 1.0000 - val_loss: 0.1723 - val_accuracy: 1.0000\n",
      "Epoch 41/50\n",
      "1000/1000 [==============================] - 1s 731us/sample - loss: 0.1699 - accuracy: 1.0000 - val_loss: 0.1666 - val_accuracy: 1.0000\n",
      "Epoch 42/50\n",
      "1000/1000 [==============================] - 1s 746us/sample - loss: 0.1644 - accuracy: 1.0000 - val_loss: 0.1613 - val_accuracy: 1.0000\n",
      "Epoch 43/50\n",
      "1000/1000 [==============================] - 1s 740us/sample - loss: 0.1592 - accuracy: 1.0000 - val_loss: 0.1562 - val_accuracy: 1.0000\n",
      "Epoch 44/50\n",
      "1000/1000 [==============================] - 1s 739us/sample - loss: 0.1542 - accuracy: 1.0000 - val_loss: 0.1513 - val_accuracy: 1.0000\n",
      "Epoch 45/50\n",
      "1000/1000 [==============================] - 1s 710us/sample - loss: 0.1494 - accuracy: 1.0000 - val_loss: 0.1465 - val_accuracy: 1.0000\n",
      "Epoch 46/50\n",
      "1000/1000 [==============================] - 1s 743us/sample - loss: 0.1448 - accuracy: 1.0000 - val_loss: 0.1420 - val_accuracy: 1.0000\n",
      "Epoch 47/50\n",
      "1000/1000 [==============================] - 1s 717us/sample - loss: 0.1404 - accuracy: 1.0000 - val_loss: 0.1376 - val_accuracy: 1.0000\n",
      "Epoch 48/50\n",
      "1000/1000 [==============================] - 1s 713us/sample - loss: 0.1361 - accuracy: 1.0000 - val_loss: 0.1334 - val_accuracy: 1.0000\n",
      "Epoch 49/50\n",
      "1000/1000 [==============================] - 1s 742us/sample - loss: 0.1321 - accuracy: 1.0000 - val_loss: 0.1294 - val_accuracy: 1.0000\n",
      "Epoch 50/50\n",
      "1000/1000 [==============================] - 1s 721us/sample - loss: 0.1282 - accuracy: 1.0000 - val_loss: 0.1256 - val_accuracy: 1.0000\n"
     ]
    }
   ],
   "source": [
    "history=model.fit(X_train, Y_train,\n",
    "                  validation_data=(X_val,Y_val),\n",
    "                  batch_size=64, \n",
    "                  epochs=50,\n",
    "                  verbose=1,\n",
    "                  shuffle=True) "
   ]
  },
  {
   "cell_type": "code",
   "execution_count": 35,
   "metadata": {},
   "outputs": [
    {
     "data": {
      "text/plain": [
       "<matplotlib.legend.Legend at 0x65380ecd0>"
      ]
     },
     "execution_count": 35,
     "metadata": {},
     "output_type": "execute_result"
    },
    {
     "data": {
      "image/png": "[encoded data removed]",
      "text/plain": [
       "<Figure size 432x288 with 1 Axes>"
      ]
     },
     "metadata": {
      "needs_background": "light"
     },
     "output_type": "display_data"
    }
   ],
   "source": [
    "plt.plot(history.history['accuracy'])\n",
    "plt.plot(history.history['val_accuracy'])\n",
    "plt.title('Model Accuracy \\n(ReLU Activation, MaxPooling, Kernel Size = 5)')\n",
    "plt.ylabel('Accuracy')\n",
    "plt.xlabel('Epoch')\n",
    "plt.legend(['Train', 'Test'], loc='upper left')"
   ]
  },
  {
   "cell_type": "code",
   "execution_count": 36,
   "metadata": {},
   "outputs": [
    {
     "data": {
      "text/plain": [
       "<matplotlib.legend.Legend at 0x653897290>"
      ]
     },
     "execution_count": 36,
     "metadata": {},
     "output_type": "execute_result"
    },
    {
     "data": {
      "image/png": "[encoded data removed]",
      "text/plain": [
       "<Figure size 432x288 with 1 Axes>"
      ]
     },
     "metadata": {
      "needs_background": "light"
     },
     "output_type": "display_data"
    }
   ],
   "source": [
    "plt.plot(history.history['loss'])\n",
    "plt.plot(history.history['val_loss'])\n",
    "plt.title('Model Loss \\n(ReLU Activation, MaxPooling, Kernel Size = 5)')\n",
    "plt.ylabel('Loss')\n",
    "plt.xlabel('Epoch')\n",
    "plt.legend(['Train', 'Test'], loc='upper left')"
   ]
  },
  {
   "cell_type": "code",
   "execution_count": 37,
   "metadata": {},
   "outputs": [
    {
     "name": "stdout",
     "output_type": "stream",
     "text": [
      "1000/1 - 0s - loss: 0.0837 - accuracy: 1.0000\n",
      "Train loss: 0.12611668774485588\n",
      "Train accuracy: 1.0\n",
      "\n",
      "1000/1 - 0s - loss: 0.0834 - accuracy: 1.0000\n",
      "Test loss: 0.12557757422327995\n",
      "Test accuracy: 1.0\n"
     ]
    }
   ],
   "source": [
    "train_loss, train_acc = model.evaluate(X_train,  Y_train, verbose=2)\n",
    "print('Train loss:', train_loss)\n",
    "print('Train accuracy:', train_acc)\n",
    "print()\n",
    "test_loss, test_acc = model.evaluate(X_val,  Y_val, verbose=2)\n",
    "print('Test loss:', test_loss)\n",
    "print('Test accuracy:', test_acc)"
   ]
  },
  {
   "cell_type": "code",
   "execution_count": 38,
   "metadata": {
    "scrolled": true
   },
   "outputs": [
    {
     "data": {
      "text/plain": [
       "<matplotlib.colorbar.Colorbar at 0x65352f990>"
      ]
     },
     "execution_count": 38,
     "metadata": {},
     "output_type": "execute_result"
    },
    {
     "data": {
      "image/png": "[encoded data removed]",
      "text/plain": [
       "<Figure size 432x288 with 2 Axes>"
      ]
     },
     "metadata": {
      "needs_background": "light"
     },
     "output_type": "display_data"
    }
   ],
   "source": [
    "conv_filter=model.get_weights()[0]\n",
    "plt.imshow(conv_filter[:,:,0],cmap='gray')\n",
    "plt.colorbar()"
   ]
  },
  {
   "cell_type": "markdown",
   "metadata": {},
   "source": [
    "<br/>*The changes in the current model include: Linear Activation --> ReLU Activation.\n",
    "<br/>All other model conditions are kept the same as the first model from exercise 1.5.*\n",
    "<br/><br/>**Accuracy:** The model has the same accuracy as linear activation (1.0). But the test loss is lower than the train loss when using relu compared to linear activation (just by a little), suggesting that using relu during training produced a slightly more generalizable model than when using linear activation. \n",
    "<br/> **Kernel:** The kernel is much better at distinguishing between horizontal and vertical lines than in exercise 1.5, since there are more pixels that are fully white and fully black. As per the description of kernels above, this new kernel would generate higher values when aligned with horizontal lines than the old kernel in 1.5. This new kernel would also generate lower values when aligned with the vertical lines than the old kernel in 1.5. Thus, there is a larger difference between the outputs of kernels that are applied to horizontal lines and kernels that are applied to vertical lines–meaning that the kernel emphasizes the difference between the features much more."
   ]
  },
  {
   "cell_type": "markdown",
   "metadata": {},
   "source": [
    "### Modification 2: Average Pooling instead of Max Pooling"
   ]
  },
  {
   "cell_type": "code",
   "execution_count": 51,
   "metadata": {},
   "outputs": [],
   "source": [
    "model = tf.keras.models.Sequential([\n",
    "    tf.keras.layers.Conv2D(filters=1, kernel_size=5, activation='linear', padding=\"SAME\", input_shape=[50,50,1]),\n",
    "    tf.keras.layers.AveragePooling2D(pool_size=50),\n",
    "    tf.keras.layers.Flatten(),\n",
    "    tf.keras.layers.Dense(units=2, activation='softmax'),\n",
    "])"
   ]
  },
  {
   "cell_type": "code",
   "execution_count": 52,
   "metadata": {},
   "outputs": [],
   "source": [
    "model.compile(loss='categorical_crossentropy',\n",
    "    optimizer='adam',\n",
    "    metrics=['accuracy'])"
   ]
  },
  {
   "cell_type": "code",
   "execution_count": 53,
   "metadata": {
    "scrolled": true
   },
   "outputs": [
    {
     "name": "stdout",
     "output_type": "stream",
     "text": [
      "Model: \"sequential_5\"\n",
      "_________________________________________________________________\n",
      "Layer (type)                 Output Shape              Param #   \n",
      "=================================================================\n",
      "conv2d_5 (Conv2D)            (None, 50, 50, 1)         26        \n",
      "_________________________________________________________________\n",
      "average_pooling2d_2 (Average (None, 1, 1, 1)           0         \n",
      "_________________________________________________________________\n",
      "flatten_5 (Flatten)          (None, 1)                 0         \n",
      "_________________________________________________________________\n",
      "dense_5 (Dense)              (None, 2)                 4         \n",
      "=================================================================\n",
      "Total params: 30\n",
      "Trainable params: 30\n",
      "Non-trainable params: 0\n",
      "_________________________________________________________________\n"
     ]
    }
   ],
   "source": [
    "model.summary()"
   ]
  },
  {
   "cell_type": "code",
   "execution_count": 54,
   "metadata": {},
   "outputs": [
    {
     "name": "stdout",
     "output_type": "stream",
     "text": [
      "Train on 1000 samples, validate on 1000 samples\n",
      "Epoch 1/50\n",
      "1000/1000 [==============================] - 1s 1ms/sample - loss: 0.6932 - accuracy: 0.4930 - val_loss: 0.6932 - val_accuracy: 0.5000\n",
      "Epoch 2/50\n",
      "1000/1000 [==============================] - 1s 614us/sample - loss: 0.6932 - accuracy: 0.5000 - val_loss: 0.6932 - val_accuracy: 0.4810\n",
      "Epoch 3/50\n",
      "1000/1000 [==============================] - 1s 608us/sample - loss: 0.6932 - accuracy: 0.4990 - val_loss: 0.6932 - val_accuracy: 0.4960\n",
      "Epoch 4/50\n",
      "1000/1000 [==============================] - 1s 595us/sample - loss: 0.6932 - accuracy: 0.4980 - val_loss: 0.6932 - val_accuracy: 0.4940\n",
      "Epoch 5/50\n",
      "1000/1000 [==============================] - 1s 588us/sample - loss: 0.6932 - accuracy: 0.4890 - val_loss: 0.6932 - val_accuracy: 0.4880\n",
      "Epoch 6/50\n",
      "1000/1000 [==============================] - 1s 577us/sample - loss: 0.6932 - accuracy: 0.4890 - val_loss: 0.6932 - val_accuracy: 0.5020\n",
      "Epoch 7/50\n",
      "1000/1000 [==============================] - 1s 592us/sample - loss: 0.6932 - accuracy: 0.4810 - val_loss: 0.6932 - val_accuracy: 0.4840\n",
      "Epoch 8/50\n",
      "1000/1000 [==============================] - 1s 621us/sample - loss: 0.6932 - accuracy: 0.4780 - val_loss: 0.6932 - val_accuracy: 0.4930\n",
      "Epoch 9/50\n",
      "1000/1000 [==============================] - 1s 591us/sample - loss: 0.6933 - accuracy: 0.4870 - val_loss: 0.6932 - val_accuracy: 0.4940\n",
      "Epoch 10/50\n",
      "1000/1000 [==============================] - 1s 595us/sample - loss: 0.6931 - accuracy: 0.4960 - val_loss: 0.6932 - val_accuracy: 0.5180\n",
      "Epoch 11/50\n",
      "1000/1000 [==============================] - 1s 611us/sample - loss: 0.6932 - accuracy: 0.4960 - val_loss: 0.6932 - val_accuracy: 0.5060\n",
      "Epoch 12/50\n",
      "1000/1000 [==============================] - 1s 596us/sample - loss: 0.6932 - accuracy: 0.5030 - val_loss: 0.6932 - val_accuracy: 0.4970\n",
      "Epoch 13/50\n",
      "1000/1000 [==============================] - 1s 584us/sample - loss: 0.6931 - accuracy: 0.4970 - val_loss: 0.6931 - val_accuracy: 0.4990\n",
      "Epoch 14/50\n",
      "1000/1000 [==============================] - 1s 583us/sample - loss: 0.6931 - accuracy: 0.4990 - val_loss: 0.6931 - val_accuracy: 0.4860\n",
      "Epoch 15/50\n",
      "1000/1000 [==============================] - 1s 590us/sample - loss: 0.6932 - accuracy: 0.4830 - val_loss: 0.6931 - val_accuracy: 0.5060\n",
      "Epoch 16/50\n",
      "1000/1000 [==============================] - 1s 609us/sample - loss: 0.6932 - accuracy: 0.5040 - val_loss: 0.6931 - val_accuracy: 0.4910\n",
      "Epoch 17/50\n",
      "1000/1000 [==============================] - 1s 591us/sample - loss: 0.6931 - accuracy: 0.5130 - val_loss: 0.6931 - val_accuracy: 0.5110\n",
      "Epoch 18/50\n",
      "1000/1000 [==============================] - 1s 602us/sample - loss: 0.6931 - accuracy: 0.4970 - val_loss: 0.6931 - val_accuracy: 0.4990\n",
      "Epoch 19/50\n",
      "1000/1000 [==============================] - 1s 589us/sample - loss: 0.6931 - accuracy: 0.5110 - val_loss: 0.6931 - val_accuracy: 0.5150\n",
      "Epoch 20/50\n",
      "1000/1000 [==============================] - 1s 608us/sample - loss: 0.6931 - accuracy: 0.5170 - val_loss: 0.6931 - val_accuracy: 0.5180\n",
      "Epoch 21/50\n",
      "1000/1000 [==============================] - 1s 593us/sample - loss: 0.6931 - accuracy: 0.5100 - val_loss: 0.6931 - val_accuracy: 0.5180\n",
      "Epoch 22/50\n",
      "1000/1000 [==============================] - 1s 586us/sample - loss: 0.6931 - accuracy: 0.5240 - val_loss: 0.6931 - val_accuracy: 0.5160\n",
      "Epoch 23/50\n",
      "1000/1000 [==============================] - 1s 596us/sample - loss: 0.6931 - accuracy: 0.5150 - val_loss: 0.6931 - val_accuracy: 0.5010\n",
      "Epoch 24/50\n",
      "1000/1000 [==============================] - 1s 615us/sample - loss: 0.6931 - accuracy: 0.5320 - val_loss: 0.6931 - val_accuracy: 0.5130\n",
      "Epoch 25/50\n",
      "1000/1000 [==============================] - 1s 618us/sample - loss: 0.6931 - accuracy: 0.5150 - val_loss: 0.6931 - val_accuracy: 0.5140\n",
      "Epoch 26/50\n",
      "1000/1000 [==============================] - 1s 599us/sample - loss: 0.6931 - accuracy: 0.5240 - val_loss: 0.6931 - val_accuracy: 0.5120\n",
      "Epoch 27/50\n",
      "1000/1000 [==============================] - 1s 614us/sample - loss: 0.6931 - accuracy: 0.5180 - val_loss: 0.6931 - val_accuracy: 0.5090\n",
      "Epoch 28/50\n",
      "1000/1000 [==============================] - 1s 584us/sample - loss: 0.6931 - accuracy: 0.5220 - val_loss: 0.6931 - val_accuracy: 0.5030\n",
      "Epoch 29/50\n",
      "1000/1000 [==============================] - 1s 576us/sample - loss: 0.6930 - accuracy: 0.5240 - val_loss: 0.6931 - val_accuracy: 0.5130\n",
      "Epoch 30/50\n",
      "1000/1000 [==============================] - 1s 578us/sample - loss: 0.6931 - accuracy: 0.5160 - val_loss: 0.6931 - val_accuracy: 0.5010\n",
      "Epoch 31/50\n",
      "1000/1000 [==============================] - 1s 577us/sample - loss: 0.6931 - accuracy: 0.5050 - val_loss: 0.6931 - val_accuracy: 0.5210\n",
      "Epoch 32/50\n",
      "1000/1000 [==============================] - 1s 588us/sample - loss: 0.6931 - accuracy: 0.5070 - val_loss: 0.6931 - val_accuracy: 0.5180\n",
      "Epoch 33/50\n",
      "1000/1000 [==============================] - 1s 582us/sample - loss: 0.6931 - accuracy: 0.5090 - val_loss: 0.6931 - val_accuracy: 0.5000\n",
      "Epoch 34/50\n",
      "1000/1000 [==============================] - 1s 578us/sample - loss: 0.6930 - accuracy: 0.5110 - val_loss: 0.6931 - val_accuracy: 0.4950\n",
      "Epoch 35/50\n",
      "1000/1000 [==============================] - 1s 583us/sample - loss: 0.6931 - accuracy: 0.5260 - val_loss: 0.6931 - val_accuracy: 0.5160\n",
      "Epoch 36/50\n",
      "1000/1000 [==============================] - 1s 606us/sample - loss: 0.6930 - accuracy: 0.5230 - val_loss: 0.6931 - val_accuracy: 0.5020\n",
      "Epoch 37/50\n",
      "1000/1000 [==============================] - 1s 587us/sample - loss: 0.6930 - accuracy: 0.5150 - val_loss: 0.6931 - val_accuracy: 0.4980\n",
      "Epoch 38/50\n",
      "1000/1000 [==============================] - 1s 588us/sample - loss: 0.6930 - accuracy: 0.5150 - val_loss: 0.6930 - val_accuracy: 0.5290\n",
      "Epoch 39/50\n",
      "1000/1000 [==============================] - 1s 605us/sample - loss: 0.6930 - accuracy: 0.5180 - val_loss: 0.6930 - val_accuracy: 0.5180\n",
      "Epoch 40/50\n",
      "1000/1000 [==============================] - 1s 600us/sample - loss: 0.6930 - accuracy: 0.5200 - val_loss: 0.6930 - val_accuracy: 0.5130\n",
      "Epoch 41/50\n",
      "1000/1000 [==============================] - 1s 595us/sample - loss: 0.6930 - accuracy: 0.5290 - val_loss: 0.6930 - val_accuracy: 0.5160\n",
      "Epoch 42/50\n",
      "1000/1000 [==============================] - 1s 741us/sample - loss: 0.6930 - accuracy: 0.5260 - val_loss: 0.6930 - val_accuracy: 0.5190\n",
      "Epoch 43/50\n",
      "1000/1000 [==============================] - 1s 649us/sample - loss: 0.6930 - accuracy: 0.5250 - val_loss: 0.6930 - val_accuracy: 0.5290\n",
      "Epoch 44/50\n",
      "1000/1000 [==============================] - 1s 589us/sample - loss: 0.6930 - accuracy: 0.5260 - val_loss: 0.6930 - val_accuracy: 0.4950\n",
      "Epoch 45/50\n",
      "1000/1000 [==============================] - 1s 622us/sample - loss: 0.6930 - accuracy: 0.5220 - val_loss: 0.6930 - val_accuracy: 0.5190\n",
      "Epoch 46/50\n",
      "1000/1000 [==============================] - 1s 578us/sample - loss: 0.6930 - accuracy: 0.5300 - val_loss: 0.6930 - val_accuracy: 0.5080\n",
      "Epoch 47/50\n",
      "1000/1000 [==============================] - 1s 584us/sample - loss: 0.6929 - accuracy: 0.5260 - val_loss: 0.6930 - val_accuracy: 0.5170\n",
      "Epoch 48/50\n",
      "1000/1000 [==============================] - 1s 596us/sample - loss: 0.6930 - accuracy: 0.5040 - val_loss: 0.6930 - val_accuracy: 0.5190\n",
      "Epoch 49/50\n",
      "1000/1000 [==============================] - 1s 579us/sample - loss: 0.6929 - accuracy: 0.5140 - val_loss: 0.6930 - val_accuracy: 0.5250\n",
      "Epoch 50/50\n",
      "1000/1000 [==============================] - 1s 576us/sample - loss: 0.6929 - accuracy: 0.5280 - val_loss: 0.6930 - val_accuracy: 0.5190\n"
     ]
    }
   ],
   "source": [
    "history=model.fit(X_train, Y_train,\n",
    "                  validation_data=(X_val,Y_val),\n",
    "                  batch_size=64, \n",
    "                  epochs=50,\n",
    "                  verbose=1,\n",
    "                  shuffle=True) "
   ]
  },
  {
   "cell_type": "code",
   "execution_count": 59,
   "metadata": {},
   "outputs": [
    {
     "data": {
      "text/plain": [
       "<matplotlib.legend.Legend at 0x653eb0fd0>"
      ]
     },
     "execution_count": 59,
     "metadata": {},
     "output_type": "execute_result"
    },
    {
     "data": {
      "image/png": "[encoded data removed]",
      "text/plain": [
       "<Figure size 432x288 with 1 Axes>"
      ]
     },
     "metadata": {
      "needs_background": "light"
     },
     "output_type": "display_data"
    }
   ],
   "source": [
    "plt.plot(history.history['accuracy'])\n",
    "plt.plot(history.history['val_accuracy'])\n",
    "plt.title('Model Accuracy \\n(Linear Activation, AveragePooling, Kernel Size = 5)')\n",
    "plt.ylabel('Accuracy')\n",
    "plt.xlabel('Epoch')\n",
    "plt.legend(['Train', 'Test'], loc='upper left')"
   ]
  },
  {
   "cell_type": "code",
   "execution_count": 60,
   "metadata": {},
   "outputs": [
    {
     "data": {
      "text/plain": [
       "<matplotlib.legend.Legend at 0x652ae8510>"
      ]
     },
     "execution_count": 60,
     "metadata": {},
     "output_type": "execute_result"
    },
    {
     "data": {
      "image/png": "[encoded data removed]",
      "text/plain": [
       "<Figure size 432x288 with 1 Axes>"
      ]
     },
     "metadata": {
      "needs_background": "light"
     },
     "output_type": "display_data"
    }
   ],
   "source": [
    "plt.plot(history.history['loss'])\n",
    "plt.plot(history.history['val_loss'])\n",
    "plt.title('Model Loss \\n(Linear Activation, AveragePooling, Kernel Size = 5)')\n",
    "plt.ylabel('Loss')\n",
    "plt.xlabel('Epoch')\n",
    "plt.legend(['Train', 'Test'], loc='upper left')"
   ]
  },
  {
   "cell_type": "code",
   "execution_count": 61,
   "metadata": {},
   "outputs": [
    {
     "name": "stdout",
     "output_type": "stream",
     "text": [
      "1000/1 - 0s - loss: 0.6921 - accuracy: 0.5310\n",
      "Train loss: 0.6928762664794922\n",
      "Train accuracy: 0.531\n",
      "\n",
      "1000/1 - 0s - loss: 0.6935 - accuracy: 0.5190\n",
      "Test loss: 0.6929818258285523\n",
      "Test accuracy: 0.519\n"
     ]
    }
   ],
   "source": [
    "train_loss, train_acc = model.evaluate(X_train,  Y_train, verbose=2)\n",
    "print('Train loss:', train_loss)\n",
    "print('Train accuracy:', train_acc)\n",
    "print()\n",
    "test_loss, test_acc = model.evaluate(X_val,  Y_val, verbose=2)\n",
    "print('Test loss:', test_loss)\n",
    "print('Test accuracy:', test_acc)"
   ]
  },
  {
   "cell_type": "code",
   "execution_count": 62,
   "metadata": {
    "scrolled": true
   },
   "outputs": [
    {
     "data": {
      "text/plain": [
       "<matplotlib.colorbar.Colorbar at 0x652b2a350>"
      ]
     },
     "execution_count": 62,
     "metadata": {},
     "output_type": "execute_result"
    },
    {
     "data": {
      "image/png": "[encoded data removed]",
      "text/plain": [
       "<Figure size 432x288 with 2 Axes>"
      ]
     },
     "metadata": {
      "needs_background": "light"
     },
     "output_type": "display_data"
    }
   ],
   "source": [
    "conv_filter=model.get_weights()[0]\n",
    "plt.imshow(conv_filter[:,:,0],cmap='gray')\n",
    "plt.colorbar()"
   ]
  },
  {
   "cell_type": "markdown",
   "metadata": {},
   "source": [
    "<br/>*The changes in the current model include: MaxPooling --> AveragePooling.\n",
    "<br/>All other model conditions are kept the same as the first model from exercise 1.5.*\n",
    "<br/><br/>**Accuracy:** The model has a much lower accuracy when using average pooling compared to maxpooling, and the test accuracy is lower than the train accuracy as well. This suggests that average pooling produces a much less accurate model that is less generalizable (is overfitted) than when using maxpooling. It is therefore more favourable to use maxpooling for this data, when combined with linear activation.\n",
    "<br/> **Kernel:** The kernel appears to be worse at identifying horizontal and vertical lines since it lacks structure and seems to not extract any useful features from the image. Thus, the outputs for horizontal and vertical line images will likely be similar and the outputs will be seemingly random (i.e., ~50% accuracy). So, the kernel won't be able to distinguish between the images well."
   ]
  },
  {
   "cell_type": "markdown",
   "metadata": {},
   "source": [
    "### Modification 3: Different Kernel Size (10)"
   ]
  },
  {
   "cell_type": "code",
   "execution_count": 63,
   "metadata": {},
   "outputs": [],
   "source": [
    "model = tf.keras.models.Sequential([\n",
    "    tf.keras.layers.Conv2D(filters=1, kernel_size=10, activation='linear', padding=\"SAME\", input_shape=[50,50,1]),\n",
    "    tf.keras.layers.MaxPooling2D(pool_size=50),\n",
    "    tf.keras.layers.Flatten(),\n",
    "    tf.keras.layers.Dense(units=2, activation='softmax'),\n",
    "])"
   ]
  },
  {
   "cell_type": "code",
   "execution_count": 64,
   "metadata": {},
   "outputs": [],
   "source": [
    "model.compile(loss='categorical_crossentropy',\n",
    "    optimizer='adam',\n",
    "    metrics=['accuracy'])"
   ]
  },
  {
   "cell_type": "code",
   "execution_count": 65,
   "metadata": {
    "scrolled": true
   },
   "outputs": [
    {
     "name": "stdout",
     "output_type": "stream",
     "text": [
      "Model: \"sequential_6\"\n",
      "_________________________________________________________________\n",
      "Layer (type)                 Output Shape              Param #   \n",
      "=================================================================\n",
      "conv2d_6 (Conv2D)            (None, 50, 50, 1)         101       \n",
      "_________________________________________________________________\n",
      "max_pooling2d_3 (MaxPooling2 (None, 1, 1, 1)           0         \n",
      "_________________________________________________________________\n",
      "flatten_6 (Flatten)          (None, 1)                 0         \n",
      "_________________________________________________________________\n",
      "dense_6 (Dense)              (None, 2)                 4         \n",
      "=================================================================\n",
      "Total params: 105\n",
      "Trainable params: 105\n",
      "Non-trainable params: 0\n",
      "_________________________________________________________________\n"
     ]
    }
   ],
   "source": [
    "model.summary()"
   ]
  },
  {
   "cell_type": "code",
   "execution_count": 66,
   "metadata": {},
   "outputs": [
    {
     "name": "stdout",
     "output_type": "stream",
     "text": [
      "Train on 1000 samples, validate on 1000 samples\n",
      "Epoch 1/50\n",
      "1000/1000 [==============================] - 2s 2ms/sample - loss: 0.6922 - accuracy: 0.5000 - val_loss: 0.6861 - val_accuracy: 0.5000\n",
      "Epoch 2/50\n",
      "1000/1000 [==============================] - 1s 1ms/sample - loss: 0.6806 - accuracy: 0.5000 - val_loss: 0.6738 - val_accuracy: 0.5000\n",
      "Epoch 3/50\n",
      "1000/1000 [==============================] - 1s 1ms/sample - loss: 0.6668 - accuracy: 0.5000 - val_loss: 0.6583 - val_accuracy: 0.5000\n",
      "Epoch 4/50\n",
      "1000/1000 [==============================] - 1s 1ms/sample - loss: 0.6496 - accuracy: 0.5000 - val_loss: 0.6386 - val_accuracy: 0.5000\n",
      "Epoch 5/50\n",
      "1000/1000 [==============================] - 1s 1ms/sample - loss: 0.6282 - accuracy: 0.5000 - val_loss: 0.6154 - val_accuracy: 0.5040\n",
      "Epoch 6/50\n",
      "1000/1000 [==============================] - 1s 1ms/sample - loss: 0.6027 - accuracy: 0.5190 - val_loss: 0.5882 - val_accuracy: 0.5570\n",
      "Epoch 7/50\n",
      "1000/1000 [==============================] - 1s 1ms/sample - loss: 0.5742 - accuracy: 0.6010 - val_loss: 0.5579 - val_accuracy: 0.6540\n",
      "Epoch 8/50\n",
      "1000/1000 [==============================] - 1s 1ms/sample - loss: 0.5435 - accuracy: 0.7390 - val_loss: 0.5260 - val_accuracy: 0.8520\n",
      "Epoch 9/50\n",
      "1000/1000 [==============================] - 1s 1ms/sample - loss: 0.5122 - accuracy: 0.8860 - val_loss: 0.4946 - val_accuracy: 0.9250\n",
      "Epoch 10/50\n",
      "1000/1000 [==============================] - 1s 1ms/sample - loss: 0.4819 - accuracy: 0.9410 - val_loss: 0.4647 - val_accuracy: 0.9700\n",
      "Epoch 11/50\n",
      "1000/1000 [==============================] - 1s 1ms/sample - loss: 0.4530 - accuracy: 0.9880 - val_loss: 0.4371 - val_accuracy: 0.9930\n",
      "Epoch 12/50\n",
      "1000/1000 [==============================] - 1s 1ms/sample - loss: 0.4262 - accuracy: 0.9970 - val_loss: 0.4116 - val_accuracy: 0.9970\n",
      "Epoch 13/50\n",
      "1000/1000 [==============================] - 1s 1ms/sample - loss: 0.4017 - accuracy: 1.0000 - val_loss: 0.3881 - val_accuracy: 0.9990\n",
      "Epoch 14/50\n",
      "1000/1000 [==============================] - 1s 1ms/sample - loss: 0.3791 - accuracy: 1.0000 - val_loss: 0.3666 - val_accuracy: 0.9990\n",
      "Epoch 15/50\n",
      "1000/1000 [==============================] - 1s 1ms/sample - loss: 0.3584 - accuracy: 1.0000 - val_loss: 0.3468 - val_accuracy: 0.9990\n",
      "Epoch 16/50\n",
      "1000/1000 [==============================] - 1s 1ms/sample - loss: 0.3393 - accuracy: 1.0000 - val_loss: 0.3285 - val_accuracy: 0.9990\n",
      "Epoch 17/50\n",
      "1000/1000 [==============================] - 1s 1ms/sample - loss: 0.3217 - accuracy: 1.0000 - val_loss: 0.3117 - val_accuracy: 1.0000\n",
      "Epoch 18/50\n",
      "1000/1000 [==============================] - 1s 1ms/sample - loss: 0.3054 - accuracy: 1.0000 - val_loss: 0.2961 - val_accuracy: 1.0000\n",
      "Epoch 19/50\n",
      "1000/1000 [==============================] - 1s 1ms/sample - loss: 0.2901 - accuracy: 1.0000 - val_loss: 0.2816 - val_accuracy: 1.0000\n",
      "Epoch 20/50\n",
      "1000/1000 [==============================] - 1s 1ms/sample - loss: 0.2760 - accuracy: 1.0000 - val_loss: 0.2680 - val_accuracy: 1.0000\n",
      "Epoch 21/50\n",
      "1000/1000 [==============================] - 1s 1ms/sample - loss: 0.2627 - accuracy: 1.0000 - val_loss: 0.2553 - val_accuracy: 1.0000\n",
      "Epoch 22/50\n",
      "1000/1000 [==============================] - 1s 1ms/sample - loss: 0.2502 - accuracy: 1.0000 - val_loss: 0.2431 - val_accuracy: 1.0000\n",
      "Epoch 23/50\n",
      "1000/1000 [==============================] - 1s 1ms/sample - loss: 0.2377 - accuracy: 1.0000 - val_loss: 0.2307 - val_accuracy: 1.0000\n",
      "Epoch 24/50\n",
      "1000/1000 [==============================] - 1s 1ms/sample - loss: 0.2254 - accuracy: 1.0000 - val_loss: 0.2188 - val_accuracy: 1.0000\n",
      "Epoch 25/50\n",
      "1000/1000 [==============================] - 1s 1ms/sample - loss: 0.2137 - accuracy: 1.0000 - val_loss: 0.2076 - val_accuracy: 1.0000\n",
      "Epoch 26/50\n",
      "1000/1000 [==============================] - 1s 1ms/sample - loss: 0.2025 - accuracy: 1.0000 - val_loss: 0.1970 - val_accuracy: 1.0000\n",
      "Epoch 27/50\n",
      "1000/1000 [==============================] - 1s 1ms/sample - loss: 0.1920 - accuracy: 1.0000 - val_loss: 0.1871 - val_accuracy: 1.0000\n",
      "Epoch 28/50\n",
      "1000/1000 [==============================] - 1s 1ms/sample - loss: 0.1822 - accuracy: 1.0000 - val_loss: 0.1779 - val_accuracy: 1.0000\n",
      "Epoch 29/50\n",
      "1000/1000 [==============================] - 1s 1ms/sample - loss: 0.1732 - accuracy: 1.0000 - val_loss: 0.1693 - val_accuracy: 1.0000\n",
      "Epoch 30/50\n",
      "1000/1000 [==============================] - 1s 1ms/sample - loss: 0.1648 - accuracy: 1.0000 - val_loss: 0.1610 - val_accuracy: 1.0000\n",
      "Epoch 31/50\n",
      "1000/1000 [==============================] - 1s 1ms/sample - loss: 0.1568 - accuracy: 1.0000 - val_loss: 0.1530 - val_accuracy: 1.0000\n",
      "Epoch 32/50\n",
      "1000/1000 [==============================] - 1s 1ms/sample - loss: 0.1491 - accuracy: 1.0000 - val_loss: 0.1455 - val_accuracy: 1.0000\n",
      "Epoch 33/50\n",
      "1000/1000 [==============================] - 1s 1ms/sample - loss: 0.1418 - accuracy: 1.0000 - val_loss: 0.1383 - val_accuracy: 1.0000\n",
      "Epoch 34/50\n",
      "1000/1000 [==============================] - 2s 2ms/sample - loss: 0.1348 - accuracy: 1.0000 - val_loss: 0.1315 - val_accuracy: 1.0000\n",
      "Epoch 35/50\n",
      "1000/1000 [==============================] - 1s 1ms/sample - loss: 0.1281 - accuracy: 1.0000 - val_loss: 0.1251 - val_accuracy: 1.0000\n",
      "Epoch 36/50\n",
      "1000/1000 [==============================] - 1s 1ms/sample - loss: 0.1219 - accuracy: 1.0000 - val_loss: 0.1190 - val_accuracy: 1.0000\n",
      "Epoch 37/50\n",
      "1000/1000 [==============================] - 1s 1ms/sample - loss: 0.1160 - accuracy: 1.0000 - val_loss: 0.1133 - val_accuracy: 1.0000\n",
      "Epoch 38/50\n",
      "1000/1000 [==============================] - 1s 1ms/sample - loss: 0.1106 - accuracy: 1.0000 - val_loss: 0.1080 - val_accuracy: 1.0000\n",
      "Epoch 39/50\n",
      "1000/1000 [==============================] - 1s 1ms/sample - loss: 0.1055 - accuracy: 1.0000 - val_loss: 0.1031 - val_accuracy: 1.0000\n",
      "Epoch 40/50\n",
      "1000/1000 [==============================] - 1s 1ms/sample - loss: 0.1008 - accuracy: 1.0000 - val_loss: 0.0985 - val_accuracy: 1.0000\n",
      "Epoch 41/50\n",
      "1000/1000 [==============================] - 1s 1ms/sample - loss: 0.0964 - accuracy: 1.0000 - val_loss: 0.0943 - val_accuracy: 1.0000\n",
      "Epoch 42/50\n",
      "1000/1000 [==============================] - 1s 1ms/sample - loss: 0.0923 - accuracy: 1.0000 - val_loss: 0.0903 - val_accuracy: 1.0000\n",
      "Epoch 43/50\n",
      "1000/1000 [==============================] - 1s 1ms/sample - loss: 0.0885 - accuracy: 1.0000 - val_loss: 0.0865 - val_accuracy: 1.0000\n",
      "Epoch 44/50\n",
      "1000/1000 [==============================] - 1s 1ms/sample - loss: 0.0848 - accuracy: 1.0000 - val_loss: 0.0830 - val_accuracy: 1.0000\n",
      "Epoch 45/50\n",
      "1000/1000 [==============================] - 1s 1ms/sample - loss: 0.0814 - accuracy: 1.0000 - val_loss: 0.0797 - val_accuracy: 1.0000\n",
      "Epoch 46/50\n",
      "1000/1000 [==============================] - 1s 1ms/sample - loss: 0.0782 - accuracy: 1.0000 - val_loss: 0.0765 - val_accuracy: 1.0000\n",
      "Epoch 47/50\n",
      "1000/1000 [==============================] - 1s 1ms/sample - loss: 0.0751 - accuracy: 1.0000 - val_loss: 0.0735 - val_accuracy: 1.0000\n",
      "Epoch 48/50\n",
      "1000/1000 [==============================] - 1s 1ms/sample - loss: 0.0722 - accuracy: 1.0000 - val_loss: 0.0707 - val_accuracy: 1.0000\n",
      "Epoch 49/50\n",
      "1000/1000 [==============================] - 1s 1ms/sample - loss: 0.0694 - accuracy: 1.0000 - val_loss: 0.0680 - val_accuracy: 1.0000\n",
      "Epoch 50/50\n",
      "1000/1000 [==============================] - 1s 1ms/sample - loss: 0.0668 - accuracy: 1.0000 - val_loss: 0.0654 - val_accuracy: 1.0000\n"
     ]
    }
   ],
   "source": [
    "history=model.fit(X_train, Y_train,\n",
    "                  validation_data=(X_val,Y_val),\n",
    "                  batch_size=64, \n",
    "                  epochs=50,\n",
    "                  verbose=1,\n",
    "                  shuffle=True) "
   ]
  },
  {
   "cell_type": "code",
   "execution_count": 68,
   "metadata": {},
   "outputs": [
    {
     "data": {
      "text/plain": [
       "<matplotlib.legend.Legend at 0x6565fded0>"
      ]
     },
     "execution_count": 68,
     "metadata": {},
     "output_type": "execute_result"
    },
    {
     "data": {
      "image/png": "[encoded data removed]",
      "text/plain": [
       "<Figure size 432x288 with 1 Axes>"
      ]
     },
     "metadata": {
      "needs_background": "light"
     },
     "output_type": "display_data"
    }
   ],
   "source": [
    "plt.plot(history.history['accuracy'])\n",
    "plt.plot(history.history['val_accuracy'])\n",
    "plt.title('Model Accuracy \\n(Linear Activation, MaxPooling, Kernel Size = 10)')\n",
    "plt.ylabel('Accuracy')\n",
    "plt.xlabel('Epoch')\n",
    "plt.legend(['Train', 'Test'], loc='upper left')"
   ]
  },
  {
   "cell_type": "code",
   "execution_count": 71,
   "metadata": {},
   "outputs": [
    {
     "data": {
      "text/plain": [
       "<matplotlib.legend.Legend at 0x656725610>"
      ]
     },
     "execution_count": 71,
     "metadata": {},
     "output_type": "execute_result"
    },
    {
     "data": {
      "image/png": "[encoded data removed]",
      "text/plain": [
       "<Figure size 432x288 with 1 Axes>"
      ]
     },
     "metadata": {
      "needs_background": "light"
     },
     "output_type": "display_data"
    }
   ],
   "source": [
    "plt.plot(history.history['loss'])\n",
    "plt.plot(history.history['val_loss'])\n",
    "plt.title('Model Loss \\n(Linear Activation, MaxPooling, Kernel Size = 10)')\n",
    "plt.ylabel('Loss')\n",
    "plt.xlabel('Epoch')\n",
    "plt.legend(['Train', 'Test'], loc='upper left')"
   ]
  },
  {
   "cell_type": "code",
   "execution_count": 72,
   "metadata": {},
   "outputs": [
    {
     "name": "stdout",
     "output_type": "stream",
     "text": [
      "1000/1 - 0s - loss: 0.0917 - accuracy: 1.0000\n",
      "Train loss: 0.06545362088084221\n",
      "Train accuracy: 1.0\n",
      "\n",
      "1000/1 - 0s - loss: 0.1065 - accuracy: 1.0000\n",
      "Test loss: 0.06542047701776027\n",
      "Test accuracy: 1.0\n"
     ]
    }
   ],
   "source": [
    "train_loss, train_acc = model.evaluate(X_train,  Y_train, verbose=2)\n",
    "print('Train loss:', train_loss)\n",
    "print('Train accuracy:', train_acc)\n",
    "print()\n",
    "test_loss, test_acc = model.evaluate(X_val,  Y_val, verbose=2)\n",
    "print('Test loss:', test_loss)\n",
    "print('Test accuracy:', test_acc)"
   ]
  },
  {
   "cell_type": "code",
   "execution_count": 73,
   "metadata": {
    "scrolled": false
   },
   "outputs": [
    {
     "data": {
      "text/plain": [
       "<matplotlib.colorbar.Colorbar at 0x656983bd0>"
      ]
     },
     "execution_count": 73,
     "metadata": {},
     "output_type": "execute_result"
    },
    {
     "data": {
      "image/png": "[encoded data removed]",
      "text/plain": [
       "<Figure size 432x288 with 2 Axes>"
      ]
     },
     "metadata": {
      "needs_background": "light"
     },
     "output_type": "display_data"
    }
   ],
   "source": [
    "conv_filter=model.get_weights()[0]\n",
    "plt.imshow(conv_filter[:,:,0],cmap='gray')\n",
    "plt.colorbar()"
   ]
  },
  {
   "cell_type": "markdown",
   "metadata": {},
   "source": [
    "<br/>*The changes in the current model include: Kernel Size = 3 --> Kernel Size = 10.\n",
    "<br/>All other model conditions are kept the same as the first model in exercise 1.5.*\n",
    "<br/><br/>**Accuracy:** The accuracy is still very good (1.0), akin to that of exercise 1.5 and modification 1. The loss is the lowest out of all the models so far. These outcomes indicate that the model can distinguish between horizontal and vertical lines very well. Additionally, the test and train loss are almost the same, indicating that this is generalizable to new data.\n",
    "<br/> **Kernel:** The kernel is much more precise than any of the previous ones–since it is 10x10, it has more pixels to detect features and can detect smaller differences. The kernel is able to distinguish between horizontal and vertical lines well, as per prior explanations. This suggests that an increase in kernel size improved this model. There are also many more parameters than the other models (105) as a result of larger kernels being optimized, which is another possible explanation for the improvements observed."
   ]
  },
  {
   "cell_type": "markdown",
   "metadata": {},
   "source": [
    "# Exercise 2 - Non-Linear Regression"
   ]
  },
  {
   "cell_type": "code",
   "execution_count": 25,
   "metadata": {},
   "outputs": [],
   "source": [
    "import autograd.numpy as np\n",
    "from autograd import grad\n",
    "import matplotlib.pyplot as plt\n",
    "\n",
    "csvname = 'multiple_sine_waves.csv'\n",
    "data = np.loadtxt(csvname,delimiter=',')\n",
    "x = data[:2,:]\n",
    "y = data[2:,:]"
   ]
  },
  {
   "cell_type": "code",
   "execution_count": 26,
   "metadata": {},
   "outputs": [],
   "source": [
    "def feature_transforms(x,w):\n",
    "    a = w[0] + np.dot(x.T,w[1:])\n",
    "    return np.sin(a).T\n",
    "\n",
    "def model(x,w):    \n",
    "    # feature transformation \n",
    "#     print(w[0])\n",
    "    f = feature_transforms(x,w[0])\n",
    "    \n",
    "    # compute linear combination and return\n",
    "    a = w[1][0] + np.dot(f.T,w[1][1:])\n",
    "    return a.T"
   ]
  },
  {
   "cell_type": "code",
   "execution_count": 27,
   "metadata": {},
   "outputs": [],
   "source": [
    "# Define the cost function\n",
    "def least_squares(w):\n",
    "    P = float(y.shape[1])\n",
    "    cost = np.sum((model(x,w) - y) ** 2)\n",
    "    return cost / P"
   ]
  },
  {
   "cell_type": "code",
   "execution_count": 28,
   "metadata": {},
   "outputs": [],
   "source": [
    "# gradient descent function - inputs: g (input function), \n",
    "# alpha (steplength parameter), \n",
    "# max_its (maximum number of iterations), w (initialization)\n",
    "def gradient_descent(g,alpha,max_its,w):\n",
    "    # compute gradient module using autograd\n",
    "    gradient = grad(g)\n",
    "\n",
    "    # run the gradient descent loop\n",
    "    weight_history = [w]     # container for weight history\n",
    "    cost_history = [g(w)]    # container for corresponding cost function history\n",
    "    for k in range(max_its):\n",
    "        # evaluate the gradient, store current weights and cost function value\n",
    "        grad_eval = gradient(w)\n",
    "\n",
    "        # take gradient descent step\n",
    "        w = w - alpha*grad_eval\n",
    "\n",
    "        # record weight and cost\n",
    "        weight_history.append(w)\n",
    "        cost_history.append(g(w))\n",
    "    return weight_history,cost_history"
   ]
  },
  {
   "cell_type": "code",
   "execution_count": 29,
   "metadata": {},
   "outputs": [],
   "source": [
    "g=least_squares; alpha=10**(0); max_its=2000; w=np.array([np.random.randn(3,2),np.random.randn(3,2)])\n",
    "w_history, c_history = gradient_descent(g,alpha,max_its,w)"
   ]
  },
  {
   "cell_type": "code",
   "execution_count": 30,
   "metadata": {},
   "outputs": [
    {
     "name": "stdout",
     "output_type": "stream",
     "text": [
      "The optimal weight parameters are: \n",
      " [[[10.06178893 10.00378723]\n",
      "  [ 7.32240987  6.62784076]\n",
      "  [ 4.54485461  5.27689589]]\n",
      "\n",
      " [[-1.44845004 -0.44168225]\n",
      "  [ 0.35706706  0.79214282]\n",
      "  [-0.56293753  0.25468069]]]\n"
     ]
    }
   ],
   "source": [
    "i = np.argmin(c_history)\n",
    "w_star = w_history[i]\n",
    "print(\"The optimal weight parameters are: \\n\", w_star)"
   ]
  },
  {
   "cell_type": "code",
   "execution_count": 32,
   "metadata": {},
   "outputs": [
    {
     "data": {
      "text/plain": [
       "Text(0.5, 1.0, 'Cost Function History for Non-Linear Regression Optimization')"
      ]
     },
     "execution_count": 32,
     "metadata": {},
     "output_type": "execute_result"
    },
    {
     "data": {
      "image/png": "[encoded data removed]",
      "text/plain": [
       "<Figure size 432x288 with 1 Axes>"
      ]
     },
     "metadata": {
      "needs_background": "light"
     },
     "output_type": "display_data"
    }
   ],
   "source": [
    "plt.plot(np.linspace(0,len(c_history),len(c_history)), c_history, color='r', label='beta = 0')\n",
    "plt.xlabel('Iteration (k)')\n",
    "plt.ylabel('Cost (g(w^k))')\n",
    "plt.title('Cost Function History for Non-Linear Regression Optimization')"
   ]
  },
  {
   "cell_type": "markdown",
   "metadata": {},
   "source": [
    "# Exercise 3 - Model Tuning"
   ]
  },
  {
   "cell_type": "markdown",
   "metadata": {},
   "source": [
    "## 3.1 - Testing different step lengths in MNIST"
   ]
  },
  {
   "cell_type": "code",
   "execution_count": 1,
   "metadata": {},
   "outputs": [
    {
     "name": "stdout",
     "output_type": "stream",
     "text": [
      "Train on 48000 samples, validate on 12000 samples\n",
      "Epoch 1/10\n",
      "48000/48000 [==============================] - 4s 88us/sample - loss: 963.8651 - accuracy: 0.4328 - val_loss: 3.4739 - val_accuracy: 0.3174\n",
      "Epoch 2/10\n",
      "48000/48000 [==============================] - 3s 71us/sample - loss: 5.2814 - accuracy: 0.2693 - val_loss: 2.3535 - val_accuracy: 0.2455\n",
      "Epoch 3/10\n",
      "48000/48000 [==============================] - 3s 72us/sample - loss: 3.6394 - accuracy: 0.2614 - val_loss: 2.1447 - val_accuracy: 0.2267\n",
      "Epoch 4/10\n",
      "48000/48000 [==============================] - 3s 72us/sample - loss: 2.6549 - accuracy: 0.2546 - val_loss: 2.6333 - val_accuracy: 0.2475\n",
      "Epoch 5/10\n",
      "48000/48000 [==============================] - 4s 74us/sample - loss: 2.6531 - accuracy: 0.2654 - val_loss: 3.2826 - val_accuracy: 0.3027\n",
      "Epoch 6/10\n",
      "48000/48000 [==============================] - 4s 75us/sample - loss: 2.7326 - accuracy: 0.2850 - val_loss: 2.2479 - val_accuracy: 0.2716\n",
      "Epoch 7/10\n",
      "48000/48000 [==============================] - 4s 76us/sample - loss: 2.5155 - accuracy: 0.2800 - val_loss: 3.1103 - val_accuracy: 0.3183\n",
      "Epoch 8/10\n",
      "48000/48000 [==============================] - 4s 75us/sample - loss: 2.5737 - accuracy: 0.2888 - val_loss: 2.6993 - val_accuracy: 0.3004\n",
      "Epoch 9/10\n",
      "48000/48000 [==============================] - 4s 76us/sample - loss: 2.3057 - accuracy: 0.2875 - val_loss: 2.4618 - val_accuracy: 0.3179\n",
      "Epoch 10/10\n",
      "48000/48000 [==============================] - 4s 76us/sample - loss: 2.6979 - accuracy: 0.3172 - val_loss: 3.5294 - val_accuracy: 0.3577\n",
      "Train on 48000 samples, validate on 12000 samples\n",
      "Epoch 1/10\n",
      "48000/48000 [==============================] - 4s 92us/sample - loss: 205.7218 - accuracy: 0.4575 - val_loss: 2.3648 - val_accuracy: 0.4788\n",
      "Epoch 2/10\n",
      "48000/48000 [==============================] - 4s 79us/sample - loss: 3.2856 - accuracy: 0.4247 - val_loss: 2.6246 - val_accuracy: 0.4616\n",
      "Epoch 3/10\n",
      "48000/48000 [==============================] - 4s 79us/sample - loss: 2.8140 - accuracy: 0.4260 - val_loss: 2.1475 - val_accuracy: 0.3575\n",
      "Epoch 4/10\n",
      "48000/48000 [==============================] - 4s 79us/sample - loss: 2.3807 - accuracy: 0.4077 - val_loss: 1.7637 - val_accuracy: 0.3346\n",
      "Epoch 5/10\n",
      "48000/48000 [==============================] - 4s 80us/sample - loss: 2.4088 - accuracy: 0.4094 - val_loss: 1.8697 - val_accuracy: 0.4223\n",
      "Epoch 6/10\n",
      "48000/48000 [==============================] - 4s 86us/sample - loss: 2.2794 - accuracy: 0.4184 - val_loss: 2.2246 - val_accuracy: 0.4157\n",
      "Epoch 7/10\n",
      "48000/48000 [==============================] - 4s 86us/sample - loss: 2.1108 - accuracy: 0.4225 - val_loss: 2.0009 - val_accuracy: 0.4597\n",
      "Epoch 8/10\n",
      "48000/48000 [==============================] - 4s 84us/sample - loss: 2.3527 - accuracy: 0.4247 - val_loss: 2.0645 - val_accuracy: 0.4334\n",
      "Epoch 9/10\n",
      "48000/48000 [==============================] - 4s 86us/sample - loss: 2.4573 - accuracy: 0.4402 - val_loss: 4.6742 - val_accuracy: 0.4147\n",
      "Epoch 10/10\n",
      "48000/48000 [==============================] - 4s 80us/sample - loss: 2.1721 - accuracy: 0.4454 - val_loss: 1.9164 - val_accuracy: 0.4532\n",
      "Train on 48000 samples, validate on 12000 samples\n",
      "Epoch 1/10\n",
      "48000/48000 [==============================] - 5s 94us/sample - loss: 10.3530 - accuracy: 0.8153 - val_loss: 0.7088 - val_accuracy: 0.8708\n",
      "Epoch 2/10\n",
      "48000/48000 [==============================] - 4s 79us/sample - loss: 0.8035 - accuracy: 0.8794 - val_loss: 0.6490 - val_accuracy: 0.9030\n",
      "Epoch 3/10\n",
      "48000/48000 [==============================] - 4s 78us/sample - loss: 0.7147 - accuracy: 0.8870 - val_loss: 0.6216 - val_accuracy: 0.8787\n",
      "Epoch 4/10\n",
      "48000/48000 [==============================] - 4s 79us/sample - loss: 0.6760 - accuracy: 0.8916 - val_loss: 0.7166 - val_accuracy: 0.9018\n",
      "Epoch 5/10\n",
      "48000/48000 [==============================] - 4s 86us/sample - loss: 0.6663 - accuracy: 0.8963 - val_loss: 0.7141 - val_accuracy: 0.9075\n",
      "Epoch 6/10\n",
      "48000/48000 [==============================] - 4s 83us/sample - loss: 0.6646 - accuracy: 0.8994 - val_loss: 1.0296 - val_accuracy: 0.8938\n",
      "Epoch 7/10\n",
      "48000/48000 [==============================] - 4s 78us/sample - loss: 0.6811 - accuracy: 0.9011 - val_loss: 1.3737 - val_accuracy: 0.9033\n",
      "Epoch 8/10\n",
      "48000/48000 [==============================] - 4s 78us/sample - loss: 0.6403 - accuracy: 0.9080 - val_loss: 1.1348 - val_accuracy: 0.8953\n",
      "Epoch 9/10\n",
      "48000/48000 [==============================] - 4s 78us/sample - loss: 0.6715 - accuracy: 0.9080 - val_loss: 0.9450 - val_accuracy: 0.8934\n",
      "Epoch 10/10\n",
      "48000/48000 [==============================] - 4s 76us/sample - loss: 0.6892 - accuracy: 0.9119 - val_loss: 0.8767 - val_accuracy: 0.9033\n",
      "Train on 48000 samples, validate on 12000 samples\n",
      "Epoch 1/10\n",
      "48000/48000 [==============================] - 4s 89us/sample - loss: 0.3711 - accuracy: 0.9109 - val_loss: 0.1733 - val_accuracy: 0.9504\n",
      "Epoch 2/10\n",
      "48000/48000 [==============================] - 4s 76us/sample - loss: 0.1362 - accuracy: 0.9642 - val_loss: 0.1605 - val_accuracy: 0.9649\n",
      "Epoch 3/10\n",
      "48000/48000 [==============================] - 4s 80us/sample - loss: 0.1118 - accuracy: 0.9735 - val_loss: 0.2066 - val_accuracy: 0.9638\n",
      "Epoch 4/10\n",
      "48000/48000 [==============================] - 4s 80us/sample - loss: 0.0972 - accuracy: 0.9775 - val_loss: 0.1854 - val_accuracy: 0.9682\n",
      "Epoch 5/10\n",
      "48000/48000 [==============================] - 4s 81us/sample - loss: 0.0897 - accuracy: 0.9813 - val_loss: 0.2561 - val_accuracy: 0.9615\n",
      "Epoch 6/10\n",
      "48000/48000 [==============================] - 4s 77us/sample - loss: 0.0759 - accuracy: 0.9848 - val_loss: 0.2633 - val_accuracy: 0.9706\n",
      "Epoch 7/10\n",
      "48000/48000 [==============================] - 4s 79us/sample - loss: 0.0790 - accuracy: 0.9858 - val_loss: 0.2515 - val_accuracy: 0.9727\n",
      "Epoch 8/10\n",
      "48000/48000 [==============================] - 4s 78us/sample - loss: 0.0681 - accuracy: 0.9869 - val_loss: 0.2597 - val_accuracy: 0.9734\n",
      "Epoch 9/10\n",
      "48000/48000 [==============================] - 4s 78us/sample - loss: 0.0605 - accuracy: 0.9894 - val_loss: 0.2686 - val_accuracy: 0.9754\n",
      "Epoch 10/10\n",
      "48000/48000 [==============================] - 4s 77us/sample - loss: 0.0517 - accuracy: 0.9907 - val_loss: 0.2705 - val_accuracy: 0.9743\n",
      "Train on 48000 samples, validate on 12000 samples\n",
      "Epoch 1/10\n",
      "48000/48000 [==============================] - 4s 92us/sample - loss: 0.2855 - accuracy: 0.9170 - val_loss: 0.1616 - val_accuracy: 0.9512\n",
      "Epoch 2/10\n",
      "48000/48000 [==============================] - 4s 79us/sample - loss: 0.1199 - accuracy: 0.9642 - val_loss: 0.1083 - val_accuracy: 0.9684\n",
      "Epoch 3/10\n",
      "48000/48000 [==============================] - 4s 79us/sample - loss: 0.0792 - accuracy: 0.9769 - val_loss: 0.0911 - val_accuracy: 0.9742\n",
      "Epoch 4/10\n",
      "48000/48000 [==============================] - 4s 79us/sample - loss: 0.0561 - accuracy: 0.9830 - val_loss: 0.0880 - val_accuracy: 0.9754\n",
      "Epoch 5/10\n",
      "48000/48000 [==============================] - 4s 80us/sample - loss: 0.0428 - accuracy: 0.9872 - val_loss: 0.0877 - val_accuracy: 0.9756\n",
      "Epoch 6/10\n",
      "48000/48000 [==============================] - 4s 80us/sample - loss: 0.0324 - accuracy: 0.9903 - val_loss: 0.0832 - val_accuracy: 0.9779\n",
      "Epoch 7/10\n",
      "48000/48000 [==============================] - 4s 80us/sample - loss: 0.0246 - accuracy: 0.9927 - val_loss: 0.0842 - val_accuracy: 0.9767\n",
      "Epoch 8/10\n",
      "48000/48000 [==============================] - 4s 78us/sample - loss: 0.0187 - accuracy: 0.9946 - val_loss: 0.0836 - val_accuracy: 0.9789\n",
      "Epoch 9/10\n",
      "48000/48000 [==============================] - 4s 80us/sample - loss: 0.0137 - accuracy: 0.9961 - val_loss: 0.0848 - val_accuracy: 0.9785\n",
      "Epoch 10/10\n",
      "48000/48000 [==============================] - 4s 79us/sample - loss: 0.0109 - accuracy: 0.9969 - val_loss: 0.0889 - val_accuracy: 0.9785\n"
     ]
    }
   ],
   "source": [
    "from tensorflow.keras.datasets import mnist\n",
    "import numpy as np\n",
    "from tensorflow import keras\n",
    "from tensorflow.keras import layers\n",
    "\n",
    "(train_images, train_labels), _ = mnist.load_data()\n",
    "train_images = train_images.reshape((60000, 28 * 28))\n",
    "train_images = train_images.astype('float32') / 255\n",
    "\n",
    "alpha = 1.0\n",
    "model_1 = keras.Sequential([\n",
    "  layers.Dense(512, activation='relu'),\n",
    "  layers.Dense(10, activation='softmax')\n",
    "])\n",
    "model_1.compile(optimizer=keras.optimizers.RMSprop(alpha),\n",
    "              loss='sparse_categorical_crossentropy',\n",
    "              metrics=['accuracy'])\n",
    "history_1 =model_1.fit(train_images, train_labels,\n",
    "          epochs=10,\n",
    "          batch_size=128,\n",
    "          validation_split=0.2)\n",
    "\n",
    "alpha = 0.5\n",
    "model_05 = keras.Sequential([\n",
    "  layers.Dense(512, activation='relu'),\n",
    "  layers.Dense(10, activation='softmax')\n",
    "])\n",
    "model_05.compile(optimizer=keras.optimizers.RMSprop(alpha),\n",
    "              loss='sparse_categorical_crossentropy',\n",
    "              metrics=['accuracy'])\n",
    "history_05 =model_05.fit(train_images, train_labels,\n",
    "          epochs=10,\n",
    "          batch_size=128,\n",
    "          validation_split=0.2)\n",
    "\n",
    "alpha = 0.1\n",
    "model_01 = keras.Sequential([\n",
    "  layers.Dense(512, activation='relu'),\n",
    "  layers.Dense(10, activation='softmax')\n",
    "])\n",
    "model_01.compile(optimizer=keras.optimizers.RMSprop(alpha),\n",
    "              loss='sparse_categorical_crossentropy',\n",
    "              metrics=['accuracy'])\n",
    "history_01 =model_01.fit(train_images, train_labels,\n",
    "          epochs=10,\n",
    "          batch_size=128,\n",
    "          validation_split=0.2)\n",
    "\n",
    "alpha = 0.01\n",
    "model_001 = keras.Sequential([\n",
    "  layers.Dense(512, activation='relu'),\n",
    "  layers.Dense(10, activation='softmax')\n",
    "])\n",
    "model_001.compile(optimizer=keras.optimizers.RMSprop(alpha),\n",
    "              loss='sparse_categorical_crossentropy',\n",
    "              metrics=['accuracy'])\n",
    "history_001 =model_001.fit(train_images, train_labels,\n",
    "          epochs=10,\n",
    "          batch_size=128,\n",
    "          validation_split=0.2)\n",
    "\n",
    "alpha = 0.001\n",
    "model_0001 = keras.Sequential([\n",
    "  layers.Dense(512, activation='relu'),\n",
    "  layers.Dense(10, activation='softmax')\n",
    "])\n",
    "model_0001.compile(optimizer=keras.optimizers.RMSprop(alpha),\n",
    "              loss='sparse_categorical_crossentropy',\n",
    "              metrics=['accuracy'])\n",
    "history_0001 =model_0001.fit(train_images, train_labels,\n",
    "          epochs=10,\n",
    "          batch_size=128,\n",
    "          validation_split=0.2)\n"
   ]
  },
  {
   "cell_type": "code",
   "execution_count": 5,
   "metadata": {},
   "outputs": [
    {
     "data": {
      "text/plain": [
       "<matplotlib.legend.Legend at 0x672121190>"
      ]
     },
     "execution_count": 5,
     "metadata": {},
     "output_type": "execute_result"
    },
    {
     "data": {
      "image/png": "[encoded data removed]",
      "text/plain": [
       "<Figure size 432x288 with 1 Axes>"
      ]
     },
     "metadata": {
      "needs_background": "light"
     },
     "output_type": "display_data"
    }
   ],
   "source": [
    "plt.plot(history_1.history['val_loss'], label=\"alpha = 1.0\")\n",
    "plt.plot(history_05.history['val_loss'], label=\"alpha = 0.5\")\n",
    "plt.plot(history_01.history['val_loss'], label=\"alpha = 0.1\")\n",
    "plt.plot(history_001.history['val_loss'], label=\"alpha = 0.01\")\n",
    "plt.plot(history_0001.history['val_loss'], label=\"alpha = 0.001\")\n",
    "plt.title('Model Loss (Validation Data)')\n",
    "plt.ylabel('Loss')\n",
    "plt.xlabel('Epoch')\n",
    "plt.legend(loc='upper right')"
   ]
  },
  {
   "cell_type": "code",
   "execution_count": 6,
   "metadata": {},
   "outputs": [
    {
     "data": {
      "text/plain": [
       "<matplotlib.legend.Legend at 0x67237f050>"
      ]
     },
     "execution_count": 6,
     "metadata": {},
     "output_type": "execute_result"
    },
    {
     "data": {
      "image/png": "[encoded data removed]",
      "text/plain": [
       "<Figure size 432x288 with 1 Axes>"
      ]
     },
     "metadata": {
      "needs_background": "light"
     },
     "output_type": "display_data"
    }
   ],
   "source": [
    "plt.plot(history_1.history['val_accuracy'], label=\"alpha = 1.0\")\n",
    "plt.plot(history_05.history['val_accuracy'], label=\"alpha = 0.5\")\n",
    "plt.plot(history_01.history['val_accuracy'], label=\"alpha = 0.1\")\n",
    "plt.plot(history_001.history['val_accuracy'], label=\"alpha = 0.01\")\n",
    "plt.plot(history_0001.history['val_accuracy'], label=\"alpha = 0.001\")\n",
    "plt.title('Model Accuracy (Validation Data)')\n",
    "plt.ylabel('Accuracy')\n",
    "plt.xlabel('Epoch')\n",
    "plt.legend(loc='upper right')"
   ]
  },
  {
   "cell_type": "code",
   "execution_count": 7,
   "metadata": {},
   "outputs": [
    {
     "data": {
      "text/plain": [
       "<matplotlib.legend.Legend at 0x67252c150>"
      ]
     },
     "execution_count": 7,
     "metadata": {},
     "output_type": "execute_result"
    },
    {
     "data": {
      "image/png": "[encoded data removed]",
      "text/plain": [
       "<Figure size 432x288 with 1 Axes>"
      ]
     },
     "metadata": {
      "needs_background": "light"
     },
     "output_type": "display_data"
    }
   ],
   "source": [
    "plt.plot(history_1.history['loss'], label=\"alpha = 1.0\")\n",
    "plt.plot(history_05.history['loss'], label=\"alpha = 0.5\")\n",
    "plt.plot(history_01.history['loss'], label=\"alpha = 0.1\")\n",
    "plt.plot(history_001.history['loss'], label=\"alpha = 0.01\")\n",
    "plt.plot(history_0001.history['loss'], label=\"alpha = 0.001\")\n",
    "plt.title('Model Loss (Training Data)')\n",
    "plt.ylabel('Loss')\n",
    "plt.xlabel('Epoch')\n",
    "plt.legend(loc='upper right')"
   ]
  },
  {
   "cell_type": "code",
   "execution_count": 8,
   "metadata": {},
   "outputs": [
    {
     "data": {
      "text/plain": [
       "<matplotlib.legend.Legend at 0x672692090>"
      ]
     },
     "execution_count": 8,
     "metadata": {},
     "output_type": "execute_result"
    },
    {
     "data": {
      "image/png": "[encoded data removed]",
      "text/plain": [
       "<Figure size 432x288 with 1 Axes>"
      ]
     },
     "metadata": {
      "needs_background": "light"
     },
     "output_type": "display_data"
    }
   ],
   "source": [
    "plt.plot(history_1.history['accuracy'], label=\"alpha = 1.0\")\n",
    "plt.plot(history_05.history['accuracy'], label=\"alpha = 0.5\")\n",
    "plt.plot(history_01.history['accuracy'], label=\"alpha = 0.1\")\n",
    "plt.plot(history_001.history['accuracy'], label=\"alpha = 0.01\")\n",
    "plt.plot(history_0001.history['accuracy'], label=\"alpha = 0.001\")\n",
    "plt.title('Model Accuracy (Training Data)')\n",
    "plt.ylabel('Accuracy')\n",
    "plt.xlabel('Epoch')\n",
    "plt.legend(loc='upper right')"
   ]
  },
  {
   "cell_type": "code",
   "execution_count": 9,
   "metadata": {},
   "outputs": [
    {
     "name": "stdout",
     "output_type": "stream",
     "text": [
      "Training Data Metrics\n",
      "alpha 1.0\n",
      "60000/1 - 3s - loss: 2.2612 - accuracy: 0.3487\n",
      "\n",
      "alpha 0.5\n",
      "60000/1 - 3s - loss: 1.5170 - accuracy: 0.4440\n",
      "\n",
      "alpha 0.1\n",
      "60000/1 - 3s - loss: 0.2731 - accuracy: 0.9097\n",
      "\n",
      "alpha 0.01\n",
      "60000/1 - 3s - loss: 0.0424 - accuracy: 0.9889\n",
      "\n",
      "alpha 0.001\n",
      "60000/1 - 3s - loss: 0.0120 - accuracy: 0.9939\n",
      "\n"
     ]
    }
   ],
   "source": [
    "print(\"Training Data Metrics\")\n",
    "print('alpha 1.0')\n",
    "train_loss, train_acc = model_1.evaluate(train_images,  train_labels, verbose=2)\n",
    "print()\n",
    "\n",
    "print('alpha 0.5')\n",
    "train_loss, train_acc = model_05.evaluate(train_images,  train_labels, verbose=2)\n",
    "print()\n",
    "\n",
    "print('alpha 0.1')\n",
    "train_loss, train_acc = model_01.evaluate(train_images,  train_labels, verbose=2)\n",
    "print()\n",
    "\n",
    "print('alpha 0.01')\n",
    "train_loss, train_acc = model_001.evaluate(train_images,  train_labels, verbose=2)\n",
    "print()\n",
    "\n",
    "print('alpha 0.001')\n",
    "train_loss, train_acc = model_0001.evaluate(train_images,  train_labels, verbose=2)\n",
    "print()"
   ]
  },
  {
   "cell_type": "code",
   "execution_count": 14,
   "metadata": {},
   "outputs": [
    {
     "name": "stdout",
     "output_type": "stream",
     "text": [
      "Training Data Metrics\n",
      "alpha 1.0\n",
      "Accuracy: 0.35775\n",
      "Loss: 3.5294276494979857\n",
      "\n",
      "alpha 0.5\n",
      "Accuracy: 0.45325\n",
      "Loss: 1.916403898557027\n",
      "\n",
      "alpha 0.1\n",
      "Accuracy: 0.9033333\n",
      "Loss: 0.8767038471698761\n",
      "\n",
      "alpha 0.01\n",
      "Accuracy: 0.97425\n",
      "Loss: 0.2705365432305618\n",
      "\n",
      "alpha 0.001\n",
      "Accuracy: 0.9785\n",
      "Loss: 0.0888745981445536\n",
      "\n"
     ]
    }
   ],
   "source": [
    "print(\"Training Data Metrics\")\n",
    "print('alpha 1.0')\n",
    "print('Accuracy:', history_1.history['val_accuracy'][-1])\n",
    "print('Loss:', history_1.history['val_loss'][-1])\n",
    "print()\n",
    "print('alpha 0.5')\n",
    "print('Accuracy:', history_05.history['val_accuracy'][-1])\n",
    "print('Loss:', (history_05.history['val_loss'][-1]))\n",
    "print()\n",
    "print('alpha 0.1')\n",
    "print('Accuracy:', history_01.history['val_accuracy'][-1])\n",
    "print('Loss:', (history_01.history['val_loss'][-1]))\n",
    "print()\n",
    "print('alpha 0.01')\n",
    "print('Accuracy:', history_001.history['val_accuracy'][-1])\n",
    "print('Loss:', (history_001.history['val_loss'][-1]))\n",
    "print()\n",
    "print('alpha 0.001')\n",
    "print('Accuracy:', history_0001.history['val_accuracy'][-1])\n",
    "print('Loss:', (history_0001.history['val_loss'][-1]))\n",
    "print()"
   ]
  },
  {
   "cell_type": "markdown",
   "metadata": {},
   "source": [
    "**Question: What happens as you decrease the value of alpha? What can you say about the firrst value\n",
    "of alpha = 1.0 ? Explain your results.**\n",
    "<br/>**Response:** Similar trends are observed among the training and validation datasets. For both training and validation sets, the alpha that yielded both the highest accuracy and lowest loss was alpha = 0.001, thus it performs the most accurate classification out of all the models tested. As alpha is decreased, we can see that the accuracy increases and the loss decreases. The first value of alpha = 1.0 yielded the lowest accuracy (0.2542 for training, 0.35775 for validation) and highest loss (2.1441 for training, 3.5294 for validation), and thus it is the model that performed the worst out of the five. This is likely because the alpha = 1.0 was too large of a step that it skipped over important minima during RMSProp's gradient descent. As we decreased alpha, the smaller step lengths were able to reach important minima of the cost function.\n"
   ]
  },
  {
   "cell_type": "markdown",
   "metadata": {},
   "source": [
    "## 3.2 - MNIST Logistic Regression"
   ]
  },
  {
   "cell_type": "code",
   "execution_count": 24,
   "metadata": {},
   "outputs": [
    {
     "name": "stdout",
     "output_type": "stream",
     "text": [
      "Train on 48000 samples, validate on 12000 samples\n",
      "Epoch 1/50\n",
      "48000/48000 [==============================] - 2s 41us/sample - loss: 0.6713 - accuracy: 0.8354 - val_loss: 0.3618 - val_accuracy: 0.9034\n",
      "Epoch 2/50\n",
      "48000/48000 [==============================] - 1s 22us/sample - loss: 0.3515 - accuracy: 0.9033 - val_loss: 0.3081 - val_accuracy: 0.9136\n",
      "Epoch 3/50\n",
      "48000/48000 [==============================] - 1s 21us/sample - loss: 0.3155 - accuracy: 0.9129 - val_loss: 0.2905 - val_accuracy: 0.9203\n",
      "Epoch 4/50\n",
      "48000/48000 [==============================] - 1s 21us/sample - loss: 0.2991 - accuracy: 0.9167 - val_loss: 0.2815 - val_accuracy: 0.9215\n",
      "Epoch 5/50\n",
      "48000/48000 [==============================] - 1s 21us/sample - loss: 0.2895 - accuracy: 0.9191 - val_loss: 0.2755 - val_accuracy: 0.9237\n",
      "Epoch 6/50\n",
      "48000/48000 [==============================] - 1s 22us/sample - loss: 0.2832 - accuracy: 0.9206 - val_loss: 0.2715 - val_accuracy: 0.9262\n",
      "Epoch 7/50\n",
      "48000/48000 [==============================] - 1s 22us/sample - loss: 0.2783 - accuracy: 0.9225 - val_loss: 0.2696 - val_accuracy: 0.9265\n",
      "Epoch 8/50\n",
      "48000/48000 [==============================] - 1s 21us/sample - loss: 0.2742 - accuracy: 0.9237 - val_loss: 0.2675 - val_accuracy: 0.9269\n",
      "Epoch 9/50\n",
      "48000/48000 [==============================] - 1s 22us/sample - loss: 0.2714 - accuracy: 0.9239 - val_loss: 0.2642 - val_accuracy: 0.9283\n",
      "Epoch 10/50\n",
      "48000/48000 [==============================] - 1s 22us/sample - loss: 0.2686 - accuracy: 0.9254 - val_loss: 0.2640 - val_accuracy: 0.9295\n",
      "Epoch 11/50\n",
      "48000/48000 [==============================] - 1s 22us/sample - loss: 0.2662 - accuracy: 0.9263 - val_loss: 0.2656 - val_accuracy: 0.9278\n",
      "Epoch 12/50\n",
      "48000/48000 [==============================] - 1s 22us/sample - loss: 0.2649 - accuracy: 0.9271 - val_loss: 0.2643 - val_accuracy: 0.9287\n",
      "Epoch 13/50\n",
      "48000/48000 [==============================] - 1s 26us/sample - loss: 0.2630 - accuracy: 0.9272 - val_loss: 0.2630 - val_accuracy: 0.9293\n",
      "Epoch 14/50\n",
      "48000/48000 [==============================] - 1s 26us/sample - loss: 0.2617 - accuracy: 0.9281 - val_loss: 0.2628 - val_accuracy: 0.9299\n",
      "Epoch 15/50\n",
      "48000/48000 [==============================] - 1s 29us/sample - loss: 0.2600 - accuracy: 0.9286 - val_loss: 0.2630 - val_accuracy: 0.9282\n",
      "Epoch 16/50\n",
      "48000/48000 [==============================] - 2s 32us/sample - loss: 0.2591 - accuracy: 0.9286 - val_loss: 0.2622 - val_accuracy: 0.9298\n",
      "Epoch 17/50\n",
      "48000/48000 [==============================] - 1s 28us/sample - loss: 0.2579 - accuracy: 0.9296 - val_loss: 0.2645 - val_accuracy: 0.9286\n",
      "Epoch 18/50\n",
      "48000/48000 [==============================] - 1s 24us/sample - loss: 0.2573 - accuracy: 0.9295 - val_loss: 0.2614 - val_accuracy: 0.9303\n",
      "Epoch 19/50\n",
      "48000/48000 [==============================] - 1s 24us/sample - loss: 0.2562 - accuracy: 0.9302 - val_loss: 0.2618 - val_accuracy: 0.9303\n",
      "Epoch 20/50\n",
      "48000/48000 [==============================] - 1s 24us/sample - loss: 0.2554 - accuracy: 0.9300 - val_loss: 0.2634 - val_accuracy: 0.9297\n",
      "Epoch 21/50\n",
      "48000/48000 [==============================] - 1s 26us/sample - loss: 0.2549 - accuracy: 0.9308 - val_loss: 0.2619 - val_accuracy: 0.9301\n",
      "Epoch 22/50\n",
      "48000/48000 [==============================] - 1s 27us/sample - loss: 0.2540 - accuracy: 0.9311 - val_loss: 0.2605 - val_accuracy: 0.9313\n",
      "Epoch 23/50\n",
      "48000/48000 [==============================] - 1s 25us/sample - loss: 0.2534 - accuracy: 0.9308 - val_loss: 0.2601 - val_accuracy: 0.9316\n",
      "Epoch 24/50\n",
      "48000/48000 [==============================] - 1s 27us/sample - loss: 0.2526 - accuracy: 0.9314 - val_loss: 0.2637 - val_accuracy: 0.9301\n",
      "Epoch 25/50\n",
      "48000/48000 [==============================] - 1s 29us/sample - loss: 0.2524 - accuracy: 0.9314 - val_loss: 0.2615 - val_accuracy: 0.9317\n",
      "Epoch 26/50\n",
      "48000/48000 [==============================] - 1s 26us/sample - loss: 0.2516 - accuracy: 0.9319 - val_loss: 0.2607 - val_accuracy: 0.9315\n",
      "Epoch 27/50\n",
      "48000/48000 [==============================] - 1s 26us/sample - loss: 0.2511 - accuracy: 0.9325 - val_loss: 0.2632 - val_accuracy: 0.9312\n",
      "Epoch 28/50\n",
      "48000/48000 [==============================] - 1s 26us/sample - loss: 0.2504 - accuracy: 0.9323 - val_loss: 0.2623 - val_accuracy: 0.9308\n",
      "Epoch 29/50\n",
      "48000/48000 [==============================] - 1s 27us/sample - loss: 0.2502 - accuracy: 0.9321 - val_loss: 0.2617 - val_accuracy: 0.9317\n",
      "Epoch 30/50\n",
      "48000/48000 [==============================] - 1s 28us/sample - loss: 0.2497 - accuracy: 0.9327 - val_loss: 0.2627 - val_accuracy: 0.9308\n",
      "Epoch 31/50\n",
      "48000/48000 [==============================] - 1s 26us/sample - loss: 0.2493 - accuracy: 0.9327 - val_loss: 0.2620 - val_accuracy: 0.9309\n",
      "Epoch 32/50\n",
      "48000/48000 [==============================] - 1s 28us/sample - loss: 0.2493 - accuracy: 0.9322 - val_loss: 0.2633 - val_accuracy: 0.9310\n",
      "Epoch 33/50\n",
      "48000/48000 [==============================] - 1s 31us/sample - loss: 0.2487 - accuracy: 0.9331 - val_loss: 0.2641 - val_accuracy: 0.9305\n",
      "Epoch 34/50\n",
      "48000/48000 [==============================] - 1s 26us/sample - loss: 0.2483 - accuracy: 0.9322 - val_loss: 0.2638 - val_accuracy: 0.9311\n",
      "Epoch 35/50\n",
      "48000/48000 [==============================] - 1s 25us/sample - loss: 0.2482 - accuracy: 0.9332 - val_loss: 0.2626 - val_accuracy: 0.9318\n",
      "Epoch 36/50\n",
      "48000/48000 [==============================] - 1s 26us/sample - loss: 0.2475 - accuracy: 0.9331 - val_loss: 0.2644 - val_accuracy: 0.9321\n",
      "Epoch 37/50\n",
      "48000/48000 [==============================] - 1s 29us/sample - loss: 0.2474 - accuracy: 0.9329 - val_loss: 0.2636 - val_accuracy: 0.9314\n",
      "Epoch 38/50\n",
      "48000/48000 [==============================] - 1s 28us/sample - loss: 0.2471 - accuracy: 0.9337 - val_loss: 0.2640 - val_accuracy: 0.9312\n",
      "Epoch 39/50\n",
      "48000/48000 [==============================] - 1s 25us/sample - loss: 0.2466 - accuracy: 0.9330 - val_loss: 0.2646 - val_accuracy: 0.9312\n",
      "Epoch 40/50\n",
      "48000/48000 [==============================] - 1s 25us/sample - loss: 0.2465 - accuracy: 0.9334 - val_loss: 0.2654 - val_accuracy: 0.9302\n",
      "Epoch 41/50\n",
      "48000/48000 [==============================] - 1s 25us/sample - loss: 0.2461 - accuracy: 0.9328 - val_loss: 0.2635 - val_accuracy: 0.9320\n",
      "Epoch 42/50\n",
      "48000/48000 [==============================] - 1s 24us/sample - loss: 0.2459 - accuracy: 0.9337 - val_loss: 0.2657 - val_accuracy: 0.9313\n",
      "Epoch 43/50\n",
      "48000/48000 [==============================] - 1s 25us/sample - loss: 0.2456 - accuracy: 0.9337 - val_loss: 0.2668 - val_accuracy: 0.9315\n",
      "Epoch 44/50\n",
      "48000/48000 [==============================] - 1s 26us/sample - loss: 0.2457 - accuracy: 0.9338 - val_loss: 0.2657 - val_accuracy: 0.9322\n",
      "Epoch 45/50\n",
      "48000/48000 [==============================] - 1s 28us/sample - loss: 0.2455 - accuracy: 0.9333 - val_loss: 0.2660 - val_accuracy: 0.9302\n",
      "Epoch 46/50\n",
      "48000/48000 [==============================] - 1s 27us/sample - loss: 0.2448 - accuracy: 0.9342 - val_loss: 0.2657 - val_accuracy: 0.9317\n",
      "Epoch 47/50\n",
      "48000/48000 [==============================] - 1s 26us/sample - loss: 0.2449 - accuracy: 0.9338 - val_loss: 0.2664 - val_accuracy: 0.9317\n",
      "Epoch 48/50\n",
      "48000/48000 [==============================] - 1s 26us/sample - loss: 0.2446 - accuracy: 0.9339 - val_loss: 0.2677 - val_accuracy: 0.9310\n",
      "Epoch 49/50\n",
      "48000/48000 [==============================] - 1s 27us/sample - loss: 0.2445 - accuracy: 0.9342 - val_loss: 0.2660 - val_accuracy: 0.9317\n",
      "Epoch 50/50\n",
      "48000/48000 [==============================] - 1s 26us/sample - loss: 0.2443 - accuracy: 0.9344 - val_loss: 0.2677 - val_accuracy: 0.9310\n"
     ]
    }
   ],
   "source": [
    "model_3_2 = keras.Sequential([layers.Dense(10, activation='softmax')])\n",
    "model_3_2.compile(optimizer='rmsprop',\n",
    "              loss='sparse_categorical_crossentropy',\n",
    "              metrics=['accuracy'])\n",
    "history_small_model = model_3_2.fit(\n",
    "    train_images, train_labels,\n",
    "    epochs=50,\n",
    "    batch_size=128,\n",
    "    validation_split=0.2)"
   ]
  },
  {
   "cell_type": "code",
   "execution_count": 26,
   "metadata": {},
   "outputs": [
    {
     "data": {
      "text/plain": [
       "Text(0.5, 0, 'Epoch')"
      ]
     },
     "execution_count": 26,
     "metadata": {},
     "output_type": "execute_result"
    },
    {
     "data": {
      "image/png": "[encoded data removed]",
      "text/plain": [
       "<Figure size 432x288 with 1 Axes>"
      ]
     },
     "metadata": {
      "needs_background": "light"
     },
     "output_type": "display_data"
    }
   ],
   "source": [
    "plt.plot(history_small_model.history['val_loss'])\n",
    "plt.title('Model Loss (Validation Data)')\n",
    "plt.ylabel('Loss')\n",
    "plt.xlabel('Epoch')"
   ]
  },
  {
   "cell_type": "code",
   "execution_count": 28,
   "metadata": {},
   "outputs": [
    {
     "data": {
      "text/plain": [
       "Text(0.5, 0, 'Epoch')"
      ]
     },
     "execution_count": 28,
     "metadata": {},
     "output_type": "execute_result"
    },
    {
     "data": {
      "image/png": "[encoded data removed]",
      "text/plain": [
       "<Figure size 432x288 with 1 Axes>"
      ]
     },
     "metadata": {
      "needs_background": "light"
     },
     "output_type": "display_data"
    }
   ],
   "source": [
    "plt.plot(history_small_model.history['val_accuracy'])\n",
    "plt.title('Model Accuracy (Validation Data)')\n",
    "plt.ylabel('Accuracy')\n",
    "plt.xlabel('Epoch')"
   ]
  },
  {
   "cell_type": "code",
   "execution_count": 39,
   "metadata": {},
   "outputs": [
    {
     "name": "stdout",
     "output_type": "stream",
     "text": [
      "Model: \"sequential_11\"\n",
      "_________________________________________________________________\n",
      "Layer (type)                 Output Shape              Param #   \n",
      "=================================================================\n",
      "dense_22 (Dense)             multiple                  7850      \n",
      "=================================================================\n",
      "Total params: 7,850\n",
      "Trainable params: 7,850\n",
      "Non-trainable params: 0\n",
      "_________________________________________________________________\n"
     ]
    }
   ],
   "source": [
    "model_3_2.summary()"
   ]
  },
  {
   "cell_type": "markdown",
   "metadata": {},
   "source": [
    "**Question: When do we start overfitting?**\n",
    "<br/> Response: We start overfitting at around epoch 25 because this is where the val_loss begins to increase."
   ]
  },
  {
   "cell_type": "markdown",
   "metadata": {},
   "source": [
    "## 3.3 - Overfitting"
   ]
  },
  {
   "cell_type": "code",
   "execution_count": 32,
   "metadata": {},
   "outputs": [
    {
     "name": "stdout",
     "output_type": "stream",
     "text": [
      "Train on 48000 samples, validate on 12000 samples\n",
      "Epoch 1/50\n",
      "48000/48000 [==============================] - 3s 63us/sample - loss: 0.3537 - accuracy: 0.9010 - val_loss: 0.2147 - val_accuracy: 0.9398\n",
      "Epoch 2/50\n",
      "48000/48000 [==============================] - 2s 46us/sample - loss: 0.1571 - accuracy: 0.9528 - val_loss: 0.1392 - val_accuracy: 0.9584\n",
      "Epoch 3/50\n",
      "48000/48000 [==============================] - 2s 49us/sample - loss: 0.1109 - accuracy: 0.9670 - val_loss: 0.1174 - val_accuracy: 0.9661\n",
      "Epoch 4/50\n",
      "48000/48000 [==============================] - 2s 49us/sample - loss: 0.0840 - accuracy: 0.9741 - val_loss: 0.1051 - val_accuracy: 0.9699\n",
      "Epoch 5/50\n",
      "48000/48000 [==============================] - 2s 51us/sample - loss: 0.0671 - accuracy: 0.9800 - val_loss: 0.0987 - val_accuracy: 0.9711\n",
      "Epoch 6/50\n",
      "48000/48000 [==============================] - 3s 54us/sample - loss: 0.0557 - accuracy: 0.9826 - val_loss: 0.0985 - val_accuracy: 0.9715\n",
      "Epoch 7/50\n",
      "48000/48000 [==============================] - 3s 53us/sample - loss: 0.0469 - accuracy: 0.9854 - val_loss: 0.1019 - val_accuracy: 0.9719\n",
      "Epoch 8/50\n",
      "48000/48000 [==============================] - 2s 51us/sample - loss: 0.0402 - accuracy: 0.9879 - val_loss: 0.0972 - val_accuracy: 0.9727\n",
      "Epoch 9/50\n",
      "48000/48000 [==============================] - 3s 55us/sample - loss: 0.0340 - accuracy: 0.9897 - val_loss: 0.0973 - val_accuracy: 0.9743\n",
      "Epoch 10/50\n",
      "48000/48000 [==============================] - 3s 54us/sample - loss: 0.0290 - accuracy: 0.9909 - val_loss: 0.0987 - val_accuracy: 0.9757\n",
      "Epoch 11/50\n",
      "48000/48000 [==============================] - 2s 50us/sample - loss: 0.0241 - accuracy: 0.9926 - val_loss: 0.1033 - val_accuracy: 0.9738\n",
      "Epoch 12/50\n",
      "48000/48000 [==============================] - 2s 51us/sample - loss: 0.0206 - accuracy: 0.9941 - val_loss: 0.1092 - val_accuracy: 0.9734\n",
      "Epoch 13/50\n",
      "48000/48000 [==============================] - 2s 52us/sample - loss: 0.0170 - accuracy: 0.9950 - val_loss: 0.1218 - val_accuracy: 0.9715\n",
      "Epoch 14/50\n",
      "48000/48000 [==============================] - 2s 50us/sample - loss: 0.0149 - accuracy: 0.9955 - val_loss: 0.1291 - val_accuracy: 0.9728\n",
      "Epoch 15/50\n",
      "48000/48000 [==============================] - 2s 50us/sample - loss: 0.0128 - accuracy: 0.9959 - val_loss: 0.1165 - val_accuracy: 0.9750\n",
      "Epoch 16/50\n",
      "48000/48000 [==============================] - 2s 49us/sample - loss: 0.0108 - accuracy: 0.9968 - val_loss: 0.1247 - val_accuracy: 0.9746\n",
      "Epoch 17/50\n",
      "48000/48000 [==============================] - 3s 53us/sample - loss: 0.0098 - accuracy: 0.9966 - val_loss: 0.1363 - val_accuracy: 0.9742\n",
      "Epoch 18/50\n",
      "48000/48000 [==============================] - 3s 61us/sample - loss: 0.0083 - accuracy: 0.9973 - val_loss: 0.1446 - val_accuracy: 0.9729\n",
      "Epoch 19/50\n",
      "48000/48000 [==============================] - 3s 65us/sample - loss: 0.0069 - accuracy: 0.9980 - val_loss: 0.1418 - val_accuracy: 0.9752\n",
      "Epoch 20/50\n",
      "48000/48000 [==============================] - 3s 55us/sample - loss: 0.0055 - accuracy: 0.9985 - val_loss: 0.1358 - val_accuracy: 0.9758\n",
      "Epoch 21/50\n",
      "48000/48000 [==============================] - 2s 48us/sample - loss: 0.0050 - accuracy: 0.9984 - val_loss: 0.1500 - val_accuracy: 0.9755\n",
      "Epoch 22/50\n",
      "48000/48000 [==============================] - 2s 51us/sample - loss: 0.0043 - accuracy: 0.9987 - val_loss: 0.1489 - val_accuracy: 0.9753\n",
      "Epoch 23/50\n",
      "48000/48000 [==============================] - 3s 54us/sample - loss: 0.0044 - accuracy: 0.9985 - val_loss: 0.1625 - val_accuracy: 0.9749\n",
      "Epoch 24/50\n",
      "48000/48000 [==============================] - 2s 47us/sample - loss: 0.0040 - accuracy: 0.9987 - val_loss: 0.1611 - val_accuracy: 0.9760\n",
      "Epoch 25/50\n",
      "48000/48000 [==============================] - 2s 48us/sample - loss: 0.0031 - accuracy: 0.9990 - val_loss: 0.1776 - val_accuracy: 0.9742\n",
      "Epoch 26/50\n",
      "48000/48000 [==============================] - 2s 49us/sample - loss: 0.0031 - accuracy: 0.9988 - val_loss: 0.1728 - val_accuracy: 0.9746\n",
      "Epoch 27/50\n",
      "48000/48000 [==============================] - 2s 51us/sample - loss: 0.0027 - accuracy: 0.9991 - val_loss: 0.1835 - val_accuracy: 0.9749\n",
      "Epoch 28/50\n",
      "48000/48000 [==============================] - 2s 49us/sample - loss: 0.0023 - accuracy: 0.9992 - val_loss: 0.1858 - val_accuracy: 0.9758\n",
      "Epoch 29/50\n",
      "48000/48000 [==============================] - 2s 49us/sample - loss: 0.0023 - accuracy: 0.9992 - val_loss: 0.1894 - val_accuracy: 0.9738\n",
      "Epoch 30/50\n",
      "48000/48000 [==============================] - 2s 50us/sample - loss: 0.0017 - accuracy: 0.9995 - val_loss: 0.1899 - val_accuracy: 0.9743\n",
      "Epoch 31/50\n",
      "48000/48000 [==============================] - 2s 48us/sample - loss: 0.0023 - accuracy: 0.9993 - val_loss: 0.2024 - val_accuracy: 0.9746\n",
      "Epoch 32/50\n",
      "48000/48000 [==============================] - 2s 51us/sample - loss: 0.0019 - accuracy: 0.9995 - val_loss: 0.2003 - val_accuracy: 0.9734\n",
      "Epoch 33/50\n",
      "48000/48000 [==============================] - 3s 54us/sample - loss: 0.0014 - accuracy: 0.9996 - val_loss: 0.2061 - val_accuracy: 0.9753\n",
      "Epoch 34/50\n",
      "48000/48000 [==============================] - 3s 52us/sample - loss: 0.0016 - accuracy: 0.9995 - val_loss: 0.2060 - val_accuracy: 0.9749\n",
      "Epoch 35/50\n",
      "48000/48000 [==============================] - 2s 50us/sample - loss: 0.0011 - accuracy: 0.9996 - val_loss: 0.2125 - val_accuracy: 0.9752\n",
      "Epoch 36/50\n",
      "48000/48000 [==============================] - 2s 51us/sample - loss: 0.0016 - accuracy: 0.9994 - val_loss: 0.2089 - val_accuracy: 0.9749\n",
      "Epoch 37/50\n",
      "48000/48000 [==============================] - 2s 52us/sample - loss: 0.0012 - accuracy: 0.9996 - val_loss: 0.2226 - val_accuracy: 0.9738\n",
      "Epoch 38/50\n",
      "48000/48000 [==============================] - 2s 50us/sample - loss: 0.0011 - accuracy: 0.9996 - val_loss: 0.2204 - val_accuracy: 0.9750\n",
      "Epoch 39/50\n",
      "48000/48000 [==============================] - 3s 56us/sample - loss: 8.8109e-04 - accuracy: 0.9996 - val_loss: 0.2169 - val_accuracy: 0.9778\n",
      "Epoch 40/50\n",
      "48000/48000 [==============================] - 3s 55us/sample - loss: 0.0013 - accuracy: 0.9995 - val_loss: 0.2253 - val_accuracy: 0.9749\n",
      "Epoch 41/50\n",
      "48000/48000 [==============================] - 3s 54us/sample - loss: 7.8921e-04 - accuracy: 0.9997 - val_loss: 0.2409 - val_accuracy: 0.9751\n",
      "Epoch 42/50\n",
      "48000/48000 [==============================] - 2s 51us/sample - loss: 0.0011 - accuracy: 0.9997 - val_loss: 0.2271 - val_accuracy: 0.9774\n",
      "Epoch 43/50\n",
      "48000/48000 [==============================] - 2s 51us/sample - loss: 9.0823e-04 - accuracy: 0.9996 - val_loss: 0.2378 - val_accuracy: 0.9758\n",
      "Epoch 44/50\n",
      "48000/48000 [==============================] - 2s 50us/sample - loss: 5.3901e-04 - accuracy: 0.9998 - val_loss: 0.2332 - val_accuracy: 0.9763\n",
      "Epoch 45/50\n",
      "48000/48000 [==============================] - 2s 51us/sample - loss: 0.0010 - accuracy: 0.9997 - val_loss: 0.2495 - val_accuracy: 0.9744\n",
      "Epoch 46/50\n",
      "48000/48000 [==============================] - 2s 50us/sample - loss: 0.0013 - accuracy: 0.9996 - val_loss: 0.2426 - val_accuracy: 0.9749\n",
      "Epoch 47/50\n",
      "48000/48000 [==============================] - 3s 52us/sample - loss: 4.6996e-04 - accuracy: 0.9999 - val_loss: 0.2506 - val_accuracy: 0.9755\n",
      "Epoch 48/50\n",
      "48000/48000 [==============================] - 3s 52us/sample - loss: 5.0932e-04 - accuracy: 0.9999 - val_loss: 0.2540 - val_accuracy: 0.9761\n",
      "Epoch 49/50\n",
      "48000/48000 [==============================] - 2s 50us/sample - loss: 5.3870e-04 - accuracy: 0.9998 - val_loss: 0.2535 - val_accuracy: 0.9768\n",
      "Epoch 50/50\n",
      "48000/48000 [==============================] - 2s 51us/sample - loss: 7.6940e-04 - accuracy: 0.9997 - val_loss: 0.2593 - val_accuracy: 0.9750\n"
     ]
    }
   ],
   "source": [
    "model_3_3 = keras.Sequential([\n",
    "  layers.Dense(96, activation='relu'),\n",
    "  layers.Dense(96, activation='relu'),\n",
    "  layers.Dense(10, activation='softmax'),\n",
    "])\n",
    "model_3_3.compile(optimizer='rmsprop',\n",
    "              loss='sparse_categorical_crossentropy',\n",
    "              metrics=['accuracy'])\n",
    "history_large_model = model_3_3.fit(\n",
    "    train_images, train_labels,\n",
    "    epochs=50,\n",
    "    batch_size=128,\n",
    "    validation_split=0.2)"
   ]
  },
  {
   "cell_type": "code",
   "execution_count": 34,
   "metadata": {},
   "outputs": [
    {
     "data": {
      "text/plain": [
       "Text(0.5, 0, 'Epoch')"
      ]
     },
     "execution_count": 34,
     "metadata": {},
     "output_type": "execute_result"
    },
    {
     "data": {
      "image/png": "[encoded data removed]",
      "text/plain": [
       "<Figure size 432x288 with 1 Axes>"
      ]
     },
     "metadata": {
      "needs_background": "light"
     },
     "output_type": "display_data"
    }
   ],
   "source": [
    "plt.plot(history_large_model.history['val_loss'])\n",
    "plt.title('Model Loss (Validation Data)')\n",
    "plt.ylabel('Loss')\n",
    "plt.xlabel('Epoch')"
   ]
  },
  {
   "cell_type": "code",
   "execution_count": 35,
   "metadata": {},
   "outputs": [
    {
     "data": {
      "text/plain": [
       "Text(0.5, 0, 'Epoch')"
      ]
     },
     "execution_count": 35,
     "metadata": {},
     "output_type": "execute_result"
    },
    {
     "data": {
      "image/png": "[encoded data removed]",
      "text/plain": [
       "<Figure size 432x288 with 1 Axes>"
      ]
     },
     "metadata": {
      "needs_background": "light"
     },
     "output_type": "display_data"
    }
   ],
   "source": [
    "plt.plot(history_small_model.history['val_accuracy'])\n",
    "plt.title('Model Accuracy (Validation Data)')\n",
    "plt.ylabel('Accuracy')\n",
    "plt.xlabel('Epoch')"
   ]
  },
  {
   "cell_type": "code",
   "execution_count": 41,
   "metadata": {},
   "outputs": [
    {
     "data": {
      "text/plain": [
       "Text(0.5, 0, 'Epoch')"
      ]
     },
     "execution_count": 41,
     "metadata": {},
     "output_type": "execute_result"
    },
    {
     "data": {
      "image/png": "[encoded data removed]",
      "text/plain": [
       "<Figure size 432x288 with 1 Axes>"
      ]
     },
     "metadata": {
      "needs_background": "light"
     },
     "output_type": "display_data"
    }
   ],
   "source": [
    "plt.plot(history_small_model.history['accuracy'])\n",
    "plt.title('Model Accuracy (Validation Data)')\n",
    "plt.ylabel('Accuracy')\n",
    "plt.xlabel('Epoch')"
   ]
  },
  {
   "cell_type": "code",
   "execution_count": 40,
   "metadata": {},
   "outputs": [
    {
     "name": "stdout",
     "output_type": "stream",
     "text": [
      "Model: \"sequential_15\"\n",
      "_________________________________________________________________\n",
      "Layer (type)                 Output Shape              Param #   \n",
      "=================================================================\n",
      "dense_32 (Dense)             multiple                  75360     \n",
      "_________________________________________________________________\n",
      "dense_33 (Dense)             multiple                  9312      \n",
      "_________________________________________________________________\n",
      "dense_34 (Dense)             multiple                  970       \n",
      "=================================================================\n",
      "Total params: 85,642\n",
      "Trainable params: 85,642\n",
      "Non-trainable params: 0\n",
      "_________________________________________________________________\n"
     ]
    }
   ],
   "source": [
    "model_3_3.summary()"
   ]
  },
  {
   "cell_type": "markdown",
   "metadata": {},
   "source": [
    "**Explanation**: Clearly this overfits at the drop at around epoch 5-10. We can see there are way more parameters than in questoin 3.2–because of multiple large dense layers. This means that the model is overspecified to predict the labels of the training data inputs, and will do badly when generalizing to new never-before-seen inputs. Though the accuracy for the validation data is pretty high, it is still much lower than the training accuracy since it overfits. "
   ]
  }
 ],
 "metadata": {
  "kernelspec": {
   "display_name": "Python 3",
   "language": "python",
   "name": "python3"
  },
  "language_info": {
   "codemirror_mode": {
    "name": "ipython",
    "version": 3
   },
   "file_extension": ".py",
   "mimetype": "text/x-python",
   "name": "python",
   "nbconvert_exporter": "python",
   "pygments_lexer": "ipython3",
   "version": "3.7.3"
  }
 },
 "nbformat": 4,
 "nbformat_minor": 5
}
