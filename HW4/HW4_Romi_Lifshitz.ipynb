{
 "cells": [
  {
   "cell_type": "markdown",
   "metadata": {},
   "source": [
    "# Homework 4: PCA, Autoencoders, K-Means Clustering and fcNN"
   ]
  },
  {
   "cell_type": "code",
   "execution_count": 1,
   "metadata": {},
   "outputs": [],
   "source": [
    "# Author Name: Romi Lifshitz\n",
    "\n",
    "# With guidance from course textbook: Machine Learning Refined\n",
    "# Instructions can be found in the HW4_Instructions.pdf file on git\n",
    "\n",
    "import autograd.numpy as np\n",
    "from autograd import grad\n",
    "from autograd import value_and_grad\n",
    "import matplotlib.pyplot as pyplot "
   ]
  },
  {
   "cell_type": "markdown",
   "metadata": {},
   "source": [
    "# Exercise 1 - Final Project"
   ]
  },
  {
   "cell_type": "markdown",
   "metadata": {},
   "source": [
    "For my final project, I will be creating a deep neural network that classifies coloured images of fruits and vegetables. These neural networks will be trained to classify the images in a supervised fashion, using TensorFlow. The **input** to this neural network will be feature vectors containing pixel values of the 100x100 pixel images (one feature vector contains all of the flattened RGB pixel values of one image) and the **ouptut** will be the type of fruit or vegetable shown in the image. <br/><br/>The **dataset** itself will come from the following source, https://www.kaggle.com/moltean/fruits, which provides 90 483 images, of which 67 692 will be used in the training set and 22 688 will be used in the test set. Overall, there are 131 classes of fruits and vegetables which consist of the labels for the training data. "
   ]
  },
  {
   "cell_type": "markdown",
   "metadata": {},
   "source": [
    "# Exercise 2 - MNIST Hand-Written Digits Classified using Python"
   ]
  },
  {
   "cell_type": "code",
   "execution_count": 2,
   "metadata": {},
   "outputs": [],
   "source": [
    "import tensorflow as tf\n",
    "from autograd import numpy as np\n",
    "import pandas as pd\n",
    "import matplotlib.pyplot as pyplot \n",
    "\n",
    "from tensorflow.keras.datasets import mnist\n",
    "(train_images, train_labels), (test_images, test_labels) = mnist.load_data()\n",
    "from tensorflow.keras import Sequential\n",
    "from tensorflow.keras.layers import Dense"
   ]
  },
  {
   "cell_type": "code",
   "execution_count": 3,
   "metadata": {},
   "outputs": [
    {
     "name": "stdout",
     "output_type": "stream",
     "text": [
      "(784, 60000)\n",
      "(784, 10000)\n",
      "(1, 60000)\n",
      "(1, 10000)\n",
      "uint8\n",
      "uint8\n"
     ]
    }
   ],
   "source": [
    "train_labels.shape=(1,60000)\n",
    "test_labels.shape=(1,10000)\n",
    "train_images=(train_images.reshape(60000,784)).T\n",
    "test_images=(test_images.reshape(10000,784)).T\n",
    "print(train_images.shape)\n",
    "print(test_images.shape)\n",
    "print(train_labels.shape)\n",
    "print(test_labels.shape)\n",
    "print(train_images.dtype)\n",
    "print(train_labels.dtype)"
   ]
  },
  {
   "cell_type": "code",
   "execution_count": 4,
   "metadata": {},
   "outputs": [],
   "source": [
    "# compute C linear combinations of input point, one per classifier\n",
    "def model(x,w):\n",
    "    a = w[0] + np.dot(x.T,w[1:])\n",
    "    return a.T\n",
    "\n",
    "# multiclass perceptron\n",
    "def multiclass_perceptron(w,x_p,y_p):\n",
    "    # get subset of points\n",
    "\n",
    "    # pre-compute predictions on all points\n",
    "    all_evals = model(x_p,w)\n",
    "\n",
    "    # compute maximum across data points\n",
    "    a =  np.max(all_evals,axis = 0)        \n",
    "\n",
    "    # compute cost in compact form using numpy broadcasting\n",
    "    b = all_evals[y_p.astype(int).flatten(),np.arange(np.size(y_p))]\n",
    "    cost = np.sum(a - b)\n",
    "\n",
    "    # return average\n",
    "    return cost/float(np.size(y_p))"
   ]
  },
  {
   "cell_type": "markdown",
   "metadata": {},
   "source": [
    "## 2.1 - Implement Minibatch Gradient Descent"
   ]
  },
  {
   "cell_type": "code",
   "execution_count": 24,
   "metadata": {},
   "outputs": [],
   "source": [
    "from autograd.misc.flatten import flatten_func\n",
    "from autograd import grad\n",
    "\n",
    "# minibatch gradient descent\n",
    "def gradient_descent(g,w,x_train,y_train,alpha,max_its,batch_size): \n",
    "    \n",
    "    # Define gradient per batch\n",
    "    def gradient(g,alpha,max_its,w,x,y):\n",
    "        # compute gradient module using autograd\n",
    "        gr = grad(g)\n",
    "\n",
    "        # run the gradient descent loop\n",
    "        weight_history = [w]     # container for weight history\n",
    "        cost_history = [g(w,x,y)]    # container for corresponding cost function history\n",
    "\n",
    "        for k in range(max_its):\n",
    "            # evaluate the gradient, store current weights and cost function value\n",
    "            grad_eval = gr(w,x,y)\n",
    "\n",
    "            # take gradient descent step\n",
    "            w = w - alpha*grad_eval\n",
    "\n",
    "            # record weight and cost\n",
    "            weight_history.append(w)\n",
    "            cost_history.append(g(w,x,y))\n",
    "        return weight_history,cost_history\n",
    "            \n",
    "    # Construct batches\n",
    "    num_batch = (x_train.shape[1])/batch_size\n",
    "    indices = []\n",
    "    batch_data = []   \n",
    "    \n",
    "    weight_history_epoch = [] # Stores the weight history for each epoch\n",
    "    cost_history_epoch = [] # Stores the cost history for each epoch\n",
    "\n",
    "    for m in range(max_its): # m = Epoch\n",
    "        # Initialize weight_history and cost_history (tracks the full batch)\n",
    "        weight_history = []\n",
    "        cost_history = []\n",
    "        if (x_train.shape[1])%batch_size == 0:\n",
    "            for n in range(1, int(num_batch) + 1): # n = Batch\n",
    "                # Determine the indices of the batch data\n",
    "                start = (n - 1) * batch_size\n",
    "                stop = (n * batch_size) - 1\n",
    "\n",
    "                # Create this batch sample\n",
    "                batch_x = x_train[: , start:(stop + 1)]\n",
    "                batch_y = y_train[: , start:(stop + 1)]\n",
    "                \n",
    "                # Run gradient descent on current batch\n",
    "                wc = gradient(g,alpha,max_its,w,batch_x, batch_y)\n",
    "                weight_history += wc[0] # RECORD COST ONLY WHEN FINISHED EPOCH\n",
    "                cost_history += wc[1]\n",
    "                w = wc[0][-1] # Get the next starting weight, which is the last weight of current batch\n",
    "\n",
    "        \n",
    "        else:\n",
    "            num_batch_round = np.ceil(num_batch)\n",
    "            for n in range(1, num_batch_round + 1):\n",
    "                if n != num_batch:\n",
    "                    # Determine the indices of the batch data\n",
    "                    start = (n - 1) * batch_size\n",
    "                    stop = (n * batch_size) - 1\n",
    "                    \n",
    "                    # Create this batch sample\n",
    "                    batch_x = x_train[: , start:(stop + 1)]\n",
    "                    batch_y = y_train[: , start:(stop + 1)]\n",
    "                    \n",
    "                    # Run gradient descent on current batch\n",
    "                    wc = gradient(g, w, batch_x, batch_y, alpha)\n",
    "                    weight_history += wc[0]\n",
    "                    cost_history += wc[1]\n",
    "                    w = wc[0][-1] # Get the next starting weight, which is the last weight of current batch\n",
    "                \n",
    "                # If at last batch\n",
    "                else:\n",
    "                    diff = num_batch_round - num_batch\n",
    "                    batch_size_new = diff * batch_size\n",
    "                    repetitions =  (1 - diff) * diff**-1 # How many repetitions needed\n",
    "                    start = (n - 1) * batch_size\n",
    "                    stop += batch_size_new\n",
    "                    \n",
    "                    # Create this batch sample\n",
    "                    batch_x = x_train[: , start:(stop + 1)]                    \n",
    "                    batch_y = y_train[: , start:(stop + 1)]\n",
    "\n",
    "                    batch_x_new = batch_x\n",
    "                    batch_y_new = batch_y\n",
    "\n",
    "                    # For last batch, repeat the points to complete the batch. \n",
    "                    for r in range(repetitions):\n",
    "                        batch_x_new = np.concatenate((batch_x_new, batch_x), axis=1)\n",
    "                        batch_y_new = np.concatenate((batch_y_new, batch_y), axis=1)\n",
    "                        \n",
    "                    batch_x = batch_x_new\n",
    "                    batch_y = batch_y_new\n",
    "                    \n",
    "                    wc = gradient(g, w, batch_x, batch_y, alpha)\n",
    "                    weight_history += wc[0]\n",
    "                    cost_history += wc[1]\n",
    "                    w = wc[0][-1] # Get the next starting weight, which is the last weight of current batch\n",
    "\n",
    "        # Append weights and costs of this epoch\n",
    "        weight_history_epoch.append(weight_history[-1])\n",
    "        cost_history_epoch.append(cost_history[-1])\n",
    "    return weight_history_epoch,cost_history_epoch"
   ]
  },
  {
   "cell_type": "markdown",
   "metadata": {},
   "source": [
    "## 2.2 - Running Minibatch (and Fullbatch)"
   ]
  },
  {
   "cell_type": "code",
   "execution_count": 31,
   "metadata": {},
   "outputs": [
    {
     "data": {
      "text/plain": [
       "<matplotlib.legend.Legend at 0x644a213d0>"
      ]
     },
     "execution_count": 31,
     "metadata": {},
     "output_type": "execute_result"
    },
    {
     "data": {
      "image/png": "[encoded data removed]",
      "text/plain": [
       "<Figure size 432x288 with 1 Axes>"
      ]
     },
     "metadata": {
      "needs_background": "light"
     },
     "output_type": "display_data"
    }
   ],
   "source": [
    "w = 0.1*np.random.randn(785,10)\n",
    "w_history, c_history = gradient_descent(multiclass_perceptron,w,train_images,train_labels,0.001,5,200)\n",
    "w_history_full, c_history_full = gradient_descent(multiclass_perceptron,w,train_images,train_labels,0.001,5,60000)\n",
    "pyplot.plot(np.linspace(0,len(c_history),len(c_history)), c_history, color='tab:orange', label='Minibatch')\n",
    "pyplot.plot(np.linspace(0,len(c_history_full),len(c_history_full)), c_history_full, color='deepskyblue', label='Fullbatch')\n",
    "pyplot.xlabel('Epoch')\n",
    "pyplot.ylabel('Cost (g(w^k))')\n",
    "pyplot.title('Cost Function History')\n",
    "pyplot.legend(loc = 'upper right')"
   ]
  },
  {
   "cell_type": "code",
   "execution_count": 32,
   "metadata": {},
   "outputs": [
    {
     "data": {
      "text/plain": [
       "<matplotlib.legend.Legend at 0x644bdb090>"
      ]
     },
     "execution_count": 32,
     "metadata": {},
     "output_type": "execute_result"
    },
    {
     "data": {
      "image/png": "[encoded data removed]",
      "text/plain": [
       "<Figure size 432x288 with 1 Axes>"
      ]
     },
     "metadata": {
      "needs_background": "light"
     },
     "output_type": "display_data"
    }
   ],
   "source": [
    "# Zooming in on minibatch:\n",
    "pyplot.plot(np.linspace(0,len(c_history),len(c_history)), c_history, color='tab:orange', label='Minibatch')\n",
    "pyplot.xlabel('Epoch')\n",
    "pyplot.ylabel('Cost (g(w^k))')\n",
    "pyplot.title('Cost Function History (Zooming in on Minibatch)')\n",
    "pyplot.legend(loc = 'upper right')"
   ]
  },
  {
   "cell_type": "markdown",
   "metadata": {},
   "source": [
    "**QUESTION: Which one performs the best?**\n",
    "<br/>Response: Minibatch (with batchsize 200) outperforms the fullbatch (with batchsize 60 000). In minibatch, gradient descent is performed on each batch, carrying over the weights to the next batch. The cost function is, therefore, minimized for each batch separately. As can be seen, a smaller batchsize has lowered the loss that is achieved by gradient descent in each epoch."
   ]
  },
  {
   "cell_type": "markdown",
   "metadata": {},
   "source": [
    "## 2.3 - Percentage of Misclassifications Per Class"
   ]
  },
  {
   "cell_type": "code",
   "execution_count": 35,
   "metadata": {},
   "outputs": [
    {
     "name": "stdout",
     "output_type": "stream",
     "text": [
      "The number of miscounts per epoch is:  [8095, 7758, 7421, 7289, 7311]\n",
      "Therefore, the best set of weights is from epoch:  4\n",
      "Using the best set of weights, the miscounts per class are: \n",
      " [176, 1533, 583, 464, 889, 298, 1169, 1443, 590, 144]\n"
     ]
    }
   ],
   "source": [
    "def miscounts(w,x,y): # w is one set of weights from the weight history\n",
    "    I = 0\n",
    "    for i in range(0,x.shape[1]):\n",
    "        y_pred = np.argmax(model(x[:,i],w))\n",
    "        y_actual = y[0][i]\n",
    "        if y_pred != y_actual:\n",
    "            I += 1\n",
    "    return I\n",
    "\n",
    "def miscounts_by_class(w,x,y): # w is one set of weights from the weight history\n",
    "    I = [0,0,0,0,0,0,0,0,0,0]\n",
    "    for i in range(0,x.shape[1]):\n",
    "        y_pred = np.argmax(model(x[:,i],w))\n",
    "        y_actual = y[0][i]\n",
    "        if y_pred != y_actual:\n",
    "            I[y_actual-1] += 1\n",
    "    return I\n",
    "\n",
    "miscount_history_minibatch = [miscounts(v,train_images,train_labels) for v in w_history]\n",
    "print('The number of miscounts per epoch is: ',  miscount_history_minibatch)\n",
    "k = np.argmin(miscount_history_minibatch)\n",
    "print('Therefore, the best set of weights is from epoch: ', k+1)\n",
    "\n",
    "class_miscount_history_minibatch = [miscounts_by_class(v,train_images,train_labels) for v in w_history]\n",
    "min_miscounts = class_miscount_history_minibatch[k]\n",
    "print('Using the best set of weights, the miscounts per class are: \\n', min_miscounts)"
   ]
  },
  {
   "cell_type": "code",
   "execution_count": 50,
   "metadata": {},
   "outputs": [
    {
     "data": {
      "text/plain": [
       "Text(0.5, 1.0, 'Miscounts Per Class \\n(Using Best Weights from Minibatch GD)')"
      ]
     },
     "execution_count": 50,
     "metadata": {},
     "output_type": "execute_result"
    },
    {
     "data": {
      "image/png": "[encoded data removed]",
      "text/plain": [
       "<Figure size 432x288 with 1 Axes>"
      ]
     },
     "metadata": {
      "needs_background": "light"
     },
     "output_type": "display_data"
    }
   ],
   "source": [
    "labels = [0, 1,2,3,4,5,6,7,8,9]\n",
    "\n",
    "# Calculate percent miscounts per class\n",
    "count = [0,0,0,0,0,0,0,0,0,0]\n",
    "for i in train_labels[0]:\n",
    "    count[i-1] += 1\n",
    "\n",
    "percent_miscounts = [0,0,0,0,0,0,0,0,0,0]\n",
    "for i in range(10):\n",
    "    percent_miscounts[i] = min_miscounts[i]/count[i] * 100\n",
    "\n",
    "fig = pyplot.figure()\n",
    "pyplot.bar(labels, percent_miscounts, color='tab:purple')\n",
    "pyplot.xlabel(\"Class\")\n",
    "pyplot.ylabel(\"Miscounts (%)\")\n",
    "pyplot.title(\"Miscounts Per Class \\n(Using Best Weights from Minibatch GD)\")"
   ]
  },
  {
   "cell_type": "code",
   "execution_count": 49,
   "metadata": {},
   "outputs": [
    {
     "name": "stdout",
     "output_type": "stream",
     "text": [
      "The most often misclassified digit is  1 , being misclassified \n",
      " 25.730110775427995 % of the time.\n",
      "This is closely followed by digit 7, which is misclassified \n",
      " 24.662450863100325 % of the time.\n"
     ]
    }
   ],
   "source": [
    "print('The most often misclassified digit is ', np.argmax(percent_miscounts), \n",
    "      ', being misclassified \\n', percent_miscounts[np.argmax(percent_miscounts)], '% of the time.')\n",
    "print('This is closely followed by digit 7, which is misclassified \\n', percent_miscounts[7], '% of the time.')"
   ]
  },
  {
   "cell_type": "code",
   "execution_count": 85,
   "metadata": {},
   "outputs": [],
   "source": [
    "# Testing that model predicts numbers between 0 and 9\n",
    "# def preds(w,x,y): # w is one set of weights from the weight history\n",
    "#     I = []\n",
    "#     for i in range(0,x.shape[1]):\n",
    "#         y_pred = np.argmax(model(x[:,i],w))\n",
    "#         I.append(y_pred)\n",
    "#     return I\n",
    "# predicts = [preds(v,train_images,train_labels) for v in w_history]\n",
    "# print(np.min(predicts) == 0)\n",
    "# print(np.max(predicts) == 9)"
   ]
  },
  {
   "cell_type": "markdown",
   "metadata": {},
   "source": [
    "# Exercise 3 - Linear Autoencoder"
   ]
  },
  {
   "cell_type": "code",
   "execution_count": 50,
   "metadata": {},
   "outputs": [],
   "source": [
    "x = np.loadtxt('2d_span_data_centered.csv',delimiter=',')\n",
    "C = np.array([[-3.5],[3.5]])\n",
    "w = 0.1*np.random.randn(2,1)\n",
    "\n",
    "def reformat_x(x):\n",
    "    formatted_x = []\n",
    "    for i in range(0, x[0].size):\n",
    "        formatted_x.append(np.array([x[0][i], x[1][i]]))\n",
    "    return np.array(formatted_x)\n",
    "formatted_x = reformat_x(x)"
   ]
  },
  {
   "cell_type": "code",
   "execution_count": 55,
   "metadata": {},
   "outputs": [],
   "source": [
    "from autograd import grad\n",
    "from autograd import value_and_grad\n",
    "\n",
    "def model(x,C):  # x is an x_p (a single example)\n",
    "    return np.dot(C.T, x)\n",
    "\n",
    "def autoencoder(C): # is the cost. \n",
    "# All its minima correspond to orthonormal spanning Ck (basis set of \n",
    "# subspace onto which we project our data, to encoe our data.)\n",
    "    cost = np.sum((np.dot(C, model(x, C)) - x)**2)\n",
    "    return cost/float(x.shape[1])\n",
    "\n",
    "def gradient_descent(g,alpha,max_its,w):\n",
    "    # compute gradient module using autograd\n",
    "    gradient = grad(g)\n",
    "\n",
    "    # run the gradient descent loop\n",
    "    weight_history = [w]     # container for weight history\n",
    "    cost_history = [g(w)]    # container for corresponding cost function history\n",
    "    for k in range(max_its):\n",
    "        # evaluate the gradient, store current weights and cost function value\n",
    "        grad_eval = gradient(w)\n",
    "\n",
    "        # take gradient descent step\n",
    "        w = w - alpha*grad_eval\n",
    "\n",
    "        # record weight and cost\n",
    "        weight_history.append(w)\n",
    "        cost_history.append(g(w))\n",
    "    return weight_history,cost_history"
   ]
  },
  {
   "cell_type": "code",
   "execution_count": 65,
   "metadata": {},
   "outputs": [
    {
     "data": {
      "text/plain": [
       "Text(0, 0.5, '$X2$')"
      ]
     },
     "execution_count": 65,
     "metadata": {},
     "output_type": "execute_result"
    },
    {
     "data": {
      "image/png": "[encoded data removed]",
      "text/plain": [
       "<Figure size 1440x1152 with 3 Axes>"
      ]
     },
     "metadata": {
      "needs_background": "light"
     },
     "output_type": "display_data"
    }
   ],
   "source": [
    "g = autoencoder; alpha = 10**(-4); max_its = 1000\n",
    "span_history = gradient_descent(g,alpha,max_its,w)\n",
    "span = span_history[0][-1] # optimal spanning set\n",
    "\n",
    "# Plot original and encoded data\n",
    "f = pyplot.figure(figsize=(20, 16))\n",
    "ax = f.add_subplot(331)\n",
    "ax2 = f.add_subplot(332)\n",
    "ax3 = f.add_subplot(333)\n",
    "\n",
    "ax.scatter(x[0], x[1], color='black')\n",
    "ax.plot(span, color='red')\n",
    "ax.set_title('Original Data')\n",
    "ax.set_xlabel('$X1$') \n",
    "ax.set_ylabel('$X2$')\n",
    "\n",
    "x_encoded = np.dot(C.T, x)/8 \n",
    "y_encoded = np.zeros(x.shape[1])\n",
    "ax2.scatter(x_encoded, y_encoded, color='black')\n",
    "ax2.hlines(y=0, xmin=-7,xmax=7,colors='black')\n",
    "ax2.set_title('Encoded Data')\n",
    "ax2.set_xlabel('$X1$')\n",
    "ax2.set_ylabel('$X2$')\n",
    "\n",
    "x_decoded = np.dot(C, x_encoded/3.5) \n",
    "ax3.scatter(x_decoded[0], x_decoded[1]*1.5, color='black')\n",
    "ax3.plot(x_decoded[0], x_decoded[1]*1.5, color='red')\n",
    "ax3.set_title('Decoded Data')\n",
    "ax3.set_xlabel('$X1$')\n",
    "ax3.set_ylabel('$X2$')"
   ]
  },
  {
   "cell_type": "markdown",
   "metadata": {},
   "source": [
    "# Exercise 4 - Principal Component Analysis"
   ]
  },
  {
   "cell_type": "code",
   "execution_count": 68,
   "metadata": {},
   "outputs": [],
   "source": [
    "def center(X):\n",
    "    X_means = np.mean(X,axis=1)[:,np.newaxis]\n",
    "    X_normalized = X - X_means\n",
    "\n",
    "    return X_normalized\n",
    "\n",
    "def compute_pcs(X,lam):\n",
    "    # create the correlation matrix\n",
    "    P = float(X.shape[1])\n",
    "    cov = 1/P*np.dot(X,X.T) + lam*np.eye(X.shape[0])\n",
    "\n",
    "    # use numpy function to compute eigenvalues / vectors of correlation matrix\n",
    "    D,V = np.linalg.eigh(cov)\n",
    "    # Textbook explanation of PCA: \"The principal components are given by the orthonormal eigenvectors in V, and\n",
    "    # the variance in each (principal component) direction is given precisely by the\n",
    "    # corresponding nonnegative eigenvalues in the diagonal matrix D.\"\n",
    "    return D,V"
   ]
  },
  {
   "cell_type": "code",
   "execution_count": 76,
   "metadata": {},
   "outputs": [
    {
     "data": {
      "image/png": "[encoded data removed]",
      "text/plain": [
       "<Figure size 1440x1152 with 1 Axes>"
      ]
     },
     "metadata": {
      "needs_background": "light"
     },
     "output_type": "display_data"
    },
    {
     "data": {
      "image/png": "[encoded data removed]",
      "text/plain": [
       "<Figure size 720x1152 with 1 Axes>"
      ]
     },
     "metadata": {
      "needs_background": "light"
     },
     "output_type": "display_data"
    }
   ],
   "source": [
    "X_original = np.loadtxt('2d_span_data.csv',delimiter=',')\n",
    "def generate_plot_pca1(X):\n",
    "    # Center data\n",
    "    X_centered = center(X)\n",
    "    \n",
    "    # Generate principal components in V, and corresponding variances in D\n",
    "    D, V = compute_pcs(X_centered, 10**-5)\n",
    "    \n",
    "    # Project data onto principal components. P is encoded data.\n",
    "    P = np.dot(V.T, X_centered)\n",
    "    \n",
    "    # Plot original and encoded data\n",
    "    f1 = pyplot.figure(figsize=(20, 16))\n",
    "    ax = f1.add_subplot(331)\n",
    "\n",
    "    ax.scatter(X_centered[0], X_centered[1], color='black')\n",
    "    pyplot.axhline(y=0, xmin=-6, xmax=6, color='black')\n",
    "    pyplot.axvline(x=0, ymin=-8, ymax=8, color='black')\n",
    "    eye = np.eye(2)\n",
    "    ax.arrow(0,0,[V,eye][0][:,0][0], [V,eye][0][:,0][1], linewidth=5, color='r')\n",
    "    ax.arrow(0,0,[V,eye][0][:,1][0], [V,eye][0][:,1][1], linewidth=5, color='r')\n",
    "    ax.set_title('Original Data')\n",
    "    ax.set_xlabel('$X1$')\n",
    "    ax.set_ylabel('$X2$')\n",
    "\n",
    "def generate_plot_pca2(X):\n",
    "    # Center data\n",
    "    X_centered = center(X)\n",
    "    \n",
    "    # Generate principal components in V, and corresponding variances in D\n",
    "    D, V = compute_pcs(X_centered, 10**-5)\n",
    "    \n",
    "    # Project data onto principal components. P is encoded data.\n",
    "    P = np.dot(V.T, X_centered)\n",
    "    \n",
    "    # Plot original and encoded dataf1 = pyplot.figure(figsize=(20, 16))\n",
    "    f1 = pyplot.figure(figsize=(10, 16))\n",
    "    ax = f1.add_subplot(331)\n",
    "    pyplot.axhline(y=0, xmin=-7, xmax =7, color='black')\n",
    "    pyplot.axvline(x=0, ymin=-8.5, ymax =8.5, color='black')\n",
    "    ax.scatter(P[0], P[1], color='maroon')\n",
    "    pyplot.plot([0,0],[0,1],color='red',linewidth=5)\n",
    "    pyplot.plot([0,0.7],[0,0],color='red',linewidth=5)\n",
    "    ax.set_title('Encoded Data')\n",
    "    ax.set_xlabel('$C1$')\n",
    "    ax.set_ylabel('$C2$')\n",
    "    \n",
    "generate_plot_pca1(X_original)\n",
    "generate_plot_pca2(X_original)"
   ]
  },
  {
   "cell_type": "markdown",
   "metadata": {},
   "source": [
    "# Exercise 5 - K Means Clustering"
   ]
  },
  {
   "cell_type": "markdown",
   "metadata": {},
   "source": [
    "## 5.1 - Perform 5 Full Sweeps of Centroid Updates "
   ]
  },
  {
   "cell_type": "code",
   "execution_count": 92,
   "metadata": {},
   "outputs": [
    {
     "name": "stdout",
     "output_type": "stream",
     "text": [
      "Fifth update of k-means clustering produces the centroids: \n",
      " [[[-9.00736394  7.17988226]]\n",
      "\n",
      " [[-2.99637348  7.42475134]]\n",
      "\n",
      " [[-5.23196832 -1.04536529]]]\n",
      "\n",
      "Fifth update of k-means clustering produces the assignments: \n",
      " [0 1 2 0 1 0 1 1 0 0 0 2 1 0 1 2 1 2 2 1 0 2 2 0 1 1 0 2 1 0 0 2 2 0 2 1 1\n",
      " 2 1 2 1 2 2 2 2 0 0 0 1 1]\n"
     ]
    }
   ],
   "source": [
    "def update_assignments(data,centroids):\n",
    "    P = data.shape[0]\n",
    "    assignments = []\n",
    "    for p in range(P):\n",
    "        x_p = data[p]\n",
    "        diff1 = np.linalg.norm(x_p - centroids[0])\n",
    "        diff2 = np.linalg.norm(x_p - centroids[1])\n",
    "        diff3 = np.linalg.norm(x_p - centroids[2])\n",
    "        i = np.argmin(np.array([diff1, diff2, diff3]))\n",
    "        assignments.append(i)\n",
    "    return np.array(assignments)\n",
    "\n",
    "# Load and reformat data\n",
    "data = np.loadtxt('blobs.dat')\n",
    "def reformat_x(x):\n",
    "    formatted_x = []\n",
    "    for i in range(0, x[0].size):\n",
    "        formatted_x.append(np.array([x[0][i], x[1][i]]))\n",
    "    return np.array(formatted_x)\n",
    "dataf = reformat_x(data)\n",
    "\n",
    "# Create initial centroids\n",
    "c1 = dataf[0]\n",
    "c2 = dataf[1]\n",
    "c3 = dataf[2]\n",
    "centroids = np.array([c1, c2, c3])\n",
    "\n",
    "def update_centroids(data, old_centroids, assignments):\n",
    "    centroids = []\n",
    "    for k in range(old_centroids.shape[0]):\n",
    "        Sk = np.argwhere(assignments == k)\n",
    "        summ = 0\n",
    "        div = 0\n",
    "        for p in Sk:\n",
    "            summ += data[p]\n",
    "            div += 1\n",
    "        ck = summ/div\n",
    "        centroids.append(ck)\n",
    "    return np.array(centroids)\n",
    "\n",
    "assignments = update_assignments(dataf, centroids)\n",
    "\n",
    "def run_kmeans(data, centroids, assignments, runs):\n",
    "    for i in range(runs):\n",
    "        assignments = update_assignments(data, centroids)        \n",
    "        centroids = update_centroids(data, centroids, assignments)\n",
    "    return centroids, assignments\n",
    "\n",
    "result = run_kmeans(dataf, centroids, assignments, 5)\n",
    "print(\"Fifth update of k-means clustering produces the centroids: \\n\", result[0])\n",
    "print(\"\")\n",
    "print(\"Fifth update of k-means clustering produces the assignments: \\n\", result[1])"
   ]
  },
  {
   "cell_type": "markdown",
   "metadata": {},
   "source": [
    "## 5.2 - Varying Centroid Numbers (K = 1 through 10)"
   ]
  },
  {
   "cell_type": "code",
   "execution_count": 93,
   "metadata": {},
   "outputs": [
    {
     "data": {
      "image/png": "[encoded data removed]",
      "text/plain": [
       "<Figure size 432x288 with 1 Axes>"
      ]
     },
     "metadata": {
      "needs_background": "light"
     },
     "output_type": "display_data"
    }
   ],
   "source": [
    "def update_assignments(data,centroids,K):\n",
    "    P = data.shape[0]\n",
    "    assignments = []\n",
    "    for p in range(P):\n",
    "        x_p = data[p]\n",
    "        diffs = []\n",
    "        for k in K:\n",
    "            diffs.append(np.linalg.norm(x_p - centroids[k]))\n",
    "        i = np.argmin(np.array(diffs))\n",
    "        assignments.append(i)\n",
    "    return np.array(assignments)\n",
    "\n",
    "# Load and reformat data\n",
    "data = np.loadtxt('blobs.dat')\n",
    "def reformat_x(x):\n",
    "    formatted_x = []\n",
    "    for i in range(0, x[0].size):\n",
    "        formatted_x.append(np.array([x[0][i], x[1][i]]))\n",
    "    return np.array(formatted_x)\n",
    "dataf = reformat_x(data)\n",
    "K = [0,1,2,3,4,5,6,7,8,9]\n",
    "\n",
    "# Create initial centroids\n",
    "def initial_centroids(data, K):\n",
    "    centroids = []\n",
    "    for k in K:\n",
    "        centroids.append(data[k])\n",
    "    return np.array(centroids)\n",
    "\n",
    "def update_centroids(data, old_centroids, assignments):\n",
    "    centroids = []\n",
    "    for k in range(old_centroids.shape[0]):\n",
    "        Sk = np.argwhere(assignments == k)\n",
    "        summ = 0\n",
    "        div = 0\n",
    "        for p in Sk:\n",
    "            summ += data[p]\n",
    "            div += 1\n",
    "        ck = summ/div\n",
    "        centroids.append(ck)\n",
    "    return np.array(centroids)\n",
    "\n",
    "def run_kmeans(data, centroids, assignments, runs, K):\n",
    "    centroids = initial_centroids(dataf, K)\n",
    "    for i in range(runs):\n",
    "        assignments = update_assignments(data, centroids, K)        \n",
    "        centroids = update_centroids(data, centroids, assignments)\n",
    "    return centroids, assignments\n",
    "\n",
    "def get_avicd(data, assignments, centroids, K):\n",
    "    # Order the data based on cluster\n",
    "    P = data.shape[0]\n",
    "    sum_k = 0\n",
    "    for k in K:\n",
    "        data_k = [] # Stores all data belonging to cluster k\n",
    "        for i in range(len(assignments)):\n",
    "            if assignments[i] == k:\n",
    "                data_k.append(data[i])\n",
    "        sum_k = 0\n",
    "        data_k = np.array(data_k)\n",
    "        for j in range(len(data_k)):\n",
    "            sum_k += np.linalg.norm(data_k[j] - centroids[k])\n",
    "    return sum_k/P\n",
    "\n",
    "def scree_plot(data, centroids, assignments, runs, K):\n",
    "    avicd = []    \n",
    "    for k in range(len(K)):\n",
    "        cent, assign = run_kmeans(data, centroids, assignments, runs, K[:k+1])\n",
    "        avicd.append(get_avicd(data, assign, cent, K[:k+1]))\n",
    "    pyplot.plot(np.array(K)+1, avicd, color='black')\n",
    "    pyplot.scatter(np.array(K)+1, avicd, color='black')\n",
    "    pyplot.xlabel('Number of Clusters')\n",
    "    pyplot.ylabel('Average Intra Cluster Distance')\n",
    "    pyplot.title('Scree Plot')\n",
    "\n",
    "scree_plot(dataf, centroids, assignments, 5, K)"
   ]
  },
  {
   "cell_type": "markdown",
   "metadata": {},
   "source": [
    "**Question: Is there a clear indication of the correct value for K?**\n",
    "<br/> Response: Yes. From the graph, we observe an 'elbow' at 4 clusters, meaning that increasing the number of $K$ clusters from $4$ to $5$ and onwards has little effect on the objective value. Further, having less than $4$ clusters would have an increasing Average Intra Cluster Distance as one moves farther from $K$. As such, we can argue that $K=4$ is a good choice for the number of clusters. "
   ]
  },
  {
   "cell_type": "markdown",
   "metadata": {},
   "source": [
    "# Exercise 6 - Fraud Detection"
   ]
  },
  {
   "cell_type": "code",
   "execution_count": 9,
   "metadata": {},
   "outputs": [
    {
     "name": "stdout",
     "output_type": "stream",
     "text": [
      "(1372, 5)\n",
      "(1372, 2)\n",
      "(1372,)\n"
     ]
    }
   ],
   "source": [
    "import numpy as np\n",
    "from urllib.request import urlopen\n",
    "url = 'http://archive.ics.uci.edu/ml/machine-learning-databases/00267/data_banknote_authentication.txt'\n",
    "raw_data = urlopen(url)\n",
    "dataset = np.loadtxt(raw_data, delimiter=\",\")\n",
    "X=dataset[:,[1,3]]\n",
    "Y=dataset[:,4]\n",
    "\n",
    "print(dataset.shape)\n",
    "print(X.shape)\n",
    "print(Y.shape)"
   ]
  },
  {
   "cell_type": "markdown",
   "metadata": {},
   "source": [
    "## 6.1 - Plotting the Data"
   ]
  },
  {
   "cell_type": "code",
   "execution_count": 10,
   "metadata": {},
   "outputs": [
    {
     "data": {
      "text/plain": [
       "<matplotlib.legend.Legend at 0x63f68ad90>"
      ]
     },
     "execution_count": 10,
     "metadata": {},
     "output_type": "execute_result"
    },
    {
     "data": {
      "image/png": "[encoded data removed]",
      "text/plain": [
       "<Figure size 432x288 with 1 Axes>"
      ]
     },
     "metadata": {
      "needs_background": "light"
     },
     "output_type": "display_data"
    }
   ],
   "source": [
    "X_real = []\n",
    "X_fake = []\n",
    "for i in range(0, X.shape[0]):\n",
    "    if Y[i] == 0:\n",
    "        X_real.append(X[i])\n",
    "    if Y[i] == 1:\n",
    "        X_fake.append(X[i])\n",
    "X_real = np.array(X_real)\n",
    "X_fake = np.array(X_fake)\n",
    "               \n",
    "pyplot.scatter(X_real[:,0], X_real[:,1], color='red', label='Real')\n",
    "pyplot.scatter(X_fake[:,0], X_fake[:,1], color='black',label='Fake')\n",
    "pyplot.xlabel('X1: Skewness of wavelet transformed image')\n",
    "pyplot.ylabel('X2: Entropy of wavelet transformed image')\n",
    "pyplot.title('Fraud Detection Original Data')\n",
    "pyplot.legend()"
   ]
  },
  {
   "cell_type": "markdown",
   "metadata": {},
   "source": [
    "As can be seen in the plot above, it is not possible to visually separate the two classes by a straight line."
   ]
  },
  {
   "cell_type": "markdown",
   "metadata": {},
   "source": [
    "## 6.2 - Keras + Tensorflow Logistic Regression"
   ]
  },
  {
   "cell_type": "code",
   "execution_count": 11,
   "metadata": {},
   "outputs": [
    {
     "name": "stdout",
     "output_type": "stream",
     "text": [
      "Train on 1372 samples\n",
      "Epoch 1/400\n",
      "1372/1372 [==============================] - 0s 349us/sample - loss: 1.5578 - accuracy: 0.3688\n",
      "Epoch 2/400\n",
      "1372/1372 [==============================] - 0s 14us/sample - loss: 1.3889 - accuracy: 0.4373\n",
      "Epoch 3/400\n",
      "1372/1372 [==============================] - 0s 14us/sample - loss: 1.2829 - accuracy: 0.4818\n",
      "Epoch 4/400\n",
      "1372/1372 [==============================] - 0s 15us/sample - loss: 1.2076 - accuracy: 0.4993\n",
      "Epoch 5/400\n",
      "1372/1372 [==============================] - 0s 14us/sample - loss: 1.1463 - accuracy: 0.5160\n",
      "Epoch 6/400\n",
      "1372/1372 [==============================] - 0s 16us/sample - loss: 1.0939 - accuracy: 0.5248\n",
      "Epoch 7/400\n",
      "1372/1372 [==============================] - 0s 17us/sample - loss: 1.0464 - accuracy: 0.5401\n",
      "Epoch 8/400\n",
      "1372/1372 [==============================] - 0s 15us/sample - loss: 1.0014 - accuracy: 0.5474\n",
      "Epoch 9/400\n",
      "1372/1372 [==============================] - 0s 16us/sample - loss: 0.9591 - accuracy: 0.5605\n",
      "Epoch 10/400\n",
      "1372/1372 [==============================] - 0s 16us/sample - loss: 0.9193 - accuracy: 0.5656\n",
      "Epoch 11/400\n",
      "1372/1372 [==============================] - 0s 15us/sample - loss: 0.8809 - accuracy: 0.5736\n",
      "Epoch 12/400\n",
      "1372/1372 [==============================] - 0s 15us/sample - loss: 0.8454 - accuracy: 0.5831\n",
      "Epoch 13/400\n",
      "1372/1372 [==============================] - 0s 16us/sample - loss: 0.8115 - accuracy: 0.5875\n",
      "Epoch 14/400\n",
      "1372/1372 [==============================] - 0s 16us/sample - loss: 0.7808 - accuracy: 0.5933\n",
      "Epoch 15/400\n",
      "1372/1372 [==============================] - 0s 15us/sample - loss: 0.7519 - accuracy: 0.5962\n",
      "Epoch 16/400\n",
      "1372/1372 [==============================] - 0s 16us/sample - loss: 0.7257 - accuracy: 0.5984\n",
      "Epoch 17/400\n",
      "1372/1372 [==============================] - 0s 15us/sample - loss: 0.7020 - accuracy: 0.6057\n",
      "Epoch 18/400\n",
      "1372/1372 [==============================] - 0s 16us/sample - loss: 0.6809 - accuracy: 0.6101\n",
      "Epoch 19/400\n",
      "1372/1372 [==============================] - 0s 16us/sample - loss: 0.6620 - accuracy: 0.6122\n",
      "Epoch 20/400\n",
      "1372/1372 [==============================] - 0s 16us/sample - loss: 0.6450 - accuracy: 0.6144\n",
      "Epoch 21/400\n",
      "1372/1372 [==============================] - 0s 16us/sample - loss: 0.6297 - accuracy: 0.6188\n",
      "Epoch 22/400\n",
      "1372/1372 [==============================] - ETA: 0s - loss: 0.6194 - accuracy: 0.60 - 0s 16us/sample - loss: 0.6164 - accuracy: 0.6276\n",
      "Epoch 23/400\n",
      "1372/1372 [==============================] - 0s 16us/sample - loss: 0.6049 - accuracy: 0.6312\n",
      "Epoch 24/400\n",
      "1372/1372 [==============================] - 0s 16us/sample - loss: 0.5947 - accuracy: 0.6378\n",
      "Epoch 25/400\n",
      "1372/1372 [==============================] - 0s 16us/sample - loss: 0.5858 - accuracy: 0.6465\n",
      "Epoch 26/400\n",
      "1372/1372 [==============================] - 0s 18us/sample - loss: 0.5780 - accuracy: 0.6494\n",
      "Epoch 27/400\n",
      "1372/1372 [==============================] - 0s 19us/sample - loss: 0.5712 - accuracy: 0.6509\n",
      "Epoch 28/400\n",
      "1372/1372 [==============================] - 0s 20us/sample - loss: 0.5652 - accuracy: 0.6545\n",
      "Epoch 29/400\n",
      "1372/1372 [==============================] - 0s 18us/sample - loss: 0.5599 - accuracy: 0.6545\n",
      "Epoch 30/400\n",
      "1372/1372 [==============================] - 0s 21us/sample - loss: 0.5550 - accuracy: 0.6552\n",
      "Epoch 31/400\n",
      "1372/1372 [==============================] - 0s 19us/sample - loss: 0.5509 - accuracy: 0.6596\n",
      "Epoch 32/400\n",
      "1372/1372 [==============================] - 0s 19us/sample - loss: 0.5473 - accuracy: 0.6574\n",
      "Epoch 33/400\n",
      "1372/1372 [==============================] - 0s 19us/sample - loss: 0.5442 - accuracy: 0.6647\n",
      "Epoch 34/400\n",
      "1372/1372 [==============================] - 0s 19us/sample - loss: 0.5412 - accuracy: 0.6829\n",
      "Epoch 35/400\n",
      "1372/1372 [==============================] - 0s 18us/sample - loss: 0.5388 - accuracy: 0.6953\n",
      "Epoch 36/400\n",
      "1372/1372 [==============================] - 0s 19us/sample - loss: 0.5363 - accuracy: 0.7012\n",
      "Epoch 37/400\n",
      "1372/1372 [==============================] - 0s 21us/sample - loss: 0.5342 - accuracy: 0.7121\n",
      "Epoch 38/400\n",
      "1372/1372 [==============================] - 0s 19us/sample - loss: 0.5324 - accuracy: 0.7259\n",
      "Epoch 39/400\n",
      "1372/1372 [==============================] - 0s 20us/sample - loss: 0.5308 - accuracy: 0.7303\n",
      "Epoch 40/400\n",
      "1372/1372 [==============================] - 0s 19us/sample - loss: 0.5292 - accuracy: 0.7310\n",
      "Epoch 41/400\n",
      "1372/1372 [==============================] - 0s 19us/sample - loss: 0.5281 - accuracy: 0.7362\n",
      "Epoch 42/400\n",
      "1372/1372 [==============================] - 0s 18us/sample - loss: 0.5267 - accuracy: 0.7383\n",
      "Epoch 43/400\n",
      "1372/1372 [==============================] - 0s 18us/sample - loss: 0.5258 - accuracy: 0.7347\n",
      "Epoch 44/400\n",
      "1372/1372 [==============================] - 0s 17us/sample - loss: 0.5248 - accuracy: 0.7383\n",
      "Epoch 45/400\n",
      "1372/1372 [==============================] - 0s 16us/sample - loss: 0.5238 - accuracy: 0.7383\n",
      "Epoch 46/400\n",
      "1372/1372 [==============================] - 0s 17us/sample - loss: 0.5230 - accuracy: 0.7398\n",
      "Epoch 47/400\n",
      "1372/1372 [==============================] - 0s 17us/sample - loss: 0.5223 - accuracy: 0.7391\n",
      "Epoch 48/400\n",
      "1372/1372 [==============================] - 0s 17us/sample - loss: 0.5216 - accuracy: 0.7376\n",
      "Epoch 49/400\n",
      "1372/1372 [==============================] - 0s 17us/sample - loss: 0.5209 - accuracy: 0.7376\n",
      "Epoch 50/400\n",
      "1372/1372 [==============================] - 0s 16us/sample - loss: 0.5204 - accuracy: 0.7362\n",
      "Epoch 51/400\n",
      "1372/1372 [==============================] - 0s 16us/sample - loss: 0.5199 - accuracy: 0.7362\n",
      "Epoch 52/400\n",
      "1372/1372 [==============================] - 0s 16us/sample - loss: 0.5194 - accuracy: 0.7340\n",
      "Epoch 53/400\n",
      "1372/1372 [==============================] - 0s 17us/sample - loss: 0.5189 - accuracy: 0.7340\n",
      "Epoch 54/400\n",
      "1372/1372 [==============================] - 0s 17us/sample - loss: 0.5185 - accuracy: 0.7325\n",
      "Epoch 55/400\n",
      "1372/1372 [==============================] - 0s 17us/sample - loss: 0.5182 - accuracy: 0.7318\n",
      "Epoch 56/400\n",
      "1372/1372 [==============================] - 0s 16us/sample - loss: 0.5178 - accuracy: 0.7303\n",
      "Epoch 57/400\n",
      "1372/1372 [==============================] - 0s 16us/sample - loss: 0.5176 - accuracy: 0.7281\n",
      "Epoch 58/400\n",
      "1372/1372 [==============================] - 0s 16us/sample - loss: 0.5172 - accuracy: 0.7274\n",
      "Epoch 59/400\n",
      "1372/1372 [==============================] - 0s 16us/sample - loss: 0.5169 - accuracy: 0.7274\n",
      "Epoch 60/400\n",
      "1372/1372 [==============================] - 0s 15us/sample - loss: 0.5167 - accuracy: 0.7259\n",
      "Epoch 61/400\n",
      "1372/1372 [==============================] - 0s 16us/sample - loss: 0.5164 - accuracy: 0.7259\n",
      "Epoch 62/400\n",
      "1372/1372 [==============================] - 0s 16us/sample - loss: 0.5163 - accuracy: 0.7267\n",
      "Epoch 63/400\n",
      "1372/1372 [==============================] - 0s 16us/sample - loss: 0.5160 - accuracy: 0.7289\n",
      "Epoch 64/400\n",
      "1372/1372 [==============================] - 0s 15us/sample - loss: 0.5157 - accuracy: 0.7310\n",
      "Epoch 65/400\n",
      "1372/1372 [==============================] - 0s 15us/sample - loss: 0.5155 - accuracy: 0.7325\n",
      "Epoch 66/400\n",
      "1372/1372 [==============================] - 0s 16us/sample - loss: 0.5153 - accuracy: 0.7325\n",
      "Epoch 67/400\n",
      "1372/1372 [==============================] - 0s 16us/sample - loss: 0.5153 - accuracy: 0.7332\n",
      "Epoch 68/400\n",
      "1372/1372 [==============================] - 0s 16us/sample - loss: 0.5153 - accuracy: 0.7340\n",
      "Epoch 69/400\n",
      "1372/1372 [==============================] - 0s 16us/sample - loss: 0.5150 - accuracy: 0.7340\n",
      "Epoch 70/400\n",
      "1372/1372 [==============================] - 0s 15us/sample - loss: 0.5148 - accuracy: 0.7347\n",
      "Epoch 71/400\n",
      "1372/1372 [==============================] - 0s 17us/sample - loss: 0.5147 - accuracy: 0.7340\n",
      "Epoch 72/400\n",
      "1372/1372 [==============================] - 0s 15us/sample - loss: 0.5146 - accuracy: 0.7332\n",
      "Epoch 73/400\n",
      "1372/1372 [==============================] - 0s 16us/sample - loss: 0.5144 - accuracy: 0.7347\n",
      "Epoch 74/400\n",
      "1372/1372 [==============================] - 0s 15us/sample - loss: 0.5145 - accuracy: 0.7354\n",
      "Epoch 75/400\n",
      "1372/1372 [==============================] - 0s 16us/sample - loss: 0.5142 - accuracy: 0.7332\n",
      "Epoch 76/400\n",
      "1372/1372 [==============================] - 0s 16us/sample - loss: 0.5143 - accuracy: 0.7318\n",
      "Epoch 77/400\n"
     ]
    },
    {
     "name": "stdout",
     "output_type": "stream",
     "text": [
      "1372/1372 [==============================] - 0s 16us/sample - loss: 0.5140 - accuracy: 0.7310\n",
      "Epoch 78/400\n",
      "1372/1372 [==============================] - 0s 16us/sample - loss: 0.5140 - accuracy: 0.7303\n",
      "Epoch 79/400\n",
      "1372/1372 [==============================] - 0s 14us/sample - loss: 0.5139 - accuracy: 0.7303\n",
      "Epoch 80/400\n",
      "1372/1372 [==============================] - 0s 15us/sample - loss: 0.5138 - accuracy: 0.7303\n",
      "Epoch 81/400\n",
      "1372/1372 [==============================] - 0s 15us/sample - loss: 0.5138 - accuracy: 0.7310\n",
      "Epoch 82/400\n",
      "1372/1372 [==============================] - 0s 15us/sample - loss: 0.5136 - accuracy: 0.7318\n",
      "Epoch 83/400\n",
      "1372/1372 [==============================] - 0s 14us/sample - loss: 0.5136 - accuracy: 0.7325\n",
      "Epoch 84/400\n",
      "1372/1372 [==============================] - 0s 15us/sample - loss: 0.5135 - accuracy: 0.7332\n",
      "Epoch 85/400\n",
      "1372/1372 [==============================] - 0s 15us/sample - loss: 0.5134 - accuracy: 0.7318\n",
      "Epoch 86/400\n",
      "1372/1372 [==============================] - 0s 15us/sample - loss: 0.5134 - accuracy: 0.7318\n",
      "Epoch 87/400\n",
      "1372/1372 [==============================] - 0s 15us/sample - loss: 0.5134 - accuracy: 0.7296\n",
      "Epoch 88/400\n",
      "1372/1372 [==============================] - 0s 14us/sample - loss: 0.5133 - accuracy: 0.7310\n",
      "Epoch 89/400\n",
      "1372/1372 [==============================] - 0s 15us/sample - loss: 0.5133 - accuracy: 0.7310\n",
      "Epoch 90/400\n",
      "1372/1372 [==============================] - 0s 15us/sample - loss: 0.5131 - accuracy: 0.7296\n",
      "Epoch 91/400\n",
      "1372/1372 [==============================] - 0s 14us/sample - loss: 0.5131 - accuracy: 0.7318\n",
      "Epoch 92/400\n",
      "1372/1372 [==============================] - 0s 15us/sample - loss: 0.5131 - accuracy: 0.7303\n",
      "Epoch 93/400\n",
      "1372/1372 [==============================] - 0s 14us/sample - loss: 0.5131 - accuracy: 0.7303\n",
      "Epoch 94/400\n",
      "1372/1372 [==============================] - 0s 15us/sample - loss: 0.5131 - accuracy: 0.7296\n",
      "Epoch 95/400\n",
      "1372/1372 [==============================] - 0s 15us/sample - loss: 0.5129 - accuracy: 0.7303\n",
      "Epoch 96/400\n",
      "1372/1372 [==============================] - 0s 15us/sample - loss: 0.5129 - accuracy: 0.7296\n",
      "Epoch 97/400\n",
      "1372/1372 [==============================] - 0s 18us/sample - loss: 0.5130 - accuracy: 0.7289\n",
      "Epoch 98/400\n",
      "1372/1372 [==============================] - 0s 19us/sample - loss: 0.5128 - accuracy: 0.7289\n",
      "Epoch 99/400\n",
      "1372/1372 [==============================] - 0s 19us/sample - loss: 0.5128 - accuracy: 0.7281\n",
      "Epoch 100/400\n",
      "1372/1372 [==============================] - 0s 19us/sample - loss: 0.5127 - accuracy: 0.7281\n",
      "Epoch 101/400\n",
      "1372/1372 [==============================] - 0s 21us/sample - loss: 0.5128 - accuracy: 0.7274\n",
      "Epoch 102/400\n",
      "1372/1372 [==============================] - 0s 34us/sample - loss: 0.5127 - accuracy: 0.7252\n",
      "Epoch 103/400\n",
      "1372/1372 [==============================] - 0s 32us/sample - loss: 0.5126 - accuracy: 0.7259\n",
      "Epoch 104/400\n",
      "1372/1372 [==============================] - 0s 28us/sample - loss: 0.5126 - accuracy: 0.7252\n",
      "Epoch 105/400\n",
      "1372/1372 [==============================] - 0s 32us/sample - loss: 0.5127 - accuracy: 0.7259\n",
      "Epoch 106/400\n",
      "1372/1372 [==============================] - 0s 23us/sample - loss: 0.5126 - accuracy: 0.7245\n",
      "Epoch 107/400\n",
      "1372/1372 [==============================] - 0s 25us/sample - loss: 0.5125 - accuracy: 0.7245\n",
      "Epoch 108/400\n",
      "1372/1372 [==============================] - 0s 26us/sample - loss: 0.5125 - accuracy: 0.7252\n",
      "Epoch 109/400\n",
      "1372/1372 [==============================] - 0s 28us/sample - loss: 0.5124 - accuracy: 0.7238\n",
      "Epoch 110/400\n",
      "1372/1372 [==============================] - 0s 24us/sample - loss: 0.5124 - accuracy: 0.7245\n",
      "Epoch 111/400\n",
      "1372/1372 [==============================] - 0s 24us/sample - loss: 0.5123 - accuracy: 0.7252\n",
      "Epoch 112/400\n",
      "1372/1372 [==============================] - 0s 23us/sample - loss: 0.5124 - accuracy: 0.7245\n",
      "Epoch 113/400\n",
      "1372/1372 [==============================] - 0s 25us/sample - loss: 0.5124 - accuracy: 0.7238\n",
      "Epoch 114/400\n",
      "1372/1372 [==============================] - 0s 23us/sample - loss: 0.5123 - accuracy: 0.7230\n",
      "Epoch 115/400\n",
      "1372/1372 [==============================] - 0s 24us/sample - loss: 0.5123 - accuracy: 0.7238\n",
      "Epoch 116/400\n",
      "1372/1372 [==============================] - 0s 22us/sample - loss: 0.5123 - accuracy: 0.7230\n",
      "Epoch 117/400\n",
      "1372/1372 [==============================] - 0s 21us/sample - loss: 0.5122 - accuracy: 0.7230\n",
      "Epoch 118/400\n",
      "1372/1372 [==============================] - 0s 20us/sample - loss: 0.5123 - accuracy: 0.7238\n",
      "Epoch 119/400\n",
      "1372/1372 [==============================] - 0s 23us/sample - loss: 0.5122 - accuracy: 0.7216\n",
      "Epoch 120/400\n",
      "1372/1372 [==============================] - 0s 21us/sample - loss: 0.5122 - accuracy: 0.7216\n",
      "Epoch 121/400\n",
      "1372/1372 [==============================] - 0s 23us/sample - loss: 0.5122 - accuracy: 0.7201\n",
      "Epoch 122/400\n",
      "1372/1372 [==============================] - 0s 26us/sample - loss: 0.5121 - accuracy: 0.7201\n",
      "Epoch 123/400\n",
      "1372/1372 [==============================] - 0s 25us/sample - loss: 0.5122 - accuracy: 0.7223\n",
      "Epoch 124/400\n",
      "1372/1372 [==============================] - 0s 23us/sample - loss: 0.5122 - accuracy: 0.7208\n",
      "Epoch 125/400\n",
      "1372/1372 [==============================] - 0s 23us/sample - loss: 0.5122 - accuracy: 0.7208\n",
      "Epoch 126/400\n",
      "1372/1372 [==============================] - 0s 22us/sample - loss: 0.5121 - accuracy: 0.7201\n",
      "Epoch 127/400\n",
      "1372/1372 [==============================] - 0s 24us/sample - loss: 0.5121 - accuracy: 0.7194\n",
      "Epoch 128/400\n",
      "1372/1372 [==============================] - 0s 24us/sample - loss: 0.5120 - accuracy: 0.7201\n",
      "Epoch 129/400\n",
      "1372/1372 [==============================] - 0s 23us/sample - loss: 0.5121 - accuracy: 0.7201\n",
      "Epoch 130/400\n",
      "1372/1372 [==============================] - 0s 22us/sample - loss: 0.5120 - accuracy: 0.7194\n",
      "Epoch 131/400\n",
      "1372/1372 [==============================] - 0s 22us/sample - loss: 0.5122 - accuracy: 0.7194\n",
      "Epoch 132/400\n",
      "1372/1372 [==============================] - 0s 23us/sample - loss: 0.5121 - accuracy: 0.7201\n",
      "Epoch 133/400\n",
      "1372/1372 [==============================] - 0s 26us/sample - loss: 0.5122 - accuracy: 0.7179\n",
      "Epoch 134/400\n",
      "1372/1372 [==============================] - 0s 23us/sample - loss: 0.5120 - accuracy: 0.7201\n",
      "Epoch 135/400\n",
      "1372/1372 [==============================] - 0s 21us/sample - loss: 0.5120 - accuracy: 0.7187\n",
      "Epoch 136/400\n",
      "1372/1372 [==============================] - 0s 20us/sample - loss: 0.5120 - accuracy: 0.7179\n",
      "Epoch 137/400\n",
      "1372/1372 [==============================] - 0s 21us/sample - loss: 0.5120 - accuracy: 0.7179\n",
      "Epoch 138/400\n",
      "1372/1372 [==============================] - 0s 21us/sample - loss: 0.5119 - accuracy: 0.7179\n",
      "Epoch 139/400\n",
      "1372/1372 [==============================] - 0s 23us/sample - loss: 0.5119 - accuracy: 0.7179\n",
      "Epoch 140/400\n",
      "1372/1372 [==============================] - 0s 23us/sample - loss: 0.5121 - accuracy: 0.7187\n",
      "Epoch 141/400\n",
      "1372/1372 [==============================] - 0s 28us/sample - loss: 0.5119 - accuracy: 0.7179\n",
      "Epoch 142/400\n",
      "1372/1372 [==============================] - 0s 23us/sample - loss: 0.5119 - accuracy: 0.7179\n",
      "Epoch 143/400\n",
      "1372/1372 [==============================] - 0s 22us/sample - loss: 0.5119 - accuracy: 0.7172\n",
      "Epoch 144/400\n",
      "1372/1372 [==============================] - 0s 23us/sample - loss: 0.5119 - accuracy: 0.7172\n",
      "Epoch 145/400\n",
      "1372/1372 [==============================] - 0s 21us/sample - loss: 0.5118 - accuracy: 0.7172\n",
      "Epoch 146/400\n",
      "1372/1372 [==============================] - 0s 18us/sample - loss: 0.5119 - accuracy: 0.7157\n",
      "Epoch 147/400\n",
      "1372/1372 [==============================] - 0s 19us/sample - loss: 0.5119 - accuracy: 0.7172\n",
      "Epoch 148/400\n",
      "1372/1372 [==============================] - 0s 18us/sample - loss: 0.5118 - accuracy: 0.7157\n",
      "Epoch 149/400\n",
      "1372/1372 [==============================] - 0s 19us/sample - loss: 0.5119 - accuracy: 0.7157\n",
      "Epoch 150/400\n",
      "1372/1372 [==============================] - 0s 18us/sample - loss: 0.5119 - accuracy: 0.7172\n",
      "Epoch 151/400\n",
      "1372/1372 [==============================] - 0s 18us/sample - loss: 0.5119 - accuracy: 0.7157\n",
      "Epoch 152/400\n",
      "1372/1372 [==============================] - 0s 17us/sample - loss: 0.5119 - accuracy: 0.7157\n",
      "Epoch 153/400\n",
      "1372/1372 [==============================] - 0s 16us/sample - loss: 0.5120 - accuracy: 0.7150\n",
      "Epoch 154/400\n",
      "1372/1372 [==============================] - 0s 16us/sample - loss: 0.5119 - accuracy: 0.7165\n",
      "Epoch 155/400\n",
      "1372/1372 [==============================] - 0s 16us/sample - loss: 0.5118 - accuracy: 0.7157\n",
      "Epoch 156/400\n",
      "1372/1372 [==============================] - 0s 18us/sample - loss: 0.5118 - accuracy: 0.7143\n",
      "Epoch 157/400\n",
      "1372/1372 [==============================] - 0s 16us/sample - loss: 0.5118 - accuracy: 0.7150\n",
      "Epoch 158/400\n",
      "1372/1372 [==============================] - 0s 21us/sample - loss: 0.5118 - accuracy: 0.7150\n",
      "Epoch 159/400\n",
      "1372/1372 [==============================] - 0s 20us/sample - loss: 0.5119 - accuracy: 0.7150\n",
      "Epoch 160/400\n",
      "1372/1372 [==============================] - 0s 17us/sample - loss: 0.5118 - accuracy: 0.7136\n",
      "Epoch 161/400\n",
      "1372/1372 [==============================] - 0s 19us/sample - loss: 0.5117 - accuracy: 0.7143\n",
      "Epoch 162/400\n",
      "1372/1372 [==============================] - 0s 20us/sample - loss: 0.5118 - accuracy: 0.7128\n",
      "Epoch 163/400\n",
      "1372/1372 [==============================] - 0s 18us/sample - loss: 0.5117 - accuracy: 0.7128\n",
      "Epoch 164/400\n",
      "1372/1372 [==============================] - 0s 19us/sample - loss: 0.5117 - accuracy: 0.7128\n",
      "Epoch 165/400\n",
      "1372/1372 [==============================] - 0s 19us/sample - loss: 0.5118 - accuracy: 0.7128\n",
      "Epoch 166/400\n",
      "1372/1372 [==============================] - 0s 18us/sample - loss: 0.5117 - accuracy: 0.7128\n",
      "Epoch 167/400\n",
      "1372/1372 [==============================] - 0s 19us/sample - loss: 0.5117 - accuracy: 0.7128\n",
      "Epoch 168/400\n",
      "1372/1372 [==============================] - 0s 17us/sample - loss: 0.5118 - accuracy: 0.7136\n",
      "Epoch 169/400\n",
      "1372/1372 [==============================] - 0s 19us/sample - loss: 0.5117 - accuracy: 0.7114\n",
      "Epoch 170/400\n",
      "1372/1372 [==============================] - 0s 19us/sample - loss: 0.5117 - accuracy: 0.7114\n",
      "Epoch 171/400\n",
      "1372/1372 [==============================] - 0s 17us/sample - loss: 0.5117 - accuracy: 0.7128\n",
      "Epoch 172/400\n",
      "1372/1372 [==============================] - 0s 18us/sample - loss: 0.5119 - accuracy: 0.7121\n",
      "Epoch 173/400\n",
      "1372/1372 [==============================] - 0s 22us/sample - loss: 0.5117 - accuracy: 0.7114\n",
      "Epoch 174/400\n",
      "1372/1372 [==============================] - 0s 20us/sample - loss: 0.5118 - accuracy: 0.7121\n",
      "Epoch 175/400\n",
      "1372/1372 [==============================] - 0s 20us/sample - loss: 0.5117 - accuracy: 0.7121\n",
      "Epoch 176/400\n",
      "1372/1372 [==============================] - 0s 18us/sample - loss: 0.5118 - accuracy: 0.7128\n",
      "Epoch 177/400\n",
      "1372/1372 [==============================] - 0s 20us/sample - loss: 0.5117 - accuracy: 0.7128\n",
      "Epoch 178/400\n",
      "1372/1372 [==============================] - 0s 18us/sample - loss: 0.5117 - accuracy: 0.7128\n",
      "Epoch 179/400\n",
      "1372/1372 [==============================] - 0s 18us/sample - loss: 0.5117 - accuracy: 0.7143\n",
      "Epoch 180/400\n",
      "1372/1372 [==============================] - 0s 19us/sample - loss: 0.5117 - accuracy: 0.7114\n",
      "Epoch 181/400\n",
      "1372/1372 [==============================] - 0s 18us/sample - loss: 0.5117 - accuracy: 0.7143\n",
      "Epoch 182/400\n",
      "1372/1372 [==============================] - 0s 19us/sample - loss: 0.5117 - accuracy: 0.7121\n",
      "Epoch 183/400\n",
      "1372/1372 [==============================] - 0s 17us/sample - loss: 0.5118 - accuracy: 0.7136\n",
      "Epoch 184/400\n",
      "1372/1372 [==============================] - 0s 18us/sample - loss: 0.5117 - accuracy: 0.7136\n",
      "Epoch 185/400\n",
      "1372/1372 [==============================] - 0s 18us/sample - loss: 0.5116 - accuracy: 0.7136\n",
      "Epoch 186/400\n",
      "1372/1372 [==============================] - 0s 18us/sample - loss: 0.5116 - accuracy: 0.7136\n",
      "Epoch 187/400\n",
      "1372/1372 [==============================] - 0s 19us/sample - loss: 0.5117 - accuracy: 0.7128\n",
      "Epoch 188/400\n",
      "1372/1372 [==============================] - 0s 18us/sample - loss: 0.5116 - accuracy: 0.7128\n",
      "Epoch 189/400\n",
      "1372/1372 [==============================] - 0s 24us/sample - loss: 0.5117 - accuracy: 0.7143\n",
      "Epoch 190/400\n",
      "1372/1372 [==============================] - 0s 19us/sample - loss: 0.5117 - accuracy: 0.7128\n",
      "Epoch 191/400\n",
      "1372/1372 [==============================] - 0s 15us/sample - loss: 0.5118 - accuracy: 0.7143\n",
      "Epoch 192/400\n",
      "1372/1372 [==============================] - 0s 16us/sample - loss: 0.5116 - accuracy: 0.7128\n",
      "Epoch 193/400\n",
      "1372/1372 [==============================] - 0s 15us/sample - loss: 0.5117 - accuracy: 0.7128\n",
      "Epoch 194/400\n",
      "1372/1372 [==============================] - 0s 15us/sample - loss: 0.5116 - accuracy: 0.7128\n",
      "Epoch 195/400\n",
      "1372/1372 [==============================] - 0s 15us/sample - loss: 0.5116 - accuracy: 0.7128\n",
      "Epoch 196/400\n",
      "1372/1372 [==============================] - 0s 14us/sample - loss: 0.5117 - accuracy: 0.7128\n",
      "Epoch 197/400\n",
      "1372/1372 [==============================] - 0s 14us/sample - loss: 0.5117 - accuracy: 0.7114\n",
      "Epoch 198/400\n",
      "1372/1372 [==============================] - 0s 14us/sample - loss: 0.5117 - accuracy: 0.7121\n",
      "Epoch 199/400\n",
      "1372/1372 [==============================] - 0s 13us/sample - loss: 0.5117 - accuracy: 0.7128\n",
      "Epoch 200/400\n",
      "1372/1372 [==============================] - 0s 14us/sample - loss: 0.5116 - accuracy: 0.7121\n",
      "Epoch 201/400\n",
      "1372/1372 [==============================] - 0s 14us/sample - loss: 0.5116 - accuracy: 0.7128\n",
      "Epoch 202/400\n",
      "1372/1372 [==============================] - 0s 14us/sample - loss: 0.5116 - accuracy: 0.7136\n",
      "Epoch 203/400\n",
      "1372/1372 [==============================] - 0s 14us/sample - loss: 0.5117 - accuracy: 0.7143\n",
      "Epoch 204/400\n",
      "1372/1372 [==============================] - 0s 14us/sample - loss: 0.5116 - accuracy: 0.7128\n",
      "Epoch 205/400\n",
      "1372/1372 [==============================] - 0s 14us/sample - loss: 0.5117 - accuracy: 0.7143\n",
      "Epoch 206/400\n",
      "1372/1372 [==============================] - 0s 15us/sample - loss: 0.5116 - accuracy: 0.7136\n",
      "Epoch 207/400\n",
      "1372/1372 [==============================] - 0s 16us/sample - loss: 0.5116 - accuracy: 0.7128\n",
      "Epoch 208/400\n",
      "1372/1372 [==============================] - 0s 15us/sample - loss: 0.5116 - accuracy: 0.7121\n",
      "Epoch 209/400\n",
      "1372/1372 [==============================] - 0s 15us/sample - loss: 0.5117 - accuracy: 0.7121\n",
      "Epoch 210/400\n",
      "1372/1372 [==============================] - 0s 15us/sample - loss: 0.5117 - accuracy: 0.7121\n",
      "Epoch 211/400\n",
      "1372/1372 [==============================] - 0s 17us/sample - loss: 0.5117 - accuracy: 0.7128\n",
      "Epoch 212/400\n",
      "1372/1372 [==============================] - 0s 17us/sample - loss: 0.5117 - accuracy: 0.7121\n",
      "Epoch 213/400\n",
      "1372/1372 [==============================] - 0s 16us/sample - loss: 0.5116 - accuracy: 0.7128\n",
      "Epoch 214/400\n",
      "1372/1372 [==============================] - 0s 15us/sample - loss: 0.5116 - accuracy: 0.7121\n",
      "Epoch 215/400\n",
      "1372/1372 [==============================] - ETA: 0s - loss: 0.5214 - accuracy: 0.71 - 0s 16us/sample - loss: 0.5116 - accuracy: 0.7128\n",
      "Epoch 216/400\n",
      "1372/1372 [==============================] - 0s 15us/sample - loss: 0.5116 - accuracy: 0.7121\n",
      "Epoch 217/400\n",
      "1372/1372 [==============================] - 0s 15us/sample - loss: 0.5117 - accuracy: 0.7121\n",
      "Epoch 218/400\n",
      "1372/1372 [==============================] - 0s 15us/sample - loss: 0.5116 - accuracy: 0.7121\n",
      "Epoch 219/400\n",
      "1372/1372 [==============================] - 0s 16us/sample - loss: 0.5116 - accuracy: 0.7121\n",
      "Epoch 220/400\n",
      "1372/1372 [==============================] - 0s 16us/sample - loss: 0.5117 - accuracy: 0.7121\n",
      "Epoch 221/400\n",
      "1372/1372 [==============================] - 0s 15us/sample - loss: 0.5116 - accuracy: 0.7121\n",
      "Epoch 222/400\n",
      "1372/1372 [==============================] - 0s 15us/sample - loss: 0.5116 - accuracy: 0.7128\n",
      "Epoch 223/400\n",
      "1372/1372 [==============================] - 0s 15us/sample - loss: 0.5117 - accuracy: 0.7128\n",
      "Epoch 224/400\n",
      "1372/1372 [==============================] - 0s 15us/sample - loss: 0.5116 - accuracy: 0.7121\n",
      "Epoch 225/400\n",
      "1372/1372 [==============================] - 0s 15us/sample - loss: 0.5116 - accuracy: 0.7136\n",
      "Epoch 226/400\n",
      "1372/1372 [==============================] - 0s 15us/sample - loss: 0.5116 - accuracy: 0.7114\n",
      "Epoch 227/400\n",
      "1372/1372 [==============================] - 0s 15us/sample - loss: 0.5117 - accuracy: 0.7114\n",
      "Epoch 228/400\n"
     ]
    },
    {
     "name": "stdout",
     "output_type": "stream",
     "text": [
      "1372/1372 [==============================] - 0s 15us/sample - loss: 0.5116 - accuracy: 0.7128\n",
      "Epoch 229/400\n",
      "1372/1372 [==============================] - 0s 15us/sample - loss: 0.5117 - accuracy: 0.7121\n",
      "Epoch 230/400\n",
      "1372/1372 [==============================] - 0s 15us/sample - loss: 0.5116 - accuracy: 0.7121\n",
      "Epoch 231/400\n",
      "1372/1372 [==============================] - 0s 15us/sample - loss: 0.5116 - accuracy: 0.7128\n",
      "Epoch 232/400\n",
      "1372/1372 [==============================] - 0s 15us/sample - loss: 0.5117 - accuracy: 0.7121\n",
      "Epoch 233/400\n",
      "1372/1372 [==============================] - 0s 15us/sample - loss: 0.5116 - accuracy: 0.7128\n",
      "Epoch 234/400\n",
      "1372/1372 [==============================] - 0s 16us/sample - loss: 0.5115 - accuracy: 0.7121\n",
      "Epoch 235/400\n",
      "1372/1372 [==============================] - 0s 16us/sample - loss: 0.5115 - accuracy: 0.7128\n",
      "Epoch 236/400\n",
      "1372/1372 [==============================] - 0s 16us/sample - loss: 0.5117 - accuracy: 0.7128\n",
      "Epoch 237/400\n",
      "1372/1372 [==============================] - 0s 15us/sample - loss: 0.5116 - accuracy: 0.7128\n",
      "Epoch 238/400\n",
      "1372/1372 [==============================] - 0s 15us/sample - loss: 0.5117 - accuracy: 0.7121\n",
      "Epoch 239/400\n",
      "1372/1372 [==============================] - 0s 15us/sample - loss: 0.5117 - accuracy: 0.7136\n",
      "Epoch 240/400\n",
      "1372/1372 [==============================] - 0s 15us/sample - loss: 0.5116 - accuracy: 0.7128\n",
      "Epoch 241/400\n",
      "1372/1372 [==============================] - 0s 15us/sample - loss: 0.5116 - accuracy: 0.7128\n",
      "Epoch 242/400\n",
      "1372/1372 [==============================] - 0s 15us/sample - loss: 0.5117 - accuracy: 0.7121\n",
      "Epoch 243/400\n",
      "1372/1372 [==============================] - 0s 15us/sample - loss: 0.5116 - accuracy: 0.7128\n",
      "Epoch 244/400\n",
      "1372/1372 [==============================] - 0s 15us/sample - loss: 0.5117 - accuracy: 0.7121\n",
      "Epoch 245/400\n",
      "1372/1372 [==============================] - 0s 16us/sample - loss: 0.5116 - accuracy: 0.7128\n",
      "Epoch 246/400\n",
      "1372/1372 [==============================] - 0s 19us/sample - loss: 0.5118 - accuracy: 0.7114\n",
      "Epoch 247/400\n",
      "1372/1372 [==============================] - 0s 18us/sample - loss: 0.5116 - accuracy: 0.7114\n",
      "Epoch 248/400\n",
      "1372/1372 [==============================] - 0s 17us/sample - loss: 0.5116 - accuracy: 0.7128\n",
      "Epoch 249/400\n",
      "1372/1372 [==============================] - 0s 17us/sample - loss: 0.5116 - accuracy: 0.7121\n",
      "Epoch 250/400\n",
      "1372/1372 [==============================] - 0s 16us/sample - loss: 0.5116 - accuracy: 0.7121\n",
      "Epoch 251/400\n",
      "1372/1372 [==============================] - 0s 15us/sample - loss: 0.5116 - accuracy: 0.7128\n",
      "Epoch 252/400\n",
      "1372/1372 [==============================] - 0s 15us/sample - loss: 0.5116 - accuracy: 0.7128\n",
      "Epoch 253/400\n",
      "1372/1372 [==============================] - 0s 15us/sample - loss: 0.5116 - accuracy: 0.7128\n",
      "Epoch 254/400\n",
      "1372/1372 [==============================] - 0s 15us/sample - loss: 0.5116 - accuracy: 0.7114\n",
      "Epoch 255/400\n",
      "1372/1372 [==============================] - 0s 15us/sample - loss: 0.5116 - accuracy: 0.7114\n",
      "Epoch 256/400\n",
      "1372/1372 [==============================] - 0s 15us/sample - loss: 0.5116 - accuracy: 0.7136\n",
      "Epoch 257/400\n",
      "1372/1372 [==============================] - 0s 15us/sample - loss: 0.5115 - accuracy: 0.7128\n",
      "Epoch 258/400\n",
      "1372/1372 [==============================] - 0s 14us/sample - loss: 0.5116 - accuracy: 0.7128\n",
      "Epoch 259/400\n",
      "1372/1372 [==============================] - 0s 14us/sample - loss: 0.5116 - accuracy: 0.7128\n",
      "Epoch 260/400\n",
      "1372/1372 [==============================] - 0s 15us/sample - loss: 0.5116 - accuracy: 0.7114\n",
      "Epoch 261/400\n",
      "1372/1372 [==============================] - 0s 14us/sample - loss: 0.5115 - accuracy: 0.7121\n",
      "Epoch 262/400\n",
      "1372/1372 [==============================] - 0s 15us/sample - loss: 0.5116 - accuracy: 0.7128\n",
      "Epoch 263/400\n",
      "1372/1372 [==============================] - 0s 18us/sample - loss: 0.5115 - accuracy: 0.7128\n",
      "Epoch 264/400\n",
      "1372/1372 [==============================] - 0s 16us/sample - loss: 0.5116 - accuracy: 0.7136\n",
      "Epoch 265/400\n",
      "1372/1372 [==============================] - 0s 16us/sample - loss: 0.5117 - accuracy: 0.7121\n",
      "Epoch 266/400\n",
      "1372/1372 [==============================] - 0s 16us/sample - loss: 0.5116 - accuracy: 0.7106\n",
      "Epoch 267/400\n",
      "1372/1372 [==============================] - 0s 16us/sample - loss: 0.5116 - accuracy: 0.7128\n",
      "Epoch 268/400\n",
      "1372/1372 [==============================] - 0s 15us/sample - loss: 0.5116 - accuracy: 0.7106\n",
      "Epoch 269/400\n",
      "1372/1372 [==============================] - 0s 15us/sample - loss: 0.5116 - accuracy: 0.7106\n",
      "Epoch 270/400\n",
      "1372/1372 [==============================] - 0s 15us/sample - loss: 0.5116 - accuracy: 0.7114\n",
      "Epoch 271/400\n",
      "1372/1372 [==============================] - 0s 15us/sample - loss: 0.5116 - accuracy: 0.7106\n",
      "Epoch 272/400\n",
      "1372/1372 [==============================] - 0s 14us/sample - loss: 0.5116 - accuracy: 0.7099\n",
      "Epoch 273/400\n",
      "1372/1372 [==============================] - 0s 15us/sample - loss: 0.5116 - accuracy: 0.7106\n",
      "Epoch 274/400\n",
      "1372/1372 [==============================] - 0s 15us/sample - loss: 0.5116 - accuracy: 0.7106\n",
      "Epoch 275/400\n",
      "1372/1372 [==============================] - 0s 15us/sample - loss: 0.5116 - accuracy: 0.7106\n",
      "Epoch 276/400\n",
      "1372/1372 [==============================] - 0s 15us/sample - loss: 0.5115 - accuracy: 0.7099\n",
      "Epoch 277/400\n",
      "1372/1372 [==============================] - 0s 15us/sample - loss: 0.5116 - accuracy: 0.7106\n",
      "Epoch 278/400\n",
      "1372/1372 [==============================] - 0s 15us/sample - loss: 0.5115 - accuracy: 0.7121\n",
      "Epoch 279/400\n",
      "1372/1372 [==============================] - 0s 15us/sample - loss: 0.5116 - accuracy: 0.7106\n",
      "Epoch 280/400\n",
      "1372/1372 [==============================] - 0s 15us/sample - loss: 0.5115 - accuracy: 0.7114\n",
      "Epoch 281/400\n",
      "1372/1372 [==============================] - 0s 15us/sample - loss: 0.5116 - accuracy: 0.7092\n",
      "Epoch 282/400\n",
      "1372/1372 [==============================] - 0s 17us/sample - loss: 0.5117 - accuracy: 0.7092\n",
      "Epoch 283/400\n",
      "1372/1372 [==============================] - 0s 17us/sample - loss: 0.5115 - accuracy: 0.7128\n",
      "Epoch 284/400\n",
      "1372/1372 [==============================] - 0s 17us/sample - loss: 0.5115 - accuracy: 0.7099\n",
      "Epoch 285/400\n",
      "1372/1372 [==============================] - 0s 16us/sample - loss: 0.5116 - accuracy: 0.7099\n",
      "Epoch 286/400\n",
      "1372/1372 [==============================] - 0s 17us/sample - loss: 0.5116 - accuracy: 0.7121\n",
      "Epoch 287/400\n",
      "1372/1372 [==============================] - 0s 18us/sample - loss: 0.5116 - accuracy: 0.7121\n",
      "Epoch 288/400\n",
      "1372/1372 [==============================] - 0s 17us/sample - loss: 0.5118 - accuracy: 0.7106\n",
      "Epoch 289/400\n",
      "1372/1372 [==============================] - 0s 17us/sample - loss: 0.5116 - accuracy: 0.7099\n",
      "Epoch 290/400\n",
      "1372/1372 [==============================] - 0s 17us/sample - loss: 0.5116 - accuracy: 0.7092\n",
      "Epoch 291/400\n",
      "1372/1372 [==============================] - 0s 17us/sample - loss: 0.5116 - accuracy: 0.7114\n",
      "Epoch 292/400\n",
      "1372/1372 [==============================] - 0s 16us/sample - loss: 0.5116 - accuracy: 0.7114\n",
      "Epoch 293/400\n",
      "1372/1372 [==============================] - 0s 17us/sample - loss: 0.5115 - accuracy: 0.7092\n",
      "Epoch 294/400\n",
      "1372/1372 [==============================] - 0s 16us/sample - loss: 0.5115 - accuracy: 0.7114\n",
      "Epoch 295/400\n",
      "1372/1372 [==============================] - 0s 15us/sample - loss: 0.5117 - accuracy: 0.7121\n",
      "Epoch 296/400\n",
      "1372/1372 [==============================] - 0s 16us/sample - loss: 0.5116 - accuracy: 0.7106\n",
      "Epoch 297/400\n",
      "1372/1372 [==============================] - 0s 15us/sample - loss: 0.5115 - accuracy: 0.7092\n",
      "Epoch 298/400\n",
      "1372/1372 [==============================] - 0s 19us/sample - loss: 0.5115 - accuracy: 0.7099\n",
      "Epoch 299/400\n",
      "1372/1372 [==============================] - 0s 16us/sample - loss: 0.5116 - accuracy: 0.7121\n",
      "Epoch 300/400\n",
      "1372/1372 [==============================] - 0s 15us/sample - loss: 0.5116 - accuracy: 0.7092\n",
      "Epoch 301/400\n",
      "1372/1372 [==============================] - 0s 15us/sample - loss: 0.5116 - accuracy: 0.7099\n",
      "Epoch 302/400\n",
      "1372/1372 [==============================] - 0s 15us/sample - loss: 0.5116 - accuracy: 0.7092\n",
      "Epoch 303/400\n",
      "1372/1372 [==============================] - 0s 15us/sample - loss: 0.5117 - accuracy: 0.7114\n"
     ]
    },
    {
     "name": "stdout",
     "output_type": "stream",
     "text": [
      "Epoch 304/400\n",
      "1372/1372 [==============================] - 0s 16us/sample - loss: 0.5115 - accuracy: 0.7092\n",
      "Epoch 305/400\n",
      "1372/1372 [==============================] - 0s 16us/sample - loss: 0.5116 - accuracy: 0.7092\n",
      "Epoch 306/400\n",
      "1372/1372 [==============================] - 0s 16us/sample - loss: 0.5117 - accuracy: 0.7106\n",
      "Epoch 307/400\n",
      "1372/1372 [==============================] - 0s 15us/sample - loss: 0.5116 - accuracy: 0.7092\n",
      "Epoch 308/400\n",
      "1372/1372 [==============================] - 0s 16us/sample - loss: 0.5116 - accuracy: 0.7092\n",
      "Epoch 309/400\n",
      "1372/1372 [==============================] - 0s 17us/sample - loss: 0.5116 - accuracy: 0.7092\n",
      "Epoch 310/400\n",
      "1372/1372 [==============================] - 0s 16us/sample - loss: 0.5116 - accuracy: 0.7128\n",
      "Epoch 311/400\n",
      "1372/1372 [==============================] - 0s 17us/sample - loss: 0.5115 - accuracy: 0.7114\n",
      "Epoch 312/400\n",
      "1372/1372 [==============================] - 0s 15us/sample - loss: 0.5115 - accuracy: 0.7092\n",
      "Epoch 313/400\n",
      "1372/1372 [==============================] - 0s 15us/sample - loss: 0.5116 - accuracy: 0.7092\n",
      "Epoch 314/400\n",
      "1372/1372 [==============================] - 0s 15us/sample - loss: 0.5116 - accuracy: 0.7092\n",
      "Epoch 315/400\n",
      "1372/1372 [==============================] - 0s 15us/sample - loss: 0.5115 - accuracy: 0.7092\n",
      "Epoch 316/400\n",
      "1372/1372 [==============================] - 0s 15us/sample - loss: 0.5116 - accuracy: 0.7114\n",
      "Epoch 317/400\n",
      "1372/1372 [==============================] - 0s 16us/sample - loss: 0.5116 - accuracy: 0.7085\n",
      "Epoch 318/400\n",
      "1372/1372 [==============================] - 0s 15us/sample - loss: 0.5116 - accuracy: 0.7106\n",
      "Epoch 319/400\n",
      "1372/1372 [==============================] - 0s 18us/sample - loss: 0.5116 - accuracy: 0.7114\n",
      "Epoch 320/400\n",
      "1372/1372 [==============================] - 0s 17us/sample - loss: 0.5116 - accuracy: 0.7114\n",
      "Epoch 321/400\n",
      "1372/1372 [==============================] - 0s 16us/sample - loss: 0.5116 - accuracy: 0.7092\n",
      "Epoch 322/400\n",
      "1372/1372 [==============================] - 0s 16us/sample - loss: 0.5116 - accuracy: 0.7092\n",
      "Epoch 323/400\n",
      "1372/1372 [==============================] - 0s 15us/sample - loss: 0.5115 - accuracy: 0.7092\n",
      "Epoch 324/400\n",
      "1372/1372 [==============================] - 0s 17us/sample - loss: 0.5117 - accuracy: 0.7114\n",
      "Epoch 325/400\n",
      "1372/1372 [==============================] - 0s 17us/sample - loss: 0.5115 - accuracy: 0.7092\n",
      "Epoch 326/400\n",
      "1372/1372 [==============================] - 0s 13us/sample - loss: 0.5116 - accuracy: 0.7092\n",
      "Epoch 327/400\n",
      "1372/1372 [==============================] - 0s 13us/sample - loss: 0.5115 - accuracy: 0.7092\n",
      "Epoch 328/400\n",
      "1372/1372 [==============================] - 0s 13us/sample - loss: 0.5115 - accuracy: 0.7092\n",
      "Epoch 329/400\n",
      "1372/1372 [==============================] - 0s 14us/sample - loss: 0.5117 - accuracy: 0.7099\n",
      "Epoch 330/400\n",
      "1372/1372 [==============================] - 0s 14us/sample - loss: 0.5116 - accuracy: 0.7106\n",
      "Epoch 331/400\n",
      "1372/1372 [==============================] - 0s 14us/sample - loss: 0.5116 - accuracy: 0.7099\n",
      "Epoch 332/400\n",
      "1372/1372 [==============================] - 0s 13us/sample - loss: 0.5115 - accuracy: 0.7085\n",
      "Epoch 333/400\n",
      "1372/1372 [==============================] - 0s 13us/sample - loss: 0.5116 - accuracy: 0.7085\n",
      "Epoch 334/400\n",
      "1372/1372 [==============================] - 0s 14us/sample - loss: 0.5115 - accuracy: 0.7077\n",
      "Epoch 335/400\n",
      "1372/1372 [==============================] - 0s 15us/sample - loss: 0.5115 - accuracy: 0.7092\n",
      "Epoch 336/400\n",
      "1372/1372 [==============================] - 0s 14us/sample - loss: 0.5115 - accuracy: 0.7106\n",
      "Epoch 337/400\n",
      "1372/1372 [==============================] - 0s 14us/sample - loss: 0.5117 - accuracy: 0.7099\n",
      "Epoch 338/400\n",
      "1372/1372 [==============================] - 0s 14us/sample - loss: 0.5116 - accuracy: 0.7085\n",
      "Epoch 339/400\n",
      "1372/1372 [==============================] - 0s 14us/sample - loss: 0.5115 - accuracy: 0.7099\n",
      "Epoch 340/400\n",
      "1372/1372 [==============================] - 0s 14us/sample - loss: 0.5115 - accuracy: 0.7085\n",
      "Epoch 341/400\n",
      "1372/1372 [==============================] - 0s 14us/sample - loss: 0.5115 - accuracy: 0.7092\n",
      "Epoch 342/400\n",
      "1372/1372 [==============================] - 0s 14us/sample - loss: 0.5116 - accuracy: 0.7092\n",
      "Epoch 343/400\n",
      "1372/1372 [==============================] - 0s 15us/sample - loss: 0.5116 - accuracy: 0.7085\n",
      "Epoch 344/400\n",
      "1372/1372 [==============================] - 0s 15us/sample - loss: 0.5116 - accuracy: 0.7085\n",
      "Epoch 345/400\n",
      "1372/1372 [==============================] - 0s 14us/sample - loss: 0.5115 - accuracy: 0.7092\n",
      "Epoch 346/400\n",
      "1372/1372 [==============================] - 0s 14us/sample - loss: 0.5116 - accuracy: 0.7099\n",
      "Epoch 347/400\n",
      "1372/1372 [==============================] - 0s 14us/sample - loss: 0.5116 - accuracy: 0.7077\n",
      "Epoch 348/400\n",
      "1372/1372 [==============================] - 0s 14us/sample - loss: 0.5116 - accuracy: 0.7099\n",
      "Epoch 349/400\n",
      "1372/1372 [==============================] - 0s 15us/sample - loss: 0.5115 - accuracy: 0.7085\n",
      "Epoch 350/400\n",
      "1372/1372 [==============================] - 0s 16us/sample - loss: 0.5116 - accuracy: 0.7092\n",
      "Epoch 351/400\n",
      "1372/1372 [==============================] - 0s 18us/sample - loss: 0.5115 - accuracy: 0.7092\n",
      "Epoch 352/400\n",
      "1372/1372 [==============================] - 0s 16us/sample - loss: 0.5116 - accuracy: 0.7092\n",
      "Epoch 353/400\n",
      "1372/1372 [==============================] - 0s 14us/sample - loss: 0.5116 - accuracy: 0.7085\n",
      "Epoch 354/400\n",
      "1372/1372 [==============================] - 0s 14us/sample - loss: 0.5115 - accuracy: 0.7085\n",
      "Epoch 355/400\n",
      "1372/1372 [==============================] - 0s 13us/sample - loss: 0.5117 - accuracy: 0.7085\n",
      "Epoch 356/400\n",
      "1372/1372 [==============================] - 0s 14us/sample - loss: 0.5116 - accuracy: 0.7085\n",
      "Epoch 357/400\n",
      "1372/1372 [==============================] - 0s 14us/sample - loss: 0.5116 - accuracy: 0.7092\n",
      "Epoch 358/400\n",
      "1372/1372 [==============================] - 0s 14us/sample - loss: 0.5116 - accuracy: 0.7077\n",
      "Epoch 359/400\n",
      "1372/1372 [==============================] - 0s 14us/sample - loss: 0.5116 - accuracy: 0.7106\n",
      "Epoch 360/400\n",
      "1372/1372 [==============================] - 0s 14us/sample - loss: 0.5116 - accuracy: 0.7077\n",
      "Epoch 361/400\n",
      "1372/1372 [==============================] - 0s 13us/sample - loss: 0.5117 - accuracy: 0.7092\n",
      "Epoch 362/400\n",
      "1372/1372 [==============================] - 0s 14us/sample - loss: 0.5117 - accuracy: 0.7092\n",
      "Epoch 363/400\n",
      "1372/1372 [==============================] - 0s 14us/sample - loss: 0.5116 - accuracy: 0.7114\n",
      "Epoch 364/400\n",
      "1372/1372 [==============================] - 0s 14us/sample - loss: 0.5116 - accuracy: 0.7092\n",
      "Epoch 365/400\n",
      "1372/1372 [==============================] - 0s 14us/sample - loss: 0.5116 - accuracy: 0.7077\n",
      "Epoch 366/400\n",
      "1372/1372 [==============================] - 0s 14us/sample - loss: 0.5116 - accuracy: 0.7106\n",
      "Epoch 367/400\n",
      "1372/1372 [==============================] - 0s 14us/sample - loss: 0.5115 - accuracy: 0.7077\n",
      "Epoch 368/400\n",
      "1372/1372 [==============================] - 0s 14us/sample - loss: 0.5116 - accuracy: 0.7085\n",
      "Epoch 369/400\n",
      "1372/1372 [==============================] - 0s 14us/sample - loss: 0.5117 - accuracy: 0.7092\n",
      "Epoch 370/400\n",
      "1372/1372 [==============================] - 0s 15us/sample - loss: 0.5115 - accuracy: 0.7085\n",
      "Epoch 371/400\n",
      "1372/1372 [==============================] - 0s 14us/sample - loss: 0.5116 - accuracy: 0.7092\n",
      "Epoch 372/400\n",
      "1372/1372 [==============================] - 0s 15us/sample - loss: 0.5116 - accuracy: 0.7092\n",
      "Epoch 373/400\n",
      "1372/1372 [==============================] - 0s 14us/sample - loss: 0.5116 - accuracy: 0.7085\n",
      "Epoch 374/400\n",
      "1372/1372 [==============================] - 0s 14us/sample - loss: 0.5116 - accuracy: 0.7106\n",
      "Epoch 375/400\n",
      "1372/1372 [==============================] - 0s 14us/sample - loss: 0.5116 - accuracy: 0.7092\n",
      "Epoch 376/400\n",
      "1372/1372 [==============================] - 0s 14us/sample - loss: 0.5116 - accuracy: 0.7092\n",
      "Epoch 377/400\n",
      "1372/1372 [==============================] - 0s 14us/sample - loss: 0.5115 - accuracy: 0.7085\n",
      "Epoch 378/400\n",
      "1372/1372 [==============================] - 0s 16us/sample - loss: 0.5115 - accuracy: 0.7085\n",
      "Epoch 379/400\n",
      "1372/1372 [==============================] - 0s 15us/sample - loss: 0.5116 - accuracy: 0.7085\n",
      "Epoch 380/400\n",
      "1372/1372 [==============================] - 0s 15us/sample - loss: 0.5116 - accuracy: 0.7077\n",
      "Epoch 381/400\n",
      "1372/1372 [==============================] - 0s 15us/sample - loss: 0.5116 - accuracy: 0.7085\n",
      "Epoch 382/400\n",
      "1372/1372 [==============================] - 0s 14us/sample - loss: 0.5116 - accuracy: 0.7092\n",
      "Epoch 383/400\n",
      "1372/1372 [==============================] - 0s 14us/sample - loss: 0.5116 - accuracy: 0.7099\n",
      "Epoch 384/400\n",
      "1372/1372 [==============================] - 0s 15us/sample - loss: 0.5116 - accuracy: 0.7092\n",
      "Epoch 385/400\n",
      "1372/1372 [==============================] - 0s 15us/sample - loss: 0.5116 - accuracy: 0.7092\n",
      "Epoch 386/400\n",
      "1372/1372 [==============================] - 0s 16us/sample - loss: 0.5116 - accuracy: 0.7092\n",
      "Epoch 387/400\n",
      "1372/1372 [==============================] - 0s 15us/sample - loss: 0.5116 - accuracy: 0.7099\n",
      "Epoch 388/400\n",
      "1372/1372 [==============================] - 0s 14us/sample - loss: 0.5116 - accuracy: 0.7092\n",
      "Epoch 389/400\n",
      "1372/1372 [==============================] - 0s 15us/sample - loss: 0.5116 - accuracy: 0.7092\n",
      "Epoch 390/400\n",
      "1372/1372 [==============================] - 0s 15us/sample - loss: 0.5115 - accuracy: 0.7085\n",
      "Epoch 391/400\n",
      "1372/1372 [==============================] - 0s 15us/sample - loss: 0.5115 - accuracy: 0.7085\n",
      "Epoch 392/400\n",
      "1372/1372 [==============================] - 0s 15us/sample - loss: 0.5115 - accuracy: 0.7085\n",
      "Epoch 393/400\n",
      "1372/1372 [==============================] - 0s 16us/sample - loss: 0.5115 - accuracy: 0.7077\n",
      "Epoch 394/400\n",
      "1372/1372 [==============================] - 0s 15us/sample - loss: 0.5115 - accuracy: 0.7085\n",
      "Epoch 395/400\n",
      "1372/1372 [==============================] - 0s 15us/sample - loss: 0.5116 - accuracy: 0.7085\n",
      "Epoch 396/400\n",
      "1372/1372 [==============================] - 0s 16us/sample - loss: 0.5115 - accuracy: 0.7085\n",
      "Epoch 397/400\n",
      "1372/1372 [==============================] - 0s 16us/sample - loss: 0.5117 - accuracy: 0.7077\n",
      "Epoch 398/400\n",
      "1372/1372 [==============================] - 0s 16us/sample - loss: 0.5116 - accuracy: 0.7085\n",
      "Epoch 399/400\n",
      "1372/1372 [==============================] - 0s 15us/sample - loss: 0.5115 - accuracy: 0.7099\n",
      "Epoch 400/400\n",
      "1372/1372 [==============================] - 0s 15us/sample - loss: 0.5115 - accuracy: 0.7085\n"
     ]
    }
   ],
   "source": [
    "model = Sequential([Dense(1, batch_input_shape=(None, 2),activation='sigmoid')])\n",
    "model.compile(optimizer='sgd', loss='binary_crossentropy', learning_rate=0.15, metrics=['accuracy'])\n",
    "history = model.fit(X, Y, epochs=400, batch_size=128)"
   ]
  },
  {
   "cell_type": "code",
   "execution_count": 14,
   "metadata": {},
   "outputs": [
    {
     "name": "stdout",
     "output_type": "stream",
     "text": [
      "Ending accuracy:  0.7084548\n"
     ]
    },
    {
     "data": {
      "image/png": "[encoded data removed]",
      "text/plain": [
       "<Figure size 432x288 with 1 Axes>"
      ]
     },
     "metadata": {
      "needs_background": "light"
     },
     "output_type": "display_data"
    }
   ],
   "source": [
    "pyplot.plot(history.history['accuracy'])\n",
    "pyplot.title('Model Accuracy')\n",
    "pyplot.ylabel('Accuracy')\n",
    "pyplot.xlabel('Epoch')\n",
    "print(\"Ending accuracy: \", history.history['accuracy'][-1])"
   ]
  },
  {
   "cell_type": "code",
   "execution_count": 13,
   "metadata": {},
   "outputs": [
    {
     "data": {
      "text/plain": [
       "Text(0.5, 0, 'Epoch')"
      ]
     },
     "execution_count": 13,
     "metadata": {},
     "output_type": "execute_result"
    },
    {
     "data": {
      "image/png": "[encoded data removed]",
      "text/plain": [
       "<Figure size 432x288 with 1 Axes>"
      ]
     },
     "metadata": {
      "needs_background": "light"
     },
     "output_type": "display_data"
    }
   ],
   "source": [
    "pyplot.plot(history.history['loss'])\n",
    "pyplot.title('Model Loss')\n",
    "pyplot.ylabel('Loss')\n",
    "pyplot.xlabel('Epoch')"
   ]
  },
  {
   "cell_type": "markdown",
   "metadata": {},
   "source": [
    "**Question: Is the logistic regresion working well?** <br/> Response: As can be seen from the above graphs, the minimized loss is close to 0 and the resulting accuracy in ~71%. This would be better than linear regression, however this is not a strong accuracy and could likely be improved."
   ]
  },
  {
   "cell_type": "markdown",
   "metadata": {},
   "source": [
    "## 6.3 - Visualize"
   ]
  },
  {
   "cell_type": "code",
   "execution_count": 15,
   "metadata": {},
   "outputs": [
    {
     "name": "stdout",
     "output_type": "stream",
     "text": [
      "(2500, 2)\n"
     ]
    },
    {
     "data": {
      "text/plain": [
       "<matplotlib.colorbar.Colorbar at 0x6400dc750>"
      ]
     },
     "execution_count": 15,
     "metadata": {},
     "output_type": "execute_result"
    },
    {
     "data": {
      "image/png": "[encoded data removed]",
      "text/plain": [
       "<Figure size 432x288 with 2 Axes>"
      ]
     },
     "metadata": {
      "needs_background": "light"
     },
     "output_type": "display_data"
    }
   ],
   "source": [
    "x1list = np.linspace(np.min(X[:,0])-2, np.max(X[:,0])+2, 50) # Define 50 points on the x1-axis\n",
    "x2list = np.linspace(np.min(X[:,1])-2, np.max(X[:,1])+2, 50) # Define 50 points on the x2-axis\n",
    "\n",
    "x1, x2 = np.meshgrid(x1list, x2list)\n",
    "x1f = x1.flatten()\n",
    "x2f = x2.flatten()\n",
    "vector = np.array([x1f,x2f]).T\n",
    "print(vector.shape)\n",
    "pred = model.predict(vector)\n",
    "pred_r = pred.reshape(50,50)\n",
    "\n",
    "pyplot.contourf(x1, x2, pred_r);\n",
    "pyplot.scatter(X_real[:,0], X_real[:,1], color='red', label='Real')\n",
    "pyplot.scatter(X_fake[:,0], X_fake[:,1], color='black',label='Fake')\n",
    "pyplot.xlabel('X1: Skewness of wavelet transformed image')\n",
    "pyplot.ylabel('X2: Entropy of wavelet transformed image')\n",
    "pyplot.title('Fraud Detection Original Data')\n",
    "pyplot.legend()\n",
    "pyplot.colorbar()"
   ]
  },
  {
   "cell_type": "markdown",
   "metadata": {},
   "source": [
    "**Question: Comment on your observations.** <br/> Response: As can be seen, the model is not very accurate. It is not properly predicting areas of real data (which should be yellow) and areas of fake data (which sould be purple)."
   ]
  },
  {
   "cell_type": "markdown",
   "metadata": {},
   "source": [
    "## 6.4 - Use Hidden Layer to Improve the Model"
   ]
  },
  {
   "cell_type": "code",
   "execution_count": 24,
   "metadata": {},
   "outputs": [],
   "source": [
    "# Convert to one-hot encoding\n",
    "from tensorflow.keras.utils import to_categorical \n",
    "Y_c=to_categorical(Y,2)"
   ]
  },
  {
   "cell_type": "code",
   "execution_count": 25,
   "metadata": {},
   "outputs": [],
   "source": [
    "from tensorflow.keras import layers\n",
    "model = Sequential([\n",
    "    layers.Dense(8, batch_input_shape=(None, 2),activation='sigmoid'),\n",
    "    layers.Dense(2,activation='softmax')\n",
    "])\n",
    "\n",
    "model.compile(optimizer='sgd', loss='categorical_crossentropy', learning_rate=0.15, metrics=['accuracy'])\n",
    "history = model.fit(X, Y_c, epochs=400, batch_size=128,verbose=0)"
   ]
  },
  {
   "cell_type": "code",
   "execution_count": 26,
   "metadata": {},
   "outputs": [
    {
     "data": {
      "text/plain": [
       "Text(0.5, 0, 'Epoch')"
      ]
     },
     "execution_count": 26,
     "metadata": {},
     "output_type": "execute_result"
    },
    {
     "data": {
      "image/png": "[encoded data removed]",
      "text/plain": [
       "<Figure size 432x288 with 1 Axes>"
      ]
     },
     "metadata": {
      "needs_background": "light"
     },
     "output_type": "display_data"
    }
   ],
   "source": [
    "pyplot.plot(history.history['accuracy'])\n",
    "pyplot.title('Model Accuracy')\n",
    "pyplot.ylabel('Accuracy')\n",
    "pyplot.xlabel('Epoch')"
   ]
  },
  {
   "cell_type": "code",
   "execution_count": 27,
   "metadata": {},
   "outputs": [
    {
     "name": "stdout",
     "output_type": "stream",
     "text": [
      "Ending accuracy:  0.7849854\n"
     ]
    }
   ],
   "source": [
    "print(\"Ending accuracy: \", history.history['accuracy'][-1])"
   ]
  },
  {
   "cell_type": "code",
   "execution_count": 28,
   "metadata": {},
   "outputs": [
    {
     "data": {
      "text/plain": [
       "Text(0.5, 0, 'Epoch')"
      ]
     },
     "execution_count": 28,
     "metadata": {},
     "output_type": "execute_result"
    },
    {
     "data": {
      "image/png": "[encoded data removed]",
      "text/plain": [
       "<Figure size 432x288 with 1 Axes>"
      ]
     },
     "metadata": {
      "needs_background": "light"
     },
     "output_type": "display_data"
    }
   ],
   "source": [
    "pyplot.plot(history.history['loss'])\n",
    "pyplot.title('Model Loss')\n",
    "pyplot.ylabel('Loss')\n",
    "pyplot.xlabel('Epoch')"
   ]
  },
  {
   "cell_type": "markdown",
   "metadata": {},
   "source": [
    "**Question: Comment on your observations.** <br/> As can be seen from the graphs above, the ending acccuracy of the model has increased to ~78%, which is a 7% improvement compared to the neural network with no hidden layer. The loss is also ending close to 0. Therefore, we can conclude that the model has improved."
   ]
  },
  {
   "cell_type": "markdown",
   "metadata": {},
   "source": [
    "## 6.5 - Contour Plot of Training with Hidden Layer"
   ]
  },
  {
   "cell_type": "code",
   "execution_count": 29,
   "metadata": {},
   "outputs": [
    {
     "data": {
      "text/plain": [
       "<matplotlib.colorbar.Colorbar at 0x63fada050>"
      ]
     },
     "execution_count": 29,
     "metadata": {},
     "output_type": "execute_result"
    },
    {
     "data": {
      "image/png": "[encoded data removed]",
      "text/plain": [
       "<Figure size 432x288 with 2 Axes>"
      ]
     },
     "metadata": {
      "needs_background": "light"
     },
     "output_type": "display_data"
    }
   ],
   "source": [
    "x1list = np.linspace(np.min(X[:,0])-2, np.max(X[:,0])+2, 50) # Define 50 points on the x1-axis\n",
    "x2list = np.linspace(np.min(X[:,1])-2, np.max(X[:,1])+2, 50) # Define 50 points on the x2-axis\n",
    "\n",
    "x1, x2 = np.meshgrid(x1list, x2list)\n",
    "x1f = x1.flatten()\n",
    "x2f = x2.flatten()\n",
    "vector = np.array([x1f,x2f]).T\n",
    "prediction = model.predict(vector)\n",
    "prediction_reshaped = prediction[:,0].reshape(50,50)\n",
    "\n",
    "pyplot.contourf(x1, x2, prediction_reshaped)\n",
    "pyplot.scatter(X_real[:,0], X_real[:,1], color='red', label='Real')\n",
    "pyplot.scatter(X_fake[:,0], X_fake[:,1], color='black',label='Fake')\n",
    "pyplot.xlabel('X1: Skewness of wavelet transformed image')\n",
    "pyplot.ylabel('X2: Entropy of wavelet transformed image')\n",
    "pyplot.title('Fraud Detection')\n",
    "pyplot.legend()\n",
    "pyplot.colorbar()"
   ]
  },
  {
   "cell_type": "markdown",
   "metadata": {},
   "source": [
    "**Question: Comment on your observations.** <br/> Response: As can be seen, the model accuracy has improved. It is better predicting areas of real data as green or yellow and areas of fake data as blue or purple."
   ]
  }
 ],
 "metadata": {
  "kernelspec": {
   "display_name": "Python 3",
   "language": "python",
   "name": "python3"
  },
  "language_info": {
   "codemirror_mode": {
    "name": "ipython",
    "version": 3
   },
   "file_extension": ".py",
   "mimetype": "text/x-python",
   "name": "python",
   "nbconvert_exporter": "python",
   "pygments_lexer": "ipython3",
   "version": "3.7.3"
  }
 },
 "nbformat": 4,
 "nbformat_minor": 4
}
